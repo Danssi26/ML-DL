{
  "nbformat": 4,
  "nbformat_minor": 0,
  "metadata": {
    "colab": {
      "provenance": []
    },
    "kernelspec": {
      "name": "python3",
      "display_name": "Python 3"
    },
    "language_info": {
      "name": "python"
    },
    "accelerator": "GPU",
    "gpuClass": "standard"
  },
  "cells": [
    {
      "cell_type": "code",
      "execution_count": 1,
      "metadata": {
        "colab": {
          "base_uri": "https://localhost:8080/"
        },
        "id": "0FtINC6TbH2A",
        "outputId": "b23de735-8194-43d0-c998-9e54be3d0e7c"
      },
      "outputs": [
        {
          "output_type": "stream",
          "name": "stdout",
          "text": [
            "/content/drive/MyDrive/ML_DL_STUDY/File_List/glasses-noglasses/.DS_Store\n",
            "/content/drive/MyDrive/ML_DL_STUDY/File_List/glasses-noglasses/train/.DS_Store\n",
            "/content/drive/MyDrive/ML_DL_STUDY/File_List/glasses-noglasses/train/glasses/row-3-column-7.jpg\n",
            "/content/drive/MyDrive/ML_DL_STUDY/File_List/glasses-noglasses/train/glasses/row-4-column-1.jpg\n",
            "/content/drive/MyDrive/ML_DL_STUDY/File_List/glasses-noglasses/train/glasses/row-1-column-6.jpg\n",
            "/content/drive/MyDrive/ML_DL_STUDY/File_List/glasses-noglasses/train/glasses/row-1-column-9.jpg\n",
            "/content/drive/MyDrive/ML_DL_STUDY/File_List/glasses-noglasses/train/glasses/row-5-column-4.jpg\n",
            "/content/drive/MyDrive/ML_DL_STUDY/File_List/glasses-noglasses/train/glasses/row-4-column-2.jpg\n",
            "/content/drive/MyDrive/ML_DL_STUDY/File_List/glasses-noglasses/train/glasses/row-4-column-3.jpg\n",
            "/content/drive/MyDrive/ML_DL_STUDY/File_List/glasses-noglasses/train/glasses/row-4-column-10.jpg\n",
            "/content/drive/MyDrive/ML_DL_STUDY/File_List/glasses-noglasses/train/glasses/row-5-column-2.jpg\n",
            "/content/drive/MyDrive/ML_DL_STUDY/File_List/glasses-noglasses/train/glasses/row-3-column-6.jpg\n",
            "/content/drive/MyDrive/ML_DL_STUDY/File_List/glasses-noglasses/train/glasses/row-1-column-11.jpg\n",
            "/content/drive/MyDrive/ML_DL_STUDY/File_List/glasses-noglasses/train/glasses/row-4-column-6.jpg\n",
            "/content/drive/MyDrive/ML_DL_STUDY/File_List/glasses-noglasses/train/glasses/row-3-column-12.jpg\n",
            "/content/drive/MyDrive/ML_DL_STUDY/File_List/glasses-noglasses/train/glasses/row-1-column-1.jpg\n",
            "/content/drive/MyDrive/ML_DL_STUDY/File_List/glasses-noglasses/train/glasses/row-3-column-2.jpg\n",
            "/content/drive/MyDrive/ML_DL_STUDY/File_List/glasses-noglasses/train/glasses/row-3-column-4.jpg\n",
            "/content/drive/MyDrive/ML_DL_STUDY/File_List/glasses-noglasses/train/glasses/row-4-column-9.jpg\n",
            "/content/drive/MyDrive/ML_DL_STUDY/File_List/glasses-noglasses/train/glasses/row-3-column-8.jpg\n",
            "/content/drive/MyDrive/ML_DL_STUDY/File_List/glasses-noglasses/train/glasses/row-3-column-9.jpg\n",
            "/content/drive/MyDrive/ML_DL_STUDY/File_List/glasses-noglasses/train/glasses/row-1-column-5.jpg\n",
            "/content/drive/MyDrive/ML_DL_STUDY/File_List/glasses-noglasses/train/glasses/row-4-column-11.jpg\n",
            "/content/drive/MyDrive/ML_DL_STUDY/File_List/glasses-noglasses/train/glasses/row-2-column-11.jpg\n",
            "/content/drive/MyDrive/ML_DL_STUDY/File_List/glasses-noglasses/train/glasses/row-2-column-8.jpg\n",
            "/content/drive/MyDrive/ML_DL_STUDY/File_List/glasses-noglasses/train/glasses/row-2-column-6.jpg\n",
            "/content/drive/MyDrive/ML_DL_STUDY/File_List/glasses-noglasses/train/glasses/row-1-column-10.jpg\n",
            "/content/drive/MyDrive/ML_DL_STUDY/File_List/glasses-noglasses/train/glasses/row-2-column-10.jpg\n",
            "/content/drive/MyDrive/ML_DL_STUDY/File_List/glasses-noglasses/train/glasses/row-3-column-3.jpg\n",
            "/content/drive/MyDrive/ML_DL_STUDY/File_List/glasses-noglasses/train/glasses/row-1-column-12.jpg\n",
            "/content/drive/MyDrive/ML_DL_STUDY/File_List/glasses-noglasses/train/glasses/row-3-column-11.jpg\n",
            "/content/drive/MyDrive/ML_DL_STUDY/File_List/glasses-noglasses/train/glasses/row-4-column-12.jpg\n",
            "/content/drive/MyDrive/ML_DL_STUDY/File_List/glasses-noglasses/train/glasses/row-2-column-9.jpg\n",
            "/content/drive/MyDrive/ML_DL_STUDY/File_List/glasses-noglasses/train/glasses/row-5-column-3.jpg\n",
            "/content/drive/MyDrive/ML_DL_STUDY/File_List/glasses-noglasses/train/glasses/row-1-column-4.jpg\n",
            "/content/drive/MyDrive/ML_DL_STUDY/File_List/glasses-noglasses/train/glasses/row-1-column-2.jpg\n",
            "/content/drive/MyDrive/ML_DL_STUDY/File_List/glasses-noglasses/train/glasses/row-2-column-5.jpg\n",
            "/content/drive/MyDrive/ML_DL_STUDY/File_List/glasses-noglasses/train/glasses/row-3-column-1.jpg\n",
            "/content/drive/MyDrive/ML_DL_STUDY/File_List/glasses-noglasses/train/glasses/row-1-column-7.jpg\n",
            "/content/drive/MyDrive/ML_DL_STUDY/File_List/glasses-noglasses/train/glasses/row-2-column-2.jpg\n",
            "/content/drive/MyDrive/ML_DL_STUDY/File_List/glasses-noglasses/train/glasses/row-2-column-7.jpg\n",
            "/content/drive/MyDrive/ML_DL_STUDY/File_List/glasses-noglasses/train/glasses/row-4-column-8.jpg\n",
            "/content/drive/MyDrive/ML_DL_STUDY/File_List/glasses-noglasses/train/glasses/row-4-column-4.jpg\n",
            "/content/drive/MyDrive/ML_DL_STUDY/File_List/glasses-noglasses/train/glasses/row-2-column-12.jpg\n",
            "/content/drive/MyDrive/ML_DL_STUDY/File_List/glasses-noglasses/train/glasses/row-5-column-1.jpg\n",
            "/content/drive/MyDrive/ML_DL_STUDY/File_List/glasses-noglasses/train/glasses/row-3-column-10.jpg\n",
            "/content/drive/MyDrive/ML_DL_STUDY/File_List/glasses-noglasses/train/glasses/row-3-column-5.jpg\n",
            "/content/drive/MyDrive/ML_DL_STUDY/File_List/glasses-noglasses/train/glasses/row-2-column-1.jpg\n",
            "/content/drive/MyDrive/ML_DL_STUDY/File_List/glasses-noglasses/train/glasses/row-1-column-8.jpg\n",
            "/content/drive/MyDrive/ML_DL_STUDY/File_List/glasses-noglasses/train/glasses/row-4-column-5.jpg\n",
            "/content/drive/MyDrive/ML_DL_STUDY/File_List/glasses-noglasses/train/glasses/row-4-column-7.jpg\n",
            "/content/drive/MyDrive/ML_DL_STUDY/File_List/glasses-noglasses/train/glasses/row-2-column-4.jpg\n",
            "/content/drive/MyDrive/ML_DL_STUDY/File_List/glasses-noglasses/train/glasses/row-1-column-3.jpg\n",
            "/content/drive/MyDrive/ML_DL_STUDY/File_List/glasses-noglasses/train/glasses/row-2-column-3.jpg\n",
            "/content/drive/MyDrive/ML_DL_STUDY/File_List/glasses-noglasses/train/noglasses/row-10-column-12.jpg\n",
            "/content/drive/MyDrive/ML_DL_STUDY/File_List/glasses-noglasses/train/noglasses/row-8-column-7.jpg\n",
            "/content/drive/MyDrive/ML_DL_STUDY/File_List/glasses-noglasses/train/noglasses/row-11-column-4.jpg\n",
            "/content/drive/MyDrive/ML_DL_STUDY/File_List/glasses-noglasses/train/noglasses/row-9-column-10.jpg\n",
            "/content/drive/MyDrive/ML_DL_STUDY/File_List/glasses-noglasses/train/noglasses/row-10-column-2.jpg\n",
            "/content/drive/MyDrive/ML_DL_STUDY/File_List/glasses-noglasses/train/noglasses/row-8-column-3.jpg\n",
            "/content/drive/MyDrive/ML_DL_STUDY/File_List/glasses-noglasses/train/noglasses/row-8-column-6.jpg\n",
            "/content/drive/MyDrive/ML_DL_STUDY/File_List/glasses-noglasses/train/noglasses/row-9-column-4.jpg\n",
            "/content/drive/MyDrive/ML_DL_STUDY/File_List/glasses-noglasses/train/noglasses/row-7-column-3.jpg\n",
            "/content/drive/MyDrive/ML_DL_STUDY/File_List/glasses-noglasses/train/noglasses/row-7-column-1.jpg\n",
            "/content/drive/MyDrive/ML_DL_STUDY/File_List/glasses-noglasses/train/noglasses/row-7-column-10.jpg\n",
            "/content/drive/MyDrive/ML_DL_STUDY/File_List/glasses-noglasses/train/noglasses/row-11-column-3.jpg\n",
            "/content/drive/MyDrive/ML_DL_STUDY/File_List/glasses-noglasses/train/noglasses/row-9-column-6.jpg\n",
            "/content/drive/MyDrive/ML_DL_STUDY/File_List/glasses-noglasses/train/noglasses/row-10-column-11.jpg\n",
            "/content/drive/MyDrive/ML_DL_STUDY/File_List/glasses-noglasses/train/noglasses/row-10-column-6.jpg\n",
            "/content/drive/MyDrive/ML_DL_STUDY/File_List/glasses-noglasses/train/noglasses/row-9-column-12.jpg\n",
            "/content/drive/MyDrive/ML_DL_STUDY/File_List/glasses-noglasses/train/noglasses/row-7-column-8.jpg\n",
            "/content/drive/MyDrive/ML_DL_STUDY/File_List/glasses-noglasses/train/noglasses/row-8-column-12.jpg\n",
            "/content/drive/MyDrive/ML_DL_STUDY/File_List/glasses-noglasses/train/noglasses/row-7-column-12.jpg\n",
            "/content/drive/MyDrive/ML_DL_STUDY/File_List/glasses-noglasses/train/noglasses/row-9-column-9.jpg\n",
            "/content/drive/MyDrive/ML_DL_STUDY/File_List/glasses-noglasses/train/noglasses/row-7-column-6.jpg\n",
            "/content/drive/MyDrive/ML_DL_STUDY/File_List/glasses-noglasses/train/noglasses/row-7-column-4.jpg\n",
            "/content/drive/MyDrive/ML_DL_STUDY/File_List/glasses-noglasses/train/noglasses/row-9-column-8.jpg\n",
            "/content/drive/MyDrive/ML_DL_STUDY/File_List/glasses-noglasses/train/noglasses/row-11-column-1.jpg\n",
            "/content/drive/MyDrive/ML_DL_STUDY/File_List/glasses-noglasses/train/noglasses/row-8-column-10.jpg\n",
            "/content/drive/MyDrive/ML_DL_STUDY/File_List/glasses-noglasses/train/noglasses/row-9-column-1.jpg\n",
            "/content/drive/MyDrive/ML_DL_STUDY/File_List/glasses-noglasses/train/noglasses/row-9-column-3.jpg\n",
            "/content/drive/MyDrive/ML_DL_STUDY/File_List/glasses-noglasses/train/noglasses/row-7-column-9.jpg\n",
            "/content/drive/MyDrive/ML_DL_STUDY/File_List/glasses-noglasses/train/noglasses/row-7-column-2.jpg\n",
            "/content/drive/MyDrive/ML_DL_STUDY/File_List/glasses-noglasses/train/noglasses/row-10-column-1.jpg\n",
            "/content/drive/MyDrive/ML_DL_STUDY/File_List/glasses-noglasses/train/noglasses/row-10-column-4.jpg\n",
            "/content/drive/MyDrive/ML_DL_STUDY/File_List/glasses-noglasses/train/noglasses/row-10-column-8.jpg\n",
            "/content/drive/MyDrive/ML_DL_STUDY/File_List/glasses-noglasses/train/noglasses/row-9-column-2.jpg\n",
            "/content/drive/MyDrive/ML_DL_STUDY/File_List/glasses-noglasses/train/noglasses/row-7-column-11.jpg\n",
            "/content/drive/MyDrive/ML_DL_STUDY/File_List/glasses-noglasses/train/noglasses/row-7-column-7.jpg\n",
            "/content/drive/MyDrive/ML_DL_STUDY/File_List/glasses-noglasses/train/noglasses/row-8-column-8.jpg\n",
            "/content/drive/MyDrive/ML_DL_STUDY/File_List/glasses-noglasses/train/noglasses/row-8-column-5.jpg\n",
            "/content/drive/MyDrive/ML_DL_STUDY/File_List/glasses-noglasses/train/noglasses/row-7-column-5.jpg\n",
            "/content/drive/MyDrive/ML_DL_STUDY/File_List/glasses-noglasses/train/noglasses/row-11-column-2.jpg\n",
            "/content/drive/MyDrive/ML_DL_STUDY/File_List/glasses-noglasses/train/noglasses/row-10-column-9.jpg\n",
            "/content/drive/MyDrive/ML_DL_STUDY/File_List/glasses-noglasses/train/noglasses/row-8-column-11.jpg\n",
            "/content/drive/MyDrive/ML_DL_STUDY/File_List/glasses-noglasses/train/noglasses/row-10-column-3.jpg\n",
            "/content/drive/MyDrive/ML_DL_STUDY/File_List/glasses-noglasses/train/noglasses/row-10-column-5.jpg\n",
            "/content/drive/MyDrive/ML_DL_STUDY/File_List/glasses-noglasses/train/noglasses/row-9-column-11.jpg\n",
            "/content/drive/MyDrive/ML_DL_STUDY/File_List/glasses-noglasses/train/noglasses/row-8-column-1.jpg\n",
            "/content/drive/MyDrive/ML_DL_STUDY/File_List/glasses-noglasses/train/noglasses/row-10-column-10.jpg\n",
            "/content/drive/MyDrive/ML_DL_STUDY/File_List/glasses-noglasses/train/noglasses/row-9-column-7.jpg\n",
            "/content/drive/MyDrive/ML_DL_STUDY/File_List/glasses-noglasses/train/noglasses/row-10-column-7.jpg\n",
            "/content/drive/MyDrive/ML_DL_STUDY/File_List/glasses-noglasses/train/noglasses/row-8-column-2.jpg\n",
            "/content/drive/MyDrive/ML_DL_STUDY/File_List/glasses-noglasses/train/noglasses/row-8-column-4.jpg\n",
            "/content/drive/MyDrive/ML_DL_STUDY/File_List/glasses-noglasses/train/noglasses/row-9-column-5.jpg\n",
            "/content/drive/MyDrive/ML_DL_STUDY/File_List/glasses-noglasses/train/noglasses/row-8-column-9.jpg\n",
            "/content/drive/MyDrive/ML_DL_STUDY/File_List/glasses-noglasses/test/row-7-column-6.jpg\n",
            "/content/drive/MyDrive/ML_DL_STUDY/File_List/glasses-noglasses/test/row-7-column-5.jpg\n",
            "/content/drive/MyDrive/ML_DL_STUDY/File_List/glasses-noglasses/test/row-7-column-10.jpg\n",
            "/content/drive/MyDrive/ML_DL_STUDY/File_List/glasses-noglasses/test/row-7-column-2.jpg\n",
            "/content/drive/MyDrive/ML_DL_STUDY/File_List/glasses-noglasses/test/row-1-column-2.jpg\n",
            "/content/drive/MyDrive/ML_DL_STUDY/File_List/glasses-noglasses/test/row-1-column-4.jpg\n",
            "/content/drive/MyDrive/ML_DL_STUDY/File_List/glasses-noglasses/test/row-1-column-6.jpg\n",
            "/content/drive/MyDrive/ML_DL_STUDY/File_List/glasses-noglasses/test/row-7-column-1.jpg\n",
            "/content/drive/MyDrive/ML_DL_STUDY/File_List/glasses-noglasses/test/row-1-column-1.jpg\n",
            "/content/drive/MyDrive/ML_DL_STUDY/File_List/glasses-noglasses/test/row-7-column-9.jpg\n",
            "/content/drive/MyDrive/ML_DL_STUDY/File_List/glasses-noglasses/test/row-1-column-9.jpg\n",
            "/content/drive/MyDrive/ML_DL_STUDY/File_List/glasses-noglasses/test/row-1-column-8.jpg\n",
            "/content/drive/MyDrive/ML_DL_STUDY/File_List/glasses-noglasses/test/row-1-column-5.jpg\n",
            "/content/drive/MyDrive/ML_DL_STUDY/File_List/glasses-noglasses/test/row-1-column-10.jpg\n",
            "/content/drive/MyDrive/ML_DL_STUDY/File_List/glasses-noglasses/test/row-1-column-7.jpg\n",
            "/content/drive/MyDrive/ML_DL_STUDY/File_List/glasses-noglasses/test/row-7-column-7.jpg\n",
            "/content/drive/MyDrive/ML_DL_STUDY/File_List/glasses-noglasses/test/row-7-column-4.jpg\n",
            "/content/drive/MyDrive/ML_DL_STUDY/File_List/glasses-noglasses/test/row-7-column-3.jpg\n",
            "/content/drive/MyDrive/ML_DL_STUDY/File_List/glasses-noglasses/test/row-1-column-3.jpg\n",
            "/content/drive/MyDrive/ML_DL_STUDY/File_List/glasses-noglasses/test/row-7-column-8.jpg\n",
            "/content/drive/MyDrive/ML_DL_STUDY/File_List/glasses-noglasses/validate/glasses/row-6-column-11.jpg\n",
            "/content/drive/MyDrive/ML_DL_STUDY/File_List/glasses-noglasses/validate/glasses/row-6-column-10.jpg\n",
            "/content/drive/MyDrive/ML_DL_STUDY/File_List/glasses-noglasses/validate/glasses/row-6-column-2.jpg\n",
            "/content/drive/MyDrive/ML_DL_STUDY/File_List/glasses-noglasses/validate/glasses/row-5-column-5.jpg\n",
            "/content/drive/MyDrive/ML_DL_STUDY/File_List/glasses-noglasses/validate/glasses/row-6-column-4.jpg\n",
            "/content/drive/MyDrive/ML_DL_STUDY/File_List/glasses-noglasses/validate/glasses/row-6-column-3.jpg\n",
            "/content/drive/MyDrive/ML_DL_STUDY/File_List/glasses-noglasses/validate/glasses/row-6-column-12.jpg\n",
            "/content/drive/MyDrive/ML_DL_STUDY/File_List/glasses-noglasses/validate/glasses/row-6-column-8.jpg\n",
            "/content/drive/MyDrive/ML_DL_STUDY/File_List/glasses-noglasses/validate/glasses/row-5-column-11.jpg\n",
            "/content/drive/MyDrive/ML_DL_STUDY/File_List/glasses-noglasses/validate/glasses/row-5-column-8.jpg\n",
            "/content/drive/MyDrive/ML_DL_STUDY/File_List/glasses-noglasses/validate/glasses/row-6-column-6.jpg\n",
            "/content/drive/MyDrive/ML_DL_STUDY/File_List/glasses-noglasses/validate/glasses/row-6-column-5.jpg\n",
            "/content/drive/MyDrive/ML_DL_STUDY/File_List/glasses-noglasses/validate/glasses/row-5-column-9.jpg\n",
            "/content/drive/MyDrive/ML_DL_STUDY/File_List/glasses-noglasses/validate/glasses/row-6-column-7.jpg\n",
            "/content/drive/MyDrive/ML_DL_STUDY/File_List/glasses-noglasses/validate/glasses/row-5-column-12.jpg\n",
            "/content/drive/MyDrive/ML_DL_STUDY/File_List/glasses-noglasses/validate/glasses/row-5-column-6.jpg\n",
            "/content/drive/MyDrive/ML_DL_STUDY/File_List/glasses-noglasses/validate/glasses/row-5-column-7.jpg\n",
            "/content/drive/MyDrive/ML_DL_STUDY/File_List/glasses-noglasses/validate/glasses/row-6-column-1.jpg\n",
            "/content/drive/MyDrive/ML_DL_STUDY/File_List/glasses-noglasses/validate/glasses/row-6-column-9.jpg\n",
            "/content/drive/MyDrive/ML_DL_STUDY/File_List/glasses-noglasses/validate/glasses/row-5-column-10.jpg\n",
            "/content/drive/MyDrive/ML_DL_STUDY/File_List/glasses-noglasses/validate/noglasses/row-12-column-6.jpg\n",
            "/content/drive/MyDrive/ML_DL_STUDY/File_List/glasses-noglasses/validate/noglasses/row-11-column-10.jpg\n",
            "/content/drive/MyDrive/ML_DL_STUDY/File_List/glasses-noglasses/validate/noglasses/row-12-column-8.jpg\n",
            "/content/drive/MyDrive/ML_DL_STUDY/File_List/glasses-noglasses/validate/noglasses/row-12-column-9.jpg\n",
            "/content/drive/MyDrive/ML_DL_STUDY/File_List/glasses-noglasses/validate/noglasses/row-12-column-1.jpg\n",
            "/content/drive/MyDrive/ML_DL_STUDY/File_List/glasses-noglasses/validate/noglasses/row-12-column-5.jpg\n",
            "/content/drive/MyDrive/ML_DL_STUDY/File_List/glasses-noglasses/validate/noglasses/row-11-column-7.jpg\n",
            "/content/drive/MyDrive/ML_DL_STUDY/File_List/glasses-noglasses/validate/noglasses/row-12-column-7.jpg\n",
            "/content/drive/MyDrive/ML_DL_STUDY/File_List/glasses-noglasses/validate/noglasses/row-12-column-11.jpg\n",
            "/content/drive/MyDrive/ML_DL_STUDY/File_List/glasses-noglasses/validate/noglasses/row-12-column-10.jpg\n",
            "/content/drive/MyDrive/ML_DL_STUDY/File_List/glasses-noglasses/validate/noglasses/row-11-column-11.jpg\n",
            "/content/drive/MyDrive/ML_DL_STUDY/File_List/glasses-noglasses/validate/noglasses/row-12-column-12.jpg\n",
            "/content/drive/MyDrive/ML_DL_STUDY/File_List/glasses-noglasses/validate/noglasses/row-11-column-5.jpg\n",
            "/content/drive/MyDrive/ML_DL_STUDY/File_List/glasses-noglasses/validate/noglasses/row-11-column-6.jpg\n",
            "/content/drive/MyDrive/ML_DL_STUDY/File_List/glasses-noglasses/validate/noglasses/row-11-column-9.jpg\n",
            "/content/drive/MyDrive/ML_DL_STUDY/File_List/glasses-noglasses/validate/noglasses/row-12-column-3.jpg\n",
            "/content/drive/MyDrive/ML_DL_STUDY/File_List/glasses-noglasses/validate/noglasses/row-12-column-4.jpg\n",
            "/content/drive/MyDrive/ML_DL_STUDY/File_List/glasses-noglasses/validate/noglasses/row-12-column-2.jpg\n",
            "/content/drive/MyDrive/ML_DL_STUDY/File_List/glasses-noglasses/validate/noglasses/row-11-column-12.jpg\n",
            "/content/drive/MyDrive/ML_DL_STUDY/File_List/glasses-noglasses/validate/noglasses/row-11-column-8.jpg\n"
          ]
        }
      ],
      "source": [
        "import numpy as np \n",
        "import pandas as pd \n",
        "\n",
        "import os\n",
        "for dirname, _, filenames in os.walk('/content/drive/MyDrive/ML_DL_STUDY/File_List/glasses-noglasses'):\n",
        "    for filename in filenames:\n",
        "        print(os.path.join(dirname, filename))\n"
      ]
    },
    {
      "cell_type": "code",
      "source": [
        "import keras,os\n",
        "from keras.models import Sequential\n",
        "from keras.layers import Dense, Conv2D, MaxPool2D , Flatten\n",
        "from keras_preprocessing.image import ImageDataGenerator\n",
        "import numpy as np"
      ],
      "metadata": {
        "id": "57CjiRk6bpIZ"
      },
      "execution_count": 3,
      "outputs": []
    },
    {
      "cell_type": "code",
      "source": [
        "trdata = ImageDataGenerator()\n",
        "traindata = trdata.flow_from_directory(directory=\"/content/drive/MyDrive/ML_DL_STUDY/File_List/glasses-noglasses/train\",target_size=(224,224))\n",
        "tsdata = ImageDataGenerator()\n",
        "testdata = tsdata.flow_from_directory(directory=\"/content/drive/MyDrive/ML_DL_STUDY/File_List/glasses-noglasses/validate\", target_size=(224,224))"
      ],
      "metadata": {
        "colab": {
          "base_uri": "https://localhost:8080/"
        },
        "id": "itvDC9_Lbp19",
        "outputId": "c8f78b44-f345-4335-a5c3-d200d7bd42bd"
      },
      "execution_count": 4,
      "outputs": [
        {
          "output_type": "stream",
          "name": "stdout",
          "text": [
            "Found 104 images belonging to 2 classes.\n",
            "Found 40 images belonging to 2 classes.\n"
          ]
        }
      ]
    },
    {
      "cell_type": "code",
      "source": [
        "model = Sequential()\n",
        "model.add(Conv2D(input_shape=(224,224,3),filters=64,kernel_size=(3,3),padding=\"same\", activation=\"relu\"))\n",
        "model.add(Conv2D(filters=64,kernel_size=(3,3),padding=\"same\", activation=\"relu\"))\n",
        "model.add(MaxPool2D(pool_size=(2,2),strides=(2,2)))\n",
        "model.add(Conv2D(filters=128, kernel_size=(3,3), padding=\"same\", activation=\"relu\"))\n",
        "model.add(Conv2D(filters=128, kernel_size=(3,3), padding=\"same\", activation=\"relu\"))\n",
        "model.add(MaxPool2D(pool_size=(2,2),strides=(2,2)))\n",
        "model.add(Conv2D(filters=256, kernel_size=(3,3), padding=\"same\", activation=\"relu\"))\n",
        "model.add(Conv2D(filters=256, kernel_size=(3,3), padding=\"same\", activation=\"relu\"))\n",
        "model.add(Conv2D(filters=256, kernel_size=(3,3), padding=\"same\", activation=\"relu\"))\n",
        "model.add(MaxPool2D(pool_size=(2,2),strides=(2,2)))\n",
        "model.add(Conv2D(filters=512, kernel_size=(3,3), padding=\"same\", activation=\"relu\"))\n",
        "model.add(Conv2D(filters=512, kernel_size=(3,3), padding=\"same\", activation=\"relu\"))\n",
        "model.add(Conv2D(filters=512, kernel_size=(3,3), padding=\"same\", activation=\"relu\"))\n",
        "model.add(MaxPool2D(pool_size=(2,2),strides=(2,2)))\n",
        "model.add(Conv2D(filters=512, kernel_size=(3,3), padding=\"same\", activation=\"relu\"))\n",
        "model.add(Conv2D(filters=512, kernel_size=(3,3), padding=\"same\", activation=\"relu\"))\n",
        "model.add(Conv2D(filters=512, kernel_size=(3,3), padding=\"same\", activation=\"relu\"))\n",
        "model.add(MaxPool2D(pool_size=(2,2),strides=(2,2)))"
      ],
      "metadata": {
        "id": "ingyrcpDbrSD"
      },
      "execution_count": 5,
      "outputs": []
    },
    {
      "cell_type": "code",
      "source": [
        "model.add(Flatten())\n",
        "model.add(Dense(units=4096,activation=\"relu\"))\n",
        "model.add(Dense(units=4096,activation=\"relu\"))\n",
        "model.add(Dense(units=2, activation=\"softmax\"))"
      ],
      "metadata": {
        "id": "cvQLq7J2bsle"
      },
      "execution_count": 6,
      "outputs": []
    },
    {
      "cell_type": "code",
      "source": [
        "#from keras.optimizers import Adam\n",
        "#opt = Adam(lr=0.001)\n",
        "model.compile(optimizer='adam', loss=keras.losses.categorical_crossentropy, metrics=['accuracy']) "
      ],
      "metadata": {
        "id": "sww_ijz4btba"
      },
      "execution_count": 7,
      "outputs": []
    },
    {
      "cell_type": "code",
      "source": [
        "model.summary()"
      ],
      "metadata": {
        "colab": {
          "base_uri": "https://localhost:8080/"
        },
        "id": "JUUWUmjwbuLx",
        "outputId": "5e72f008-bf35-4311-e04a-d96dc1d21038"
      },
      "execution_count": 8,
      "outputs": [
        {
          "output_type": "stream",
          "name": "stdout",
          "text": [
            "Model: \"sequential\"\n",
            "_________________________________________________________________\n",
            " Layer (type)                Output Shape              Param #   \n",
            "=================================================================\n",
            " conv2d (Conv2D)             (None, 224, 224, 64)      1792      \n",
            "                                                                 \n",
            " conv2d_1 (Conv2D)           (None, 224, 224, 64)      36928     \n",
            "                                                                 \n",
            " max_pooling2d (MaxPooling2D  (None, 112, 112, 64)     0         \n",
            " )                                                               \n",
            "                                                                 \n",
            " conv2d_2 (Conv2D)           (None, 112, 112, 128)     73856     \n",
            "                                                                 \n",
            " conv2d_3 (Conv2D)           (None, 112, 112, 128)     147584    \n",
            "                                                                 \n",
            " max_pooling2d_1 (MaxPooling  (None, 56, 56, 128)      0         \n",
            " 2D)                                                             \n",
            "                                                                 \n",
            " conv2d_4 (Conv2D)           (None, 56, 56, 256)       295168    \n",
            "                                                                 \n",
            " conv2d_5 (Conv2D)           (None, 56, 56, 256)       590080    \n",
            "                                                                 \n",
            " conv2d_6 (Conv2D)           (None, 56, 56, 256)       590080    \n",
            "                                                                 \n",
            " max_pooling2d_2 (MaxPooling  (None, 28, 28, 256)      0         \n",
            " 2D)                                                             \n",
            "                                                                 \n",
            " conv2d_7 (Conv2D)           (None, 28, 28, 512)       1180160   \n",
            "                                                                 \n",
            " conv2d_8 (Conv2D)           (None, 28, 28, 512)       2359808   \n",
            "                                                                 \n",
            " conv2d_9 (Conv2D)           (None, 28, 28, 512)       2359808   \n",
            "                                                                 \n",
            " max_pooling2d_3 (MaxPooling  (None, 14, 14, 512)      0         \n",
            " 2D)                                                             \n",
            "                                                                 \n",
            " conv2d_10 (Conv2D)          (None, 14, 14, 512)       2359808   \n",
            "                                                                 \n",
            " conv2d_11 (Conv2D)          (None, 14, 14, 512)       2359808   \n",
            "                                                                 \n",
            " conv2d_12 (Conv2D)          (None, 14, 14, 512)       2359808   \n",
            "                                                                 \n",
            " max_pooling2d_4 (MaxPooling  (None, 7, 7, 512)        0         \n",
            " 2D)                                                             \n",
            "                                                                 \n",
            " flatten (Flatten)           (None, 25088)             0         \n",
            "                                                                 \n",
            " dense (Dense)               (None, 4096)              102764544 \n",
            "                                                                 \n",
            " dense_1 (Dense)             (None, 4096)              16781312  \n",
            "                                                                 \n",
            " dense_2 (Dense)             (None, 2)                 8194      \n",
            "                                                                 \n",
            "=================================================================\n",
            "Total params: 134,268,738\n",
            "Trainable params: 134,268,738\n",
            "Non-trainable params: 0\n",
            "_________________________________________________________________\n"
          ]
        }
      ]
    },
    {
      "cell_type": "code",
      "source": [
        "from keras.callbacks import ModelCheckpoint, EarlyStopping\n",
        "checkpoint = ModelCheckpoint(\"vgg16_1.h5\", monitor='val_acc', verbose=1, save_best_only=True, save_weights_only=False, mode='auto', period=1)\n",
        "early = EarlyStopping(monitor='val_acc', min_delta=0, patience=20, verbose=1, mode='auto')\n",
        "hist = model.fit_generator(steps_per_epoch=1,generator=traindata, validation_data= testdata, validation_steps=1,epochs=50,callbacks=[checkpoint,early])"
      ],
      "metadata": {
        "colab": {
          "base_uri": "https://localhost:8080/"
        },
        "id": "jQZ4AT9jbvLH",
        "outputId": "bafb03fd-720f-4076-ce01-13e573302342"
      },
      "execution_count": 9,
      "outputs": [
        {
          "output_type": "stream",
          "name": "stderr",
          "text": [
            "WARNING:tensorflow:`period` argument is deprecated. Please use `save_freq` to specify the frequency in number of batches seen.\n",
            "<ipython-input-9-81b35d609b76>:4: UserWarning: `Model.fit_generator` is deprecated and will be removed in a future version. Please use `Model.fit`, which supports generators.\n",
            "  hist = model.fit_generator(steps_per_epoch=1,generator=traindata, validation_data= testdata, validation_steps=1,epochs=50,callbacks=[checkpoint,early])\n"
          ]
        },
        {
          "output_type": "stream",
          "name": "stdout",
          "text": [
            "Epoch 1/50\n",
            "1/1 [==============================] - ETA: 0s - loss: 0.7070 - accuracy: 0.5312"
          ]
        },
        {
          "output_type": "stream",
          "name": "stderr",
          "text": [
            "WARNING:tensorflow:Can save best model only with val_acc available, skipping.\n",
            "WARNING:tensorflow:Early stopping conditioned on metric `val_acc` which is not available. Available metrics are: loss,accuracy,val_loss,val_accuracy\n"
          ]
        },
        {
          "output_type": "stream",
          "name": "stdout",
          "text": [
            "\b\b\b\b\b\b\b\b\b\b\b\b\b\b\b\b\b\b\b\b\b\b\b\b\b\b\b\b\b\b\b\b\b\b\b\b\b\b\b\b\b\b\b\b\b\b\b\b\b\b\b\b\b\b\b\b\b\b\b\b\b\b\b\b\b\b\b\b\b\b\b\b\b\b\b\b\b\b\b\b\r1/1 [==============================] - 33s 33s/step - loss: 0.7070 - accuracy: 0.5312 - val_loss: 7837.0488 - val_accuracy: 0.5312\n",
            "Epoch 2/50\n",
            "1/1 [==============================] - ETA: 0s - loss: 10844.7305 - accuracy: 0.3438"
          ]
        },
        {
          "output_type": "stream",
          "name": "stderr",
          "text": [
            "WARNING:tensorflow:Can save best model only with val_acc available, skipping.\n",
            "WARNING:tensorflow:Early stopping conditioned on metric `val_acc` which is not available. Available metrics are: loss,accuracy,val_loss,val_accuracy\n"
          ]
        },
        {
          "output_type": "stream",
          "name": "stdout",
          "text": [
            "\b\b\b\b\b\b\b\b\b\b\b\b\b\b\b\b\b\b\b\b\b\b\b\b\b\b\b\b\b\b\b\b\b\b\b\b\b\b\b\b\b\b\b\b\b\b\b\b\b\b\b\b\b\b\b\b\b\b\b\b\b\b\b\b\b\b\b\b\b\b\b\b\b\b\b\b\b\b\b\b\b\b\b\b\r1/1 [==============================] - 3s 3s/step - loss: 10844.7305 - accuracy: 0.3438 - val_loss: 4.7290 - val_accuracy: 0.5312\n",
            "Epoch 3/50\n",
            "1/1 [==============================] - ETA: 0s - loss: 5.9935 - accuracy: 0.4062"
          ]
        },
        {
          "output_type": "stream",
          "name": "stderr",
          "text": [
            "WARNING:tensorflow:Can save best model only with val_acc available, skipping.\n",
            "WARNING:tensorflow:Early stopping conditioned on metric `val_acc` which is not available. Available metrics are: loss,accuracy,val_loss,val_accuracy\n"
          ]
        },
        {
          "output_type": "stream",
          "name": "stdout",
          "text": [
            "\b\b\b\b\b\b\b\b\b\b\b\b\b\b\b\b\b\b\b\b\b\b\b\b\b\b\b\b\b\b\b\b\b\b\b\b\b\b\b\b\b\b\b\b\b\b\b\b\b\b\b\b\b\b\b\b\b\b\b\b\b\b\b\b\b\b\b\b\b\b\b\b\b\b\b\b\b\b\b\b\r1/1 [==============================] - 2s 2s/step - loss: 5.9935 - accuracy: 0.4062 - val_loss: 0.6847 - val_accuracy: 0.5625\n",
            "Epoch 4/50\n",
            "1/1 [==============================] - ETA: 0s - loss: 0.6772 - accuracy: 0.5938"
          ]
        },
        {
          "output_type": "stream",
          "name": "stderr",
          "text": [
            "WARNING:tensorflow:Can save best model only with val_acc available, skipping.\n",
            "WARNING:tensorflow:Early stopping conditioned on metric `val_acc` which is not available. Available metrics are: loss,accuracy,val_loss,val_accuracy\n"
          ]
        },
        {
          "output_type": "stream",
          "name": "stdout",
          "text": [
            "\b\b\b\b\b\b\b\b\b\b\b\b\b\b\b\b\b\b\b\b\b\b\b\b\b\b\b\b\b\b\b\b\b\b\b\b\b\b\b\b\b\b\b\b\b\b\b\b\b\b\b\b\b\b\b\b\b\b\b\b\b\b\b\b\b\b\b\b\b\b\b\b\b\b\b\b\b\b\b\b\r1/1 [==============================] - 2s 2s/step - loss: 0.6772 - accuracy: 0.5938 - val_loss: 0.8113 - val_accuracy: 0.4688\n",
            "Epoch 5/50\n",
            "1/1 [==============================] - ETA: 0s - loss: 0.7934 - accuracy: 0.5000"
          ]
        },
        {
          "output_type": "stream",
          "name": "stderr",
          "text": [
            "WARNING:tensorflow:Can save best model only with val_acc available, skipping.\n",
            "WARNING:tensorflow:Early stopping conditioned on metric `val_acc` which is not available. Available metrics are: loss,accuracy,val_loss,val_accuracy\n"
          ]
        },
        {
          "output_type": "stream",
          "name": "stdout",
          "text": [
            "\b\b\b\b\b\b\b\b\b\b\b\b\b\b\b\b\b\b\b\b\b\b\b\b\b\b\b\b\b\b\b\b\b\b\b\b\b\b\b\b\b\b\b\b\b\b\b\b\b\b\b\b\b\b\b\b\b\b\b\b\b\b\b\b\b\b\b\b\b\b\b\b\b\b\b\b\b\b\b\b\r1/1 [==============================] - 3s 3s/step - loss: 0.7934 - accuracy: 0.5000 - val_loss: 0.7113 - val_accuracy: 0.5000\n",
            "Epoch 6/50\n",
            "1/1 [==============================] - ETA: 0s - loss: 0.7093 - accuracy: 0.5000"
          ]
        },
        {
          "output_type": "stream",
          "name": "stderr",
          "text": [
            "WARNING:tensorflow:Can save best model only with val_acc available, skipping.\n",
            "WARNING:tensorflow:Early stopping conditioned on metric `val_acc` which is not available. Available metrics are: loss,accuracy,val_loss,val_accuracy\n"
          ]
        },
        {
          "output_type": "stream",
          "name": "stdout",
          "text": [
            "\b\b\b\b\b\b\b\b\b\b\b\b\b\b\b\b\b\b\b\b\b\b\b\b\b\b\b\b\b\b\b\b\b\b\b\b\b\b\b\b\b\b\b\b\b\b\b\b\b\b\b\b\b\b\b\b\b\b\b\b\b\b\b\b\b\b\b\b\b\b\b\b\b\b\b\b\b\b\b\b\r1/1 [==============================] - 1s 911ms/step - loss: 0.7093 - accuracy: 0.5000 - val_loss: 0.6887 - val_accuracy: 0.5312\n",
            "Epoch 7/50\n",
            "1/1 [==============================] - ETA: 0s - loss: 0.6937 - accuracy: 0.5000"
          ]
        },
        {
          "output_type": "stream",
          "name": "stderr",
          "text": [
            "WARNING:tensorflow:Can save best model only with val_acc available, skipping.\n",
            "WARNING:tensorflow:Early stopping conditioned on metric `val_acc` which is not available. Available metrics are: loss,accuracy,val_loss,val_accuracy\n"
          ]
        },
        {
          "output_type": "stream",
          "name": "stdout",
          "text": [
            "\b\b\b\b\b\b\b\b\b\b\b\b\b\b\b\b\b\b\b\b\b\b\b\b\b\b\b\b\b\b\b\b\b\b\b\b\b\b\b\b\b\b\b\b\b\b\b\b\b\b\b\b\b\b\b\b\b\b\b\b\b\b\b\b\b\b\b\b\b\b\b\b\b\b\b\b\b\b\b\b\r1/1 [==============================] - 1s 729ms/step - loss: 0.6937 - accuracy: 0.5000 - val_loss: 0.6855 - val_accuracy: 0.5312\n",
            "Epoch 8/50\n",
            "1/1 [==============================] - ETA: 0s - loss: 0.6803 - accuracy: 0.5938"
          ]
        },
        {
          "output_type": "stream",
          "name": "stderr",
          "text": [
            "WARNING:tensorflow:Can save best model only with val_acc available, skipping.\n",
            "WARNING:tensorflow:Early stopping conditioned on metric `val_acc` which is not available. Available metrics are: loss,accuracy,val_loss,val_accuracy\n"
          ]
        },
        {
          "output_type": "stream",
          "name": "stdout",
          "text": [
            "\b\b\b\b\b\b\b\b\b\b\b\b\b\b\b\b\b\b\b\b\b\b\b\b\b\b\b\b\b\b\b\b\b\b\b\b\b\b\b\b\b\b\b\b\b\b\b\b\b\b\b\b\b\b\b\b\b\b\b\b\b\b\b\b\b\b\b\b\b\b\b\b\b\b\b\b\b\b\b\b\r1/1 [==============================] - 1s 1s/step - loss: 0.6803 - accuracy: 0.5938 - val_loss: 1.7775 - val_accuracy: 0.5312\n",
            "Epoch 9/50\n",
            "1/1 [==============================] - ETA: 0s - loss: 1.8117 - accuracy: 0.5000"
          ]
        },
        {
          "output_type": "stream",
          "name": "stderr",
          "text": [
            "WARNING:tensorflow:Can save best model only with val_acc available, skipping.\n",
            "WARNING:tensorflow:Early stopping conditioned on metric `val_acc` which is not available. Available metrics are: loss,accuracy,val_loss,val_accuracy\n"
          ]
        },
        {
          "output_type": "stream",
          "name": "stdout",
          "text": [
            "\b\b\b\b\b\b\b\b\b\b\b\b\b\b\b\b\b\b\b\b\b\b\b\b\b\b\b\b\b\b\b\b\b\b\b\b\b\b\b\b\b\b\b\b\b\b\b\b\b\b\b\b\b\b\b\b\b\b\b\b\b\b\b\b\b\b\b\b\b\b\b\b\b\b\b\b\b\b\b\b\r1/1 [==============================] - 1s 961ms/step - loss: 1.8117 - accuracy: 0.5000 - val_loss: 0.6826 - val_accuracy: 0.5625\n",
            "Epoch 10/50\n",
            "1/1 [==============================] - ETA: 0s - loss: 0.6821 - accuracy: 0.5625"
          ]
        },
        {
          "output_type": "stream",
          "name": "stderr",
          "text": [
            "WARNING:tensorflow:Can save best model only with val_acc available, skipping.\n",
            "WARNING:tensorflow:Early stopping conditioned on metric `val_acc` which is not available. Available metrics are: loss,accuracy,val_loss,val_accuracy\n"
          ]
        },
        {
          "output_type": "stream",
          "name": "stdout",
          "text": [
            "\b\b\b\b\b\b\b\b\b\b\b\b\b\b\b\b\b\b\b\b\b\b\b\b\b\b\b\b\b\b\b\b\b\b\b\b\b\b\b\b\b\b\b\b\b\b\b\b\b\b\b\b\b\b\b\b\b\b\b\b\b\b\b\b\b\b\b\b\b\b\b\b\b\b\b\b\b\b\b\b\r1/1 [==============================] - 1s 729ms/step - loss: 0.6821 - accuracy: 0.5625 - val_loss: 0.9150 - val_accuracy: 0.4688\n",
            "Epoch 11/50\n",
            "1/1 [==============================] - ETA: 0s - loss: 0.9116 - accuracy: 0.4688"
          ]
        },
        {
          "output_type": "stream",
          "name": "stderr",
          "text": [
            "WARNING:tensorflow:Can save best model only with val_acc available, skipping.\n",
            "WARNING:tensorflow:Early stopping conditioned on metric `val_acc` which is not available. Available metrics are: loss,accuracy,val_loss,val_accuracy\n"
          ]
        },
        {
          "output_type": "stream",
          "name": "stdout",
          "text": [
            "\b\b\b\b\b\b\b\b\b\b\b\b\b\b\b\b\b\b\b\b\b\b\b\b\b\b\b\b\b\b\b\b\b\b\b\b\b\b\b\b\b\b\b\b\b\b\b\b\b\b\b\b\b\b\b\b\b\b\b\b\b\b\b\b\b\b\b\b\b\b\b\b\b\b\b\b\b\b\b\b\r1/1 [==============================] - 1s 719ms/step - loss: 0.9116 - accuracy: 0.4688 - val_loss: 0.7123 - val_accuracy: 0.4688\n",
            "Epoch 12/50\n",
            "1/1 [==============================] - ETA: 0s - loss: 0.6944 - accuracy: 0.5312"
          ]
        },
        {
          "output_type": "stream",
          "name": "stderr",
          "text": [
            "WARNING:tensorflow:Can save best model only with val_acc available, skipping.\n",
            "WARNING:tensorflow:Early stopping conditioned on metric `val_acc` which is not available. Available metrics are: loss,accuracy,val_loss,val_accuracy\n"
          ]
        },
        {
          "output_type": "stream",
          "name": "stdout",
          "text": [
            "\b\b\b\b\b\b\b\b\b\b\b\b\b\b\b\b\b\b\b\b\b\b\b\b\b\b\b\b\b\b\b\b\b\b\b\b\b\b\b\b\b\b\b\b\b\b\b\b\b\b\b\b\b\b\b\b\b\b\b\b\b\b\b\b\b\b\b\b\b\b\b\b\b\b\b\b\b\b\b\b\r1/1 [==============================] - 1s 753ms/step - loss: 0.6944 - accuracy: 0.5312 - val_loss: 0.6908 - val_accuracy: 0.5625\n",
            "Epoch 13/50\n",
            "1/1 [==============================] - ETA: 0s - loss: 0.6940 - accuracy: 0.4688"
          ]
        },
        {
          "output_type": "stream",
          "name": "stderr",
          "text": [
            "WARNING:tensorflow:Can save best model only with val_acc available, skipping.\n",
            "WARNING:tensorflow:Early stopping conditioned on metric `val_acc` which is not available. Available metrics are: loss,accuracy,val_loss,val_accuracy\n"
          ]
        },
        {
          "output_type": "stream",
          "name": "stdout",
          "text": [
            "\b\b\b\b\b\b\b\b\b\b\b\b\b\b\b\b\b\b\b\b\b\b\b\b\b\b\b\b\b\b\b\b\b\b\b\b\b\b\b\b\b\b\b\b\b\b\b\b\b\b\b\b\b\b\b\b\b\b\b\b\b\b\b\b\b\b\b\b\b\b\b\b\b\b\b\b\b\b\b\b\r1/1 [==============================] - 1s 719ms/step - loss: 0.6940 - accuracy: 0.4688 - val_loss: 0.6991 - val_accuracy: 0.5000\n",
            "Epoch 14/50\n",
            "1/1 [==============================] - ETA: 0s - loss: 0.7043 - accuracy: 0.5000"
          ]
        },
        {
          "output_type": "stream",
          "name": "stderr",
          "text": [
            "WARNING:tensorflow:Can save best model only with val_acc available, skipping.\n",
            "WARNING:tensorflow:Early stopping conditioned on metric `val_acc` which is not available. Available metrics are: loss,accuracy,val_loss,val_accuracy\n"
          ]
        },
        {
          "output_type": "stream",
          "name": "stdout",
          "text": [
            "\b\b\b\b\b\b\b\b\b\b\b\b\b\b\b\b\b\b\b\b\b\b\b\b\b\b\b\b\b\b\b\b\b\b\b\b\b\b\b\b\b\b\b\b\b\b\b\b\b\b\b\b\b\b\b\b\b\b\b\b\b\b\b\b\b\b\b\b\b\b\b\b\b\b\b\b\b\b\b\b\r1/1 [==============================] - 0s 425ms/step - loss: 0.7043 - accuracy: 0.5000 - val_loss: 0.6922 - val_accuracy: 0.5312\n",
            "Epoch 15/50\n",
            "1/1 [==============================] - ETA: 0s - loss: 0.6962 - accuracy: 0.3750"
          ]
        },
        {
          "output_type": "stream",
          "name": "stderr",
          "text": [
            "WARNING:tensorflow:Can save best model only with val_acc available, skipping.\n",
            "WARNING:tensorflow:Early stopping conditioned on metric `val_acc` which is not available. Available metrics are: loss,accuracy,val_loss,val_accuracy\n"
          ]
        },
        {
          "output_type": "stream",
          "name": "stdout",
          "text": [
            "\b\b\b\b\b\b\b\b\b\b\b\b\b\b\b\b\b\b\b\b\b\b\b\b\b\b\b\b\b\b\b\b\b\b\b\b\b\b\b\b\b\b\b\b\b\b\b\b\b\b\b\b\b\b\b\b\b\b\b\b\b\b\b\b\b\b\b\b\b\b\b\b\b\b\b\b\b\b\b\b\r1/1 [==============================] - 0s 416ms/step - loss: 0.6962 - accuracy: 0.3750 - val_loss: 0.6925 - val_accuracy: 0.5312\n",
            "Epoch 16/50\n",
            "1/1 [==============================] - ETA: 0s - loss: 0.6952 - accuracy: 0.3750"
          ]
        },
        {
          "output_type": "stream",
          "name": "stderr",
          "text": [
            "WARNING:tensorflow:Can save best model only with val_acc available, skipping.\n",
            "WARNING:tensorflow:Early stopping conditioned on metric `val_acc` which is not available. Available metrics are: loss,accuracy,val_loss,val_accuracy\n"
          ]
        },
        {
          "output_type": "stream",
          "name": "stdout",
          "text": [
            "\b\b\b\b\b\b\b\b\b\b\b\b\b\b\b\b\b\b\b\b\b\b\b\b\b\b\b\b\b\b\b\b\b\b\b\b\b\b\b\b\b\b\b\b\b\b\b\b\b\b\b\b\b\b\b\b\b\b\b\b\b\b\b\b\b\b\b\b\b\b\b\b\b\b\b\b\b\b\b\b\r1/1 [==============================] - 0s 414ms/step - loss: 0.6952 - accuracy: 0.3750 - val_loss: 0.6935 - val_accuracy: 0.4688\n",
            "Epoch 17/50\n",
            "1/1 [==============================] - ETA: 0s - loss: 0.6931 - accuracy: 0.5000"
          ]
        },
        {
          "output_type": "stream",
          "name": "stderr",
          "text": [
            "WARNING:tensorflow:Can save best model only with val_acc available, skipping.\n",
            "WARNING:tensorflow:Early stopping conditioned on metric `val_acc` which is not available. Available metrics are: loss,accuracy,val_loss,val_accuracy\n"
          ]
        },
        {
          "output_type": "stream",
          "name": "stdout",
          "text": [
            "\b\b\b\b\b\b\b\b\b\b\b\b\b\b\b\b\b\b\b\b\b\b\b\b\b\b\b\b\b\b\b\b\b\b\b\b\b\b\b\b\b\b\b\b\b\b\b\b\b\b\b\b\b\b\b\b\b\b\b\b\b\b\b\b\b\b\b\b\b\b\b\b\b\b\b\b\b\b\b\b\r1/1 [==============================] - 1s 722ms/step - loss: 0.6931 - accuracy: 0.5000 - val_loss: 0.6915 - val_accuracy: 0.5625\n",
            "Epoch 18/50\n",
            "1/1 [==============================] - ETA: 0s - loss: 0.7016 - accuracy: 0.1250"
          ]
        },
        {
          "output_type": "stream",
          "name": "stderr",
          "text": [
            "WARNING:tensorflow:Can save best model only with val_acc available, skipping.\n",
            "WARNING:tensorflow:Early stopping conditioned on metric `val_acc` which is not available. Available metrics are: loss,accuracy,val_loss,val_accuracy\n"
          ]
        },
        {
          "output_type": "stream",
          "name": "stdout",
          "text": [
            "\b\b\b\b\b\b\b\b\b\b\b\b\b\b\b\b\b\b\b\b\b\b\b\b\b\b\b\b\b\b\b\b\b\b\b\b\b\b\b\b\b\b\b\b\b\b\b\b\b\b\b\b\b\b\b\b\b\b\b\b\b\b\b\b\b\b\b\b\b\b\b\b\b\b\b\b\b\b\b\b\r1/1 [==============================] - 0s 429ms/step - loss: 0.7016 - accuracy: 0.1250 - val_loss: 0.6939 - val_accuracy: 0.4688\n",
            "Epoch 19/50\n",
            "1/1 [==============================] - ETA: 0s - loss: 0.6925 - accuracy: 0.5000"
          ]
        },
        {
          "output_type": "stream",
          "name": "stderr",
          "text": [
            "WARNING:tensorflow:Can save best model only with val_acc available, skipping.\n",
            "WARNING:tensorflow:Early stopping conditioned on metric `val_acc` which is not available. Available metrics are: loss,accuracy,val_loss,val_accuracy\n"
          ]
        },
        {
          "output_type": "stream",
          "name": "stdout",
          "text": [
            "\b\b\b\b\b\b\b\b\b\b\b\b\b\b\b\b\b\b\b\b\b\b\b\b\b\b\b\b\b\b\b\b\b\b\b\b\b\b\b\b\b\b\b\b\b\b\b\b\b\b\b\b\b\b\b\b\b\b\b\b\b\b\b\b\b\b\b\b\b\b\b\b\b\b\b\b\b\b\b\b\r1/1 [==============================] - 1s 737ms/step - loss: 0.6925 - accuracy: 0.5000 - val_loss: 0.7042 - val_accuracy: 0.4375\n",
            "Epoch 20/50\n",
            "1/1 [==============================] - ETA: 0s - loss: 0.7056 - accuracy: 0.4375"
          ]
        },
        {
          "output_type": "stream",
          "name": "stderr",
          "text": [
            "WARNING:tensorflow:Can save best model only with val_acc available, skipping.\n",
            "WARNING:tensorflow:Early stopping conditioned on metric `val_acc` which is not available. Available metrics are: loss,accuracy,val_loss,val_accuracy\n"
          ]
        },
        {
          "output_type": "stream",
          "name": "stdout",
          "text": [
            "\b\b\b\b\b\b\b\b\b\b\b\b\b\b\b\b\b\b\b\b\b\b\b\b\b\b\b\b\b\b\b\b\b\b\b\b\b\b\b\b\b\b\b\b\b\b\b\b\b\b\b\b\b\b\b\b\b\b\b\b\b\b\b\b\b\b\b\b\b\b\b\b\b\b\b\b\b\b\b\b\r1/1 [==============================] - 1s 719ms/step - loss: 0.7056 - accuracy: 0.4375 - val_loss: 0.6940 - val_accuracy: 0.4688\n",
            "Epoch 21/50\n",
            "1/1 [==============================] - ETA: 0s - loss: 0.6993 - accuracy: 0.3750"
          ]
        },
        {
          "output_type": "stream",
          "name": "stderr",
          "text": [
            "WARNING:tensorflow:Can save best model only with val_acc available, skipping.\n",
            "WARNING:tensorflow:Early stopping conditioned on metric `val_acc` which is not available. Available metrics are: loss,accuracy,val_loss,val_accuracy\n"
          ]
        },
        {
          "output_type": "stream",
          "name": "stdout",
          "text": [
            "\b\b\b\b\b\b\b\b\b\b\b\b\b\b\b\b\b\b\b\b\b\b\b\b\b\b\b\b\b\b\b\b\b\b\b\b\b\b\b\b\b\b\b\b\b\b\b\b\b\b\b\b\b\b\b\b\b\b\b\b\b\b\b\b\b\b\b\b\b\b\b\b\b\b\b\b\b\b\b\b\r1/1 [==============================] - 1s 728ms/step - loss: 0.6993 - accuracy: 0.3750 - val_loss: 0.6931 - val_accuracy: 0.4375\n",
            "Epoch 22/50\n",
            "1/1 [==============================] - ETA: 0s - loss: 0.6930 - accuracy: 0.5625"
          ]
        },
        {
          "output_type": "stream",
          "name": "stderr",
          "text": [
            "WARNING:tensorflow:Can save best model only with val_acc available, skipping.\n",
            "WARNING:tensorflow:Early stopping conditioned on metric `val_acc` which is not available. Available metrics are: loss,accuracy,val_loss,val_accuracy\n"
          ]
        },
        {
          "output_type": "stream",
          "name": "stdout",
          "text": [
            "\b\b\b\b\b\b\b\b\b\b\b\b\b\b\b\b\b\b\b\b\b\b\b\b\b\b\b\b\b\b\b\b\b\b\b\b\b\b\b\b\b\b\b\b\b\b\b\b\b\b\b\b\b\b\b\b\b\b\b\b\b\b\b\b\b\b\b\b\b\b\b\b\b\b\b\b\b\b\b\b\r1/1 [==============================] - 1s 719ms/step - loss: 0.6930 - accuracy: 0.5625 - val_loss: 0.6935 - val_accuracy: 0.4688\n",
            "Epoch 23/50\n",
            "1/1 [==============================] - ETA: 0s - loss: 0.6942 - accuracy: 0.4062"
          ]
        },
        {
          "output_type": "stream",
          "name": "stderr",
          "text": [
            "WARNING:tensorflow:Can save best model only with val_acc available, skipping.\n",
            "WARNING:tensorflow:Early stopping conditioned on metric `val_acc` which is not available. Available metrics are: loss,accuracy,val_loss,val_accuracy\n"
          ]
        },
        {
          "output_type": "stream",
          "name": "stdout",
          "text": [
            "\b\b\b\b\b\b\b\b\b\b\b\b\b\b\b\b\b\b\b\b\b\b\b\b\b\b\b\b\b\b\b\b\b\b\b\b\b\b\b\b\b\b\b\b\b\b\b\b\b\b\b\b\b\b\b\b\b\b\b\b\b\b\b\b\b\b\b\b\b\b\b\b\b\b\b\b\b\b\b\b\r1/1 [==============================] - 1s 730ms/step - loss: 0.6942 - accuracy: 0.4062 - val_loss: 0.6941 - val_accuracy: 0.4375\n",
            "Epoch 24/50\n",
            "1/1 [==============================] - ETA: 0s - loss: 0.6940 - accuracy: 0.4375"
          ]
        },
        {
          "output_type": "stream",
          "name": "stderr",
          "text": [
            "WARNING:tensorflow:Can save best model only with val_acc available, skipping.\n",
            "WARNING:tensorflow:Early stopping conditioned on metric `val_acc` which is not available. Available metrics are: loss,accuracy,val_loss,val_accuracy\n"
          ]
        },
        {
          "output_type": "stream",
          "name": "stdout",
          "text": [
            "\b\b\b\b\b\b\b\b\b\b\b\b\b\b\b\b\b\b\b\b\b\b\b\b\b\b\b\b\b\b\b\b\b\b\b\b\b\b\b\b\b\b\b\b\b\b\b\b\b\b\b\b\b\b\b\b\b\b\b\b\b\b\b\b\b\b\b\b\b\b\b\b\b\b\b\b\b\b\b\b\r1/1 [==============================] - 1s 743ms/step - loss: 0.6940 - accuracy: 0.4375 - val_loss: 0.6913 - val_accuracy: 0.5938\n",
            "Epoch 25/50\n",
            "1/1 [==============================] - ETA: 0s - loss: 0.6888 - accuracy: 0.7500"
          ]
        },
        {
          "output_type": "stream",
          "name": "stderr",
          "text": [
            "WARNING:tensorflow:Can save best model only with val_acc available, skipping.\n",
            "WARNING:tensorflow:Early stopping conditioned on metric `val_acc` which is not available. Available metrics are: loss,accuracy,val_loss,val_accuracy\n"
          ]
        },
        {
          "output_type": "stream",
          "name": "stdout",
          "text": [
            "\b\b\b\b\b\b\b\b\b\b\b\b\b\b\b\b\b\b\b\b\b\b\b\b\b\b\b\b\b\b\b\b\b\b\b\b\b\b\b\b\b\b\b\b\b\b\b\b\b\b\b\b\b\b\b\b\b\b\b\b\b\b\b\b\b\b\b\b\b\b\b\b\b\b\b\b\b\b\b\b\r1/1 [==============================] - 0s 424ms/step - loss: 0.6888 - accuracy: 0.7500 - val_loss: 0.6931 - val_accuracy: 0.5000\n",
            "Epoch 26/50\n",
            "1/1 [==============================] - ETA: 0s - loss: 0.6963 - accuracy: 0.4375"
          ]
        },
        {
          "output_type": "stream",
          "name": "stderr",
          "text": [
            "WARNING:tensorflow:Can save best model only with val_acc available, skipping.\n",
            "WARNING:tensorflow:Early stopping conditioned on metric `val_acc` which is not available. Available metrics are: loss,accuracy,val_loss,val_accuracy\n"
          ]
        },
        {
          "output_type": "stream",
          "name": "stdout",
          "text": [
            "\b\b\b\b\b\b\b\b\b\b\b\b\b\b\b\b\b\b\b\b\b\b\b\b\b\b\b\b\b\b\b\b\b\b\b\b\b\b\b\b\b\b\b\b\b\b\b\b\b\b\b\b\b\b\b\b\b\b\b\b\b\b\b\b\b\b\b\b\b\b\b\b\b\b\b\b\b\b\b\b\r1/1 [==============================] - 1s 723ms/step - loss: 0.6963 - accuracy: 0.4375 - val_loss: 0.6942 - val_accuracy: 0.4688\n",
            "Epoch 27/50\n",
            "1/1 [==============================] - ETA: 0s - loss: 0.6971 - accuracy: 0.3750"
          ]
        },
        {
          "output_type": "stream",
          "name": "stderr",
          "text": [
            "WARNING:tensorflow:Can save best model only with val_acc available, skipping.\n",
            "WARNING:tensorflow:Early stopping conditioned on metric `val_acc` which is not available. Available metrics are: loss,accuracy,val_loss,val_accuracy\n"
          ]
        },
        {
          "output_type": "stream",
          "name": "stdout",
          "text": [
            "\b\b\b\b\b\b\b\b\b\b\b\b\b\b\b\b\b\b\b\b\b\b\b\b\b\b\b\b\b\b\b\b\b\b\b\b\b\b\b\b\b\b\b\b\b\b\b\b\b\b\b\b\b\b\b\b\b\b\b\b\b\b\b\b\b\b\b\b\b\b\b\b\b\b\b\b\b\b\b\b\r1/1 [==============================] - 0s 424ms/step - loss: 0.6971 - accuracy: 0.3750 - val_loss: 0.6930 - val_accuracy: 0.5000\n",
            "Epoch 28/50\n",
            "1/1 [==============================] - ETA: 0s - loss: 0.6967 - accuracy: 0.3750"
          ]
        },
        {
          "output_type": "stream",
          "name": "stderr",
          "text": [
            "WARNING:tensorflow:Can save best model only with val_acc available, skipping.\n",
            "WARNING:tensorflow:Early stopping conditioned on metric `val_acc` which is not available. Available metrics are: loss,accuracy,val_loss,val_accuracy\n"
          ]
        },
        {
          "output_type": "stream",
          "name": "stdout",
          "text": [
            "\b\b\b\b\b\b\b\b\b\b\b\b\b\b\b\b\b\b\b\b\b\b\b\b\b\b\b\b\b\b\b\b\b\b\b\b\b\b\b\b\b\b\b\b\b\b\b\b\b\b\b\b\b\b\b\b\b\b\b\b\b\b\b\b\b\b\b\b\b\b\b\b\b\b\b\b\b\b\b\b\r1/1 [==============================] - 0s 412ms/step - loss: 0.6967 - accuracy: 0.3750 - val_loss: 0.6937 - val_accuracy: 0.4688\n",
            "Epoch 29/50\n",
            "1/1 [==============================] - ETA: 0s - loss: 0.6920 - accuracy: 0.5625"
          ]
        },
        {
          "output_type": "stream",
          "name": "stderr",
          "text": [
            "WARNING:tensorflow:Can save best model only with val_acc available, skipping.\n",
            "WARNING:tensorflow:Early stopping conditioned on metric `val_acc` which is not available. Available metrics are: loss,accuracy,val_loss,val_accuracy\n"
          ]
        },
        {
          "output_type": "stream",
          "name": "stdout",
          "text": [
            "\b\b\b\b\b\b\b\b\b\b\b\b\b\b\b\b\b\b\b\b\b\b\b\b\b\b\b\b\b\b\b\b\b\b\b\b\b\b\b\b\b\b\b\b\b\b\b\b\b\b\b\b\b\b\b\b\b\b\b\b\b\b\b\b\b\b\b\b\b\b\b\b\b\b\b\b\b\b\b\b\r1/1 [==============================] - 1s 718ms/step - loss: 0.6920 - accuracy: 0.5625 - val_loss: 0.6931 - val_accuracy: 0.5000\n",
            "Epoch 30/50\n",
            "1/1 [==============================] - ETA: 0s - loss: 0.6911 - accuracy: 0.6250"
          ]
        },
        {
          "output_type": "stream",
          "name": "stderr",
          "text": [
            "WARNING:tensorflow:Can save best model only with val_acc available, skipping.\n",
            "WARNING:tensorflow:Early stopping conditioned on metric `val_acc` which is not available. Available metrics are: loss,accuracy,val_loss,val_accuracy\n"
          ]
        },
        {
          "output_type": "stream",
          "name": "stdout",
          "text": [
            "\b\b\b\b\b\b\b\b\b\b\b\b\b\b\b\b\b\b\b\b\b\b\b\b\b\b\b\b\b\b\b\b\b\b\b\b\b\b\b\b\b\b\b\b\b\b\b\b\b\b\b\b\b\b\b\b\b\b\b\b\b\b\b\b\b\b\b\b\b\b\b\b\b\b\b\b\b\b\b\b\r1/1 [==============================] - 1s 738ms/step - loss: 0.6911 - accuracy: 0.6250 - val_loss: 0.6918 - val_accuracy: 0.5312\n",
            "Epoch 31/50\n",
            "1/1 [==============================] - ETA: 0s - loss: 0.6928 - accuracy: 0.5000"
          ]
        },
        {
          "output_type": "stream",
          "name": "stderr",
          "text": [
            "WARNING:tensorflow:Can save best model only with val_acc available, skipping.\n",
            "WARNING:tensorflow:Early stopping conditioned on metric `val_acc` which is not available. Available metrics are: loss,accuracy,val_loss,val_accuracy\n"
          ]
        },
        {
          "output_type": "stream",
          "name": "stdout",
          "text": [
            "\b\b\b\b\b\b\b\b\b\b\b\b\b\b\b\b\b\b\b\b\b\b\b\b\b\b\b\b\b\b\b\b\b\b\b\b\b\b\b\b\b\b\b\b\b\b\b\b\b\b\b\b\b\b\b\b\b\b\b\b\b\b\b\b\b\b\b\b\b\b\b\b\b\b\b\b\b\b\b\b\r1/1 [==============================] - 1s 714ms/step - loss: 0.6928 - accuracy: 0.5000 - val_loss: 0.6918 - val_accuracy: 0.5000\n",
            "Epoch 32/50\n",
            "1/1 [==============================] - ETA: 0s - loss: 0.7050 - accuracy: 0.2500"
          ]
        },
        {
          "output_type": "stream",
          "name": "stderr",
          "text": [
            "WARNING:tensorflow:Can save best model only with val_acc available, skipping.\n",
            "WARNING:tensorflow:Early stopping conditioned on metric `val_acc` which is not available. Available metrics are: loss,accuracy,val_loss,val_accuracy\n"
          ]
        },
        {
          "output_type": "stream",
          "name": "stdout",
          "text": [
            "\b\b\b\b\b\b\b\b\b\b\b\b\b\b\b\b\b\b\b\b\b\b\b\b\b\b\b\b\b\b\b\b\b\b\b\b\b\b\b\b\b\b\b\b\b\b\b\b\b\b\b\b\b\b\b\b\b\b\b\b\b\b\b\b\b\b\b\b\b\b\b\b\b\b\b\b\b\b\b\b\r1/1 [==============================] - 0s 417ms/step - loss: 0.7050 - accuracy: 0.2500 - val_loss: 0.6928 - val_accuracy: 0.5000\n",
            "Epoch 33/50\n",
            "1/1 [==============================] - ETA: 0s - loss: 0.6918 - accuracy: 0.6250"
          ]
        },
        {
          "output_type": "stream",
          "name": "stderr",
          "text": [
            "WARNING:tensorflow:Can save best model only with val_acc available, skipping.\n",
            "WARNING:tensorflow:Early stopping conditioned on metric `val_acc` which is not available. Available metrics are: loss,accuracy,val_loss,val_accuracy\n"
          ]
        },
        {
          "output_type": "stream",
          "name": "stdout",
          "text": [
            "\b\b\b\b\b\b\b\b\b\b\b\b\b\b\b\b\b\b\b\b\b\b\b\b\b\b\b\b\b\b\b\b\b\b\b\b\b\b\b\b\b\b\b\b\b\b\b\b\b\b\b\b\b\b\b\b\b\b\b\b\b\b\b\b\b\b\b\b\b\b\b\b\b\b\b\b\b\b\b\b\r1/1 [==============================] - 0s 416ms/step - loss: 0.6918 - accuracy: 0.6250 - val_loss: 0.6928 - val_accuracy: 0.5312\n",
            "Epoch 34/50\n",
            "1/1 [==============================] - ETA: 0s - loss: 0.6916 - accuracy: 0.6875"
          ]
        },
        {
          "output_type": "stream",
          "name": "stderr",
          "text": [
            "WARNING:tensorflow:Can save best model only with val_acc available, skipping.\n",
            "WARNING:tensorflow:Early stopping conditioned on metric `val_acc` which is not available. Available metrics are: loss,accuracy,val_loss,val_accuracy\n"
          ]
        },
        {
          "output_type": "stream",
          "name": "stdout",
          "text": [
            "\b\b\b\b\b\b\b\b\b\b\b\b\b\b\b\b\b\b\b\b\b\b\b\b\b\b\b\b\b\b\b\b\b\b\b\b\b\b\b\b\b\b\b\b\b\b\b\b\b\b\b\b\b\b\b\b\b\b\b\b\b\b\b\b\b\b\b\b\b\b\b\b\b\b\b\b\b\b\b\b\r1/1 [==============================] - 1s 726ms/step - loss: 0.6916 - accuracy: 0.6875 - val_loss: 0.6931 - val_accuracy: 0.5000\n",
            "Epoch 35/50\n",
            "1/1 [==============================] - ETA: 0s - loss: 0.6921 - accuracy: 0.5625"
          ]
        },
        {
          "output_type": "stream",
          "name": "stderr",
          "text": [
            "WARNING:tensorflow:Can save best model only with val_acc available, skipping.\n",
            "WARNING:tensorflow:Early stopping conditioned on metric `val_acc` which is not available. Available metrics are: loss,accuracy,val_loss,val_accuracy\n"
          ]
        },
        {
          "output_type": "stream",
          "name": "stdout",
          "text": [
            "\b\b\b\b\b\b\b\b\b\b\b\b\b\b\b\b\b\b\b\b\b\b\b\b\b\b\b\b\b\b\b\b\b\b\b\b\b\b\b\b\b\b\b\b\b\b\b\b\b\b\b\b\b\b\b\b\b\b\b\b\b\b\b\b\b\b\b\b\b\b\b\b\b\b\b\b\b\b\b\b\r1/1 [==============================] - 1s 724ms/step - loss: 0.6921 - accuracy: 0.5625 - val_loss: 0.6918 - val_accuracy: 0.5312\n",
            "Epoch 36/50\n",
            "1/1 [==============================] - ETA: 0s - loss: 0.6932 - accuracy: 0.5000"
          ]
        },
        {
          "output_type": "stream",
          "name": "stderr",
          "text": [
            "WARNING:tensorflow:Can save best model only with val_acc available, skipping.\n",
            "WARNING:tensorflow:Early stopping conditioned on metric `val_acc` which is not available. Available metrics are: loss,accuracy,val_loss,val_accuracy\n"
          ]
        },
        {
          "output_type": "stream",
          "name": "stdout",
          "text": [
            "\b\b\b\b\b\b\b\b\b\b\b\b\b\b\b\b\b\b\b\b\b\b\b\b\b\b\b\b\b\b\b\b\b\b\b\b\b\b\b\b\b\b\b\b\b\b\b\b\b\b\b\b\b\b\b\b\b\b\b\b\b\b\b\b\b\b\b\b\b\b\b\b\b\b\b\b\b\b\b\b\r1/1 [==============================] - 0s 422ms/step - loss: 0.6932 - accuracy: 0.5000 - val_loss: 0.6915 - val_accuracy: 0.4688\n",
            "Epoch 37/50\n",
            "1/1 [==============================] - ETA: 0s - loss: 0.6987 - accuracy: 0.4062"
          ]
        },
        {
          "output_type": "stream",
          "name": "stderr",
          "text": [
            "WARNING:tensorflow:Can save best model only with val_acc available, skipping.\n",
            "WARNING:tensorflow:Early stopping conditioned on metric `val_acc` which is not available. Available metrics are: loss,accuracy,val_loss,val_accuracy\n"
          ]
        },
        {
          "output_type": "stream",
          "name": "stdout",
          "text": [
            "\b\b\b\b\b\b\b\b\b\b\b\b\b\b\b\b\b\b\b\b\b\b\b\b\b\b\b\b\b\b\b\b\b\b\b\b\b\b\b\b\b\b\b\b\b\b\b\b\b\b\b\b\b\b\b\b\b\b\b\b\b\b\b\b\b\b\b\b\b\b\b\b\b\b\b\b\b\b\b\b\r1/1 [==============================] - 1s 741ms/step - loss: 0.6987 - accuracy: 0.4062 - val_loss: 0.6950 - val_accuracy: 0.4375\n",
            "Epoch 38/50\n",
            "1/1 [==============================] - ETA: 0s - loss: 0.6933 - accuracy: 0.5000"
          ]
        },
        {
          "output_type": "stream",
          "name": "stderr",
          "text": [
            "WARNING:tensorflow:Can save best model only with val_acc available, skipping.\n",
            "WARNING:tensorflow:Early stopping conditioned on metric `val_acc` which is not available. Available metrics are: loss,accuracy,val_loss,val_accuracy\n"
          ]
        },
        {
          "output_type": "stream",
          "name": "stdout",
          "text": [
            "\b\b\b\b\b\b\b\b\b\b\b\b\b\b\b\b\b\b\b\b\b\b\b\b\b\b\b\b\b\b\b\b\b\b\b\b\b\b\b\b\b\b\b\b\b\b\b\b\b\b\b\b\b\b\b\b\b\b\b\b\b\b\b\b\b\b\b\b\b\b\b\b\b\b\b\b\b\b\b\b\r1/1 [==============================] - 0s 413ms/step - loss: 0.6933 - accuracy: 0.5000 - val_loss: 0.6961 - val_accuracy: 0.4062\n",
            "Epoch 39/50\n",
            "1/1 [==============================] - ETA: 0s - loss: 0.6952 - accuracy: 0.4375"
          ]
        },
        {
          "output_type": "stream",
          "name": "stderr",
          "text": [
            "WARNING:tensorflow:Can save best model only with val_acc available, skipping.\n",
            "WARNING:tensorflow:Early stopping conditioned on metric `val_acc` which is not available. Available metrics are: loss,accuracy,val_loss,val_accuracy\n"
          ]
        },
        {
          "output_type": "stream",
          "name": "stdout",
          "text": [
            "\b\b\b\b\b\b\b\b\b\b\b\b\b\b\b\b\b\b\b\b\b\b\b\b\b\b\b\b\b\b\b\b\b\b\b\b\b\b\b\b\b\b\b\b\b\b\b\b\b\b\b\b\b\b\b\b\b\b\b\b\b\b\b\b\b\b\b\b\b\b\b\b\b\b\b\b\b\b\b\b\r1/1 [==============================] - 1s 728ms/step - loss: 0.6952 - accuracy: 0.4375 - val_loss: 0.6952 - val_accuracy: 0.4375\n",
            "Epoch 40/50\n",
            "1/1 [==============================] - ETA: 0s - loss: 0.6903 - accuracy: 0.5938"
          ]
        },
        {
          "output_type": "stream",
          "name": "stderr",
          "text": [
            "WARNING:tensorflow:Can save best model only with val_acc available, skipping.\n",
            "WARNING:tensorflow:Early stopping conditioned on metric `val_acc` which is not available. Available metrics are: loss,accuracy,val_loss,val_accuracy\n"
          ]
        },
        {
          "output_type": "stream",
          "name": "stdout",
          "text": [
            "\b\b\b\b\b\b\b\b\b\b\b\b\b\b\b\b\b\b\b\b\b\b\b\b\b\b\b\b\b\b\b\b\b\b\b\b\b\b\b\b\b\b\b\b\b\b\b\b\b\b\b\b\b\b\b\b\b\b\b\b\b\b\b\b\b\b\b\b\b\b\b\b\b\b\b\b\b\b\b\b\r1/1 [==============================] - 1s 732ms/step - loss: 0.6903 - accuracy: 0.5938 - val_loss: 0.6922 - val_accuracy: 0.5312\n",
            "Epoch 41/50\n",
            "1/1 [==============================] - ETA: 0s - loss: 0.6911 - accuracy: 0.5625"
          ]
        },
        {
          "output_type": "stream",
          "name": "stderr",
          "text": [
            "WARNING:tensorflow:Can save best model only with val_acc available, skipping.\n",
            "WARNING:tensorflow:Early stopping conditioned on metric `val_acc` which is not available. Available metrics are: loss,accuracy,val_loss,val_accuracy\n"
          ]
        },
        {
          "output_type": "stream",
          "name": "stdout",
          "text": [
            "\b\b\b\b\b\b\b\b\b\b\b\b\b\b\b\b\b\b\b\b\b\b\b\b\b\b\b\b\b\b\b\b\b\b\b\b\b\b\b\b\b\b\b\b\b\b\b\b\b\b\b\b\b\b\b\b\b\b\b\b\b\b\b\b\b\b\b\b\b\b\b\b\b\b\b\b\b\b\b\b\r1/1 [==============================] - 1s 730ms/step - loss: 0.6911 - accuracy: 0.5625 - val_loss: 0.6921 - val_accuracy: 0.5312\n",
            "Epoch 42/50\n",
            "1/1 [==============================] - ETA: 0s - loss: 0.6946 - accuracy: 0.4688"
          ]
        },
        {
          "output_type": "stream",
          "name": "stderr",
          "text": [
            "WARNING:tensorflow:Can save best model only with val_acc available, skipping.\n",
            "WARNING:tensorflow:Early stopping conditioned on metric `val_acc` which is not available. Available metrics are: loss,accuracy,val_loss,val_accuracy\n"
          ]
        },
        {
          "output_type": "stream",
          "name": "stdout",
          "text": [
            "\b\b\b\b\b\b\b\b\b\b\b\b\b\b\b\b\b\b\b\b\b\b\b\b\b\b\b\b\b\b\b\b\b\b\b\b\b\b\b\b\b\b\b\b\b\b\b\b\b\b\b\b\b\b\b\b\b\b\b\b\b\b\b\b\b\b\b\b\b\b\b\b\b\b\b\b\b\b\b\b\r1/1 [==============================] - 1s 729ms/step - loss: 0.6946 - accuracy: 0.4688 - val_loss: 0.6906 - val_accuracy: 0.5625\n",
            "Epoch 43/50\n",
            "1/1 [==============================] - ETA: 0s - loss: 0.6919 - accuracy: 0.5312"
          ]
        },
        {
          "output_type": "stream",
          "name": "stderr",
          "text": [
            "WARNING:tensorflow:Can save best model only with val_acc available, skipping.\n",
            "WARNING:tensorflow:Early stopping conditioned on metric `val_acc` which is not available. Available metrics are: loss,accuracy,val_loss,val_accuracy\n"
          ]
        },
        {
          "output_type": "stream",
          "name": "stdout",
          "text": [
            "\b\b\b\b\b\b\b\b\b\b\b\b\b\b\b\b\b\b\b\b\b\b\b\b\b\b\b\b\b\b\b\b\b\b\b\b\b\b\b\b\b\b\b\b\b\b\b\b\b\b\b\b\b\b\b\b\b\b\b\b\b\b\b\b\b\b\b\b\b\b\b\b\b\b\b\b\b\b\b\b\r1/1 [==============================] - 1s 735ms/step - loss: 0.6919 - accuracy: 0.5312 - val_loss: 0.6948 - val_accuracy: 0.4688\n",
            "Epoch 44/50\n",
            "1/1 [==============================] - ETA: 0s - loss: 0.6730 - accuracy: 0.8750"
          ]
        },
        {
          "output_type": "stream",
          "name": "stderr",
          "text": [
            "WARNING:tensorflow:Can save best model only with val_acc available, skipping.\n",
            "WARNING:tensorflow:Early stopping conditioned on metric `val_acc` which is not available. Available metrics are: loss,accuracy,val_loss,val_accuracy\n"
          ]
        },
        {
          "output_type": "stream",
          "name": "stdout",
          "text": [
            "\b\b\b\b\b\b\b\b\b\b\b\b\b\b\b\b\b\b\b\b\b\b\b\b\b\b\b\b\b\b\b\b\b\b\b\b\b\b\b\b\b\b\b\b\b\b\b\b\b\b\b\b\b\b\b\b\b\b\b\b\b\b\b\b\b\b\b\b\b\b\b\b\b\b\b\b\b\b\b\b\r1/1 [==============================] - 0s 416ms/step - loss: 0.6730 - accuracy: 0.8750 - val_loss: 0.8087 - val_accuracy: 0.5312\n",
            "Epoch 45/50\n",
            "1/1 [==============================] - ETA: 0s - loss: 0.8187 - accuracy: 0.5000"
          ]
        },
        {
          "output_type": "stream",
          "name": "stderr",
          "text": [
            "WARNING:tensorflow:Can save best model only with val_acc available, skipping.\n",
            "WARNING:tensorflow:Early stopping conditioned on metric `val_acc` which is not available. Available metrics are: loss,accuracy,val_loss,val_accuracy\n"
          ]
        },
        {
          "output_type": "stream",
          "name": "stdout",
          "text": [
            "\b\b\b\b\b\b\b\b\b\b\b\b\b\b\b\b\b\b\b\b\b\b\b\b\b\b\b\b\b\b\b\b\b\b\b\b\b\b\b\b\b\b\b\b\b\b\b\b\b\b\b\b\b\b\b\b\b\b\b\b\b\b\b\b\b\b\b\b\b\b\b\b\b\b\b\b\b\b\b\b\r1/1 [==============================] - 1s 737ms/step - loss: 0.8187 - accuracy: 0.5000 - val_loss: 0.7051 - val_accuracy: 0.4688\n",
            "Epoch 46/50\n",
            "1/1 [==============================] - ETA: 0s - loss: 0.6887 - accuracy: 0.5312"
          ]
        },
        {
          "output_type": "stream",
          "name": "stderr",
          "text": [
            "WARNING:tensorflow:Can save best model only with val_acc available, skipping.\n",
            "WARNING:tensorflow:Early stopping conditioned on metric `val_acc` which is not available. Available metrics are: loss,accuracy,val_loss,val_accuracy\n"
          ]
        },
        {
          "output_type": "stream",
          "name": "stdout",
          "text": [
            "\b\b\b\b\b\b\b\b\b\b\b\b\b\b\b\b\b\b\b\b\b\b\b\b\b\b\b\b\b\b\b\b\b\b\b\b\b\b\b\b\b\b\b\b\b\b\b\b\b\b\b\b\b\b\b\b\b\b\b\b\b\b\b\b\b\b\b\b\b\b\b\b\b\b\b\b\b\b\b\b\r1/1 [==============================] - 1s 719ms/step - loss: 0.6887 - accuracy: 0.5312 - val_loss: 0.6915 - val_accuracy: 0.5312\n",
            "Epoch 47/50\n",
            "1/1 [==============================] - ETA: 0s - loss: 0.6930 - accuracy: 0.5000"
          ]
        },
        {
          "output_type": "stream",
          "name": "stderr",
          "text": [
            "WARNING:tensorflow:Can save best model only with val_acc available, skipping.\n",
            "WARNING:tensorflow:Early stopping conditioned on metric `val_acc` which is not available. Available metrics are: loss,accuracy,val_loss,val_accuracy\n"
          ]
        },
        {
          "output_type": "stream",
          "name": "stdout",
          "text": [
            "\b\b\b\b\b\b\b\b\b\b\b\b\b\b\b\b\b\b\b\b\b\b\b\b\b\b\b\b\b\b\b\b\b\b\b\b\b\b\b\b\b\b\b\b\b\b\b\b\b\b\b\b\b\b\b\b\b\b\b\b\b\b\b\b\b\b\b\b\b\b\b\b\b\b\b\b\b\b\b\b\r1/1 [==============================] - 0s 420ms/step - loss: 0.6930 - accuracy: 0.5000 - val_loss: 0.6921 - val_accuracy: 0.4688\n",
            "Epoch 48/50\n",
            "1/1 [==============================] - ETA: 0s - loss: 0.6893 - accuracy: 0.5625"
          ]
        },
        {
          "output_type": "stream",
          "name": "stderr",
          "text": [
            "WARNING:tensorflow:Can save best model only with val_acc available, skipping.\n",
            "WARNING:tensorflow:Early stopping conditioned on metric `val_acc` which is not available. Available metrics are: loss,accuracy,val_loss,val_accuracy\n"
          ]
        },
        {
          "output_type": "stream",
          "name": "stdout",
          "text": [
            "\b\b\b\b\b\b\b\b\b\b\b\b\b\b\b\b\b\b\b\b\b\b\b\b\b\b\b\b\b\b\b\b\b\b\b\b\b\b\b\b\b\b\b\b\b\b\b\b\b\b\b\b\b\b\b\b\b\b\b\b\b\b\b\b\b\b\b\b\b\b\b\b\b\b\b\b\b\b\b\b\r1/1 [==============================] - 1s 725ms/step - loss: 0.6893 - accuracy: 0.5625 - val_loss: 1.0778 - val_accuracy: 0.4688\n",
            "Epoch 49/50\n",
            "1/1 [==============================] - ETA: 0s - loss: 1.0345 - accuracy: 0.5000"
          ]
        },
        {
          "output_type": "stream",
          "name": "stderr",
          "text": [
            "WARNING:tensorflow:Can save best model only with val_acc available, skipping.\n",
            "WARNING:tensorflow:Early stopping conditioned on metric `val_acc` which is not available. Available metrics are: loss,accuracy,val_loss,val_accuracy\n"
          ]
        },
        {
          "output_type": "stream",
          "name": "stdout",
          "text": [
            "\b\b\b\b\b\b\b\b\b\b\b\b\b\b\b\b\b\b\b\b\b\b\b\b\b\b\b\b\b\b\b\b\b\b\b\b\b\b\b\b\b\b\b\b\b\b\b\b\b\b\b\b\b\b\b\b\b\b\b\b\b\b\b\b\b\b\b\b\b\b\b\b\b\b\b\b\b\b\b\b\r1/1 [==============================] - 1s 729ms/step - loss: 1.0345 - accuracy: 0.5000 - val_loss: 0.6948 - val_accuracy: 0.4688\n",
            "Epoch 50/50\n",
            "1/1 [==============================] - ETA: 0s - loss: 0.6952 - accuracy: 0.4688"
          ]
        },
        {
          "output_type": "stream",
          "name": "stderr",
          "text": [
            "WARNING:tensorflow:Can save best model only with val_acc available, skipping.\n",
            "WARNING:tensorflow:Early stopping conditioned on metric `val_acc` which is not available. Available metrics are: loss,accuracy,val_loss,val_accuracy\n"
          ]
        },
        {
          "output_type": "stream",
          "name": "stdout",
          "text": [
            "\b\b\b\b\b\b\b\b\b\b\b\b\b\b\b\b\b\b\b\b\b\b\b\b\b\b\b\b\b\b\b\b\b\b\b\b\b\b\b\b\b\b\b\b\b\b\b\b\b\b\b\b\b\b\b\b\b\b\b\b\b\b\b\b\b\b\b\b\b\b\b\b\b\b\b\b\b\b\b\b\r1/1 [==============================] - 1s 735ms/step - loss: 0.6952 - accuracy: 0.4688 - val_loss: 0.6947 - val_accuracy: 0.5000\n"
          ]
        }
      ]
    },
    {
      "cell_type": "code",
      "source": [
        "import matplotlib.pyplot as plt\n",
        "plt.plot(hist.history[\"accuracy\"])\n",
        "plt.plot(hist.history['val_accuracy'])\n",
        "#plt.plot(hist.history['loss'])\n",
        "#plt.plot(hist.history['val_loss'])\n",
        "plt.title(\"model accuracy\")\n",
        "plt.ylabel(\"Accuracy\")\n",
        "plt.xlabel(\"Epoch\")\n",
        "plt.legend([\"Accuracy\",\"Validation Accuracy\",\"loss\",\"Validation Loss\"])\n",
        "plt.show()"
      ],
      "metadata": {
        "colab": {
          "base_uri": "https://localhost:8080/",
          "height": 295
        },
        "id": "sk8dhYhlbvzS",
        "outputId": "e7791a22-1789-4356-f5a7-7e9982dffbcd"
      },
      "execution_count": 10,
      "outputs": [
        {
          "output_type": "display_data",
          "data": {
            "text/plain": [
              "<Figure size 432x288 with 1 Axes>"
            ],
            "image/png": "[encoded data removed]"
          },
          "metadata": {
            "needs_background": "light"
          }
        }
      ]
    },
    {
      "cell_type": "code",
      "source": [
        " model.save(\"vgg16_1.h5\")"
      ],
      "metadata": {
        "id": "fOmlxb0ybx7V"
      },
      "execution_count": 11,
      "outputs": []
    },
    {
      "cell_type": "code",
      "source": [
        "pip install Keras-Preprocessing"
      ],
      "metadata": {
        "colab": {
          "base_uri": "https://localhost:8080/"
        },
        "id": "nJCmZjoRd7s_",
        "outputId": "632f16d6-cebc-440e-fa47-208ec7d4fd12"
      },
      "execution_count": 14,
      "outputs": [
        {
          "output_type": "stream",
          "name": "stdout",
          "text": [
            "Looking in indexes: https://pypi.org/simple, https://us-python.pkg.dev/colab-wheels/public/simple/\n",
            "Requirement already satisfied: Keras-Preprocessing in /usr/local/lib/python3.8/dist-packages (1.1.2)\n",
            "Requirement already satisfied: numpy>=1.9.1 in /usr/local/lib/python3.8/dist-packages (from Keras-Preprocessing) (1.21.6)\n",
            "Requirement already satisfied: six>=1.9.0 in /usr/local/lib/python3.8/dist-packages (from Keras-Preprocessing) (1.15.0)\n"
          ]
        }
      ]
    },
    {
      "cell_type": "code",
      "source": [
        "import keras,os"
      ],
      "metadata": {
        "id": "vzeDax2Feps-"
      },
      "execution_count": 19,
      "outputs": []
    },
    {
      "cell_type": "markdown",
      "source": [
        "from keras.preprocessing import image  \n",
        "안되서 해결방안 찾아옴\n",
        "https://stackoverflow.com/questions/72383347/how-to-fix-it-attributeerror-module-keras-preprocessing-image-has-no-attribu"
      ],
      "metadata": {
        "id": "-d7Qvi1tfhy5"
      }
    },
    {
      "cell_type": "code",
      "source": [
        "# from keras.preprocessing import image\n",
        "import keras.utils as image\n",
        "img = image.load_img(\"/content/drive/MyDrive/ML_DL_STUDY/File_List/glasses-noglasses/test/row-1-column-9.jpg\",target_size=(224,224))\n",
        "img = np.asarray(img)\n",
        "plt.imshow(img)\n",
        "img = np.expand_dims(img, axis=0)\n",
        "from keras.models import load_model\n",
        "saved_model = load_model(\"vgg16_1.h5\")\n",
        "output = saved_model.predict(img)\n",
        "if output[0][0] > output[0][1]:\n",
        "    print(\"glasses\")\n",
        "else:\n",
        "    print('no-glasses')"
      ],
      "metadata": {
        "colab": {
          "base_uri": "https://localhost:8080/",
          "height": 306
        },
        "id": "1ya3FxkLby6W",
        "outputId": "27d3b1e6-65d3-4678-9636-e17665e2df07"
      },
      "execution_count": 21,
      "outputs": [
        {
          "output_type": "stream",
          "name": "stdout",
          "text": [
            "1/1 [==============================] - 1s 845ms/step\n",
            "glasses\n"
          ]
        },
        {
          "output_type": "display_data",
          "data": {
            "text/plain": [
              "<Figure size 432x288 with 1 Axes>"
            ],
            "image/png": "[encoded data removed]"
          },
          "metadata": {
            "needs_background": "light"
          }
        }
      ]
    },
    {
      "cell_type": "code",
      "source": [],
      "metadata": {
        "id": "sHbXBG6ueHNY"
      },
      "execution_count": null,
      "outputs": []
    }
  ]
}