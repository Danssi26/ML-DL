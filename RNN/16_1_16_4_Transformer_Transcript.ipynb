{
  "nbformat": 4,
  "nbformat_minor": 0,
  "metadata": {
    "colab": {
      "provenance": [],
      "machine_shape": "hm"
    },
    "kernelspec": {
      "name": "python3",
      "display_name": "Python 3"
    },
    "accelerator": "GPU",
    "gpuClass": "standard",
    "widgets": {
      "application/vnd.jupyter.widget-state+json": {
        "17e5ce20bd824cec81188417a561dd09": {
          "model_module": "@jupyter-widgets/controls",
          "model_name": "HBoxModel",
          "model_module_version": "1.5.0",
          "state": {
            "_dom_classes": [],
            "_model_module": "@jupyter-widgets/controls",
            "_model_module_version": "1.5.0",
            "_model_name": "HBoxModel",
            "_view_count": null,
            "_view_module": "@jupyter-widgets/controls",
            "_view_module_version": "1.5.0",
            "_view_name": "HBoxView",
            "box_style": "",
            "children": [
              "IPY_MODEL_f5bf4f1a9fa340b682c8fdfc8678b882",
              "IPY_MODEL_2b5f3acabf9d4d66a0a70a1701adfd16",
              "IPY_MODEL_923d82d205334e6f947b6bdb0fe385f7"
            ],
            "layout": "IPY_MODEL_9befabf9f3584da3a8b31b7b94eff47d"
          }
        },
        "f5bf4f1a9fa340b682c8fdfc8678b882": {
          "model_module": "@jupyter-widgets/controls",
          "model_name": "HTMLModel",
          "model_module_version": "1.5.0",
          "state": {
            "_dom_classes": [],
            "_model_module": "@jupyter-widgets/controls",
            "_model_module_version": "1.5.0",
            "_model_name": "HTMLModel",
            "_view_count": null,
            "_view_module": "@jupyter-widgets/controls",
            "_view_module_version": "1.5.0",
            "_view_name": "HTMLView",
            "description": "",
            "description_tooltip": null,
            "layout": "IPY_MODEL_1fa057d01b924561979b9ac0b4343743",
            "placeholder": "​",
            "style": "IPY_MODEL_b8c6b5bfe1d74020b04aa3cdd018f132",
            "value": "Dl Completed...: 100%"
          }
        },
        "2b5f3acabf9d4d66a0a70a1701adfd16": {
          "model_module": "@jupyter-widgets/controls",
          "model_name": "FloatProgressModel",
          "model_module_version": "1.5.0",
          "state": {
            "_dom_classes": [],
            "_model_module": "@jupyter-widgets/controls",
            "_model_module_version": "1.5.0",
            "_model_name": "FloatProgressModel",
            "_view_count": null,
            "_view_module": "@jupyter-widgets/controls",
            "_view_module_version": "1.5.0",
            "_view_name": "ProgressView",
            "bar_style": "success",
            "description": "",
            "description_tooltip": null,
            "layout": "IPY_MODEL_7d367e8d0c264315ae5e18a6391d4fe6",
            "max": 1,
            "min": 0,
            "orientation": "horizontal",
            "style": "IPY_MODEL_42fd508eb0b44cf78bc2f3c342b4c94c",
            "value": 1
          }
        },
        "923d82d205334e6f947b6bdb0fe385f7": {
          "model_module": "@jupyter-widgets/controls",
          "model_name": "HTMLModel",
          "model_module_version": "1.5.0",
          "state": {
            "_dom_classes": [],
            "_model_module": "@jupyter-widgets/controls",
            "_model_module_version": "1.5.0",
            "_model_name": "HTMLModel",
            "_view_count": null,
            "_view_module": "@jupyter-widgets/controls",
            "_view_module_version": "1.5.0",
            "_view_name": "HTMLView",
            "description": "",
            "description_tooltip": null,
            "layout": "IPY_MODEL_7ce0efd389634c0aa993af20e8866ab9",
            "placeholder": "​",
            "style": "IPY_MODEL_52e9e188d0d74710b0152dd4813ca16f",
            "value": " 1/1 [00:41&lt;00:00, 38.12s/ url]"
          }
        },
        "9befabf9f3584da3a8b31b7b94eff47d": {
          "model_module": "@jupyter-widgets/base",
          "model_name": "LayoutModel",
          "model_module_version": "1.2.0",
          "state": {
            "_model_module": "@jupyter-widgets/base",
            "_model_module_version": "1.2.0",
            "_model_name": "LayoutModel",
            "_view_count": null,
            "_view_module": "@jupyter-widgets/base",
            "_view_module_version": "1.2.0",
            "_view_name": "LayoutView",
            "align_content": null,
            "align_items": null,
            "align_self": null,
            "border": null,
            "bottom": null,
            "display": null,
            "flex": null,
            "flex_flow": null,
            "grid_area": null,
            "grid_auto_columns": null,
            "grid_auto_flow": null,
            "grid_auto_rows": null,
            "grid_column": null,
            "grid_gap": null,
            "grid_row": null,
            "grid_template_areas": null,
            "grid_template_columns": null,
            "grid_template_rows": null,
            "height": null,
            "justify_content": null,
            "justify_items": null,
            "left": null,
            "margin": null,
            "max_height": null,
            "max_width": null,
            "min_height": null,
            "min_width": null,
            "object_fit": null,
            "object_position": null,
            "order": null,
            "overflow": null,
            "overflow_x": null,
            "overflow_y": null,
            "padding": null,
            "right": null,
            "top": null,
            "visibility": null,
            "width": null
          }
        },
        "1fa057d01b924561979b9ac0b4343743": {
          "model_module": "@jupyter-widgets/base",
          "model_name": "LayoutModel",
          "model_module_version": "1.2.0",
          "state": {
            "_model_module": "@jupyter-widgets/base",
            "_model_module_version": "1.2.0",
            "_model_name": "LayoutModel",
            "_view_count": null,
            "_view_module": "@jupyter-widgets/base",
            "_view_module_version": "1.2.0",
            "_view_name": "LayoutView",
            "align_content": null,
            "align_items": null,
            "align_self": null,
            "border": null,
            "bottom": null,
            "display": null,
            "flex": null,
            "flex_flow": null,
            "grid_area": null,
            "grid_auto_columns": null,
            "grid_auto_flow": null,
            "grid_auto_rows": null,
            "grid_column": null,
            "grid_gap": null,
            "grid_row": null,
            "grid_template_areas": null,
            "grid_template_columns": null,
            "grid_template_rows": null,
            "height": null,
            "justify_content": null,
            "justify_items": null,
            "left": null,
            "margin": null,
            "max_height": null,
            "max_width": null,
            "min_height": null,
            "min_width": null,
            "object_fit": null,
            "object_position": null,
            "order": null,
            "overflow": null,
            "overflow_x": null,
            "overflow_y": null,
            "padding": null,
            "right": null,
            "top": null,
            "visibility": null,
            "width": null
          }
        },
        "b8c6b5bfe1d74020b04aa3cdd018f132": {
          "model_module": "@jupyter-widgets/controls",
          "model_name": "DescriptionStyleModel",
          "model_module_version": "1.5.0",
          "state": {
            "_model_module": "@jupyter-widgets/controls",
            "_model_module_version": "1.5.0",
            "_model_name": "DescriptionStyleModel",
            "_view_count": null,
            "_view_module": "@jupyter-widgets/base",
            "_view_module_version": "1.2.0",
            "_view_name": "StyleView",
            "description_width": ""
          }
        },
        "7d367e8d0c264315ae5e18a6391d4fe6": {
          "model_module": "@jupyter-widgets/base",
          "model_name": "LayoutModel",
          "model_module_version": "1.2.0",
          "state": {
            "_model_module": "@jupyter-widgets/base",
            "_model_module_version": "1.2.0",
            "_model_name": "LayoutModel",
            "_view_count": null,
            "_view_module": "@jupyter-widgets/base",
            "_view_module_version": "1.2.0",
            "_view_name": "LayoutView",
            "align_content": null,
            "align_items": null,
            "align_self": null,
            "border": null,
            "bottom": null,
            "display": null,
            "flex": null,
            "flex_flow": null,
            "grid_area": null,
            "grid_auto_columns": null,
            "grid_auto_flow": null,
            "grid_auto_rows": null,
            "grid_column": null,
            "grid_gap": null,
            "grid_row": null,
            "grid_template_areas": null,
            "grid_template_columns": null,
            "grid_template_rows": null,
            "height": null,
            "justify_content": null,
            "justify_items": null,
            "left": null,
            "margin": null,
            "max_height": null,
            "max_width": null,
            "min_height": null,
            "min_width": null,
            "object_fit": null,
            "object_position": null,
            "order": null,
            "overflow": null,
            "overflow_x": null,
            "overflow_y": null,
            "padding": null,
            "right": null,
            "top": null,
            "visibility": null,
            "width": "20px"
          }
        },
        "42fd508eb0b44cf78bc2f3c342b4c94c": {
          "model_module": "@jupyter-widgets/controls",
          "model_name": "ProgressStyleModel",
          "model_module_version": "1.5.0",
          "state": {
            "_model_module": "@jupyter-widgets/controls",
            "_model_module_version": "1.5.0",
            "_model_name": "ProgressStyleModel",
            "_view_count": null,
            "_view_module": "@jupyter-widgets/base",
            "_view_module_version": "1.2.0",
            "_view_name": "StyleView",
            "bar_color": null,
            "description_width": ""
          }
        },
        "7ce0efd389634c0aa993af20e8866ab9": {
          "model_module": "@jupyter-widgets/base",
          "model_name": "LayoutModel",
          "model_module_version": "1.2.0",
          "state": {
            "_model_module": "@jupyter-widgets/base",
            "_model_module_version": "1.2.0",
            "_model_name": "LayoutModel",
            "_view_count": null,
            "_view_module": "@jupyter-widgets/base",
            "_view_module_version": "1.2.0",
            "_view_name": "LayoutView",
            "align_content": null,
            "align_items": null,
            "align_self": null,
            "border": null,
            "bottom": null,
            "display": null,
            "flex": null,
            "flex_flow": null,
            "grid_area": null,
            "grid_auto_columns": null,
            "grid_auto_flow": null,
            "grid_auto_rows": null,
            "grid_column": null,
            "grid_gap": null,
            "grid_row": null,
            "grid_template_areas": null,
            "grid_template_columns": null,
            "grid_template_rows": null,
            "height": null,
            "justify_content": null,
            "justify_items": null,
            "left": null,
            "margin": null,
            "max_height": null,
            "max_width": null,
            "min_height": null,
            "min_width": null,
            "object_fit": null,
            "object_position": null,
            "order": null,
            "overflow": null,
            "overflow_x": null,
            "overflow_y": null,
            "padding": null,
            "right": null,
            "top": null,
            "visibility": null,
            "width": null
          }
        },
        "52e9e188d0d74710b0152dd4813ca16f": {
          "model_module": "@jupyter-widgets/controls",
          "model_name": "DescriptionStyleModel",
          "model_module_version": "1.5.0",
          "state": {
            "_model_module": "@jupyter-widgets/controls",
            "_model_module_version": "1.5.0",
            "_model_name": "DescriptionStyleModel",
            "_view_count": null,
            "_view_module": "@jupyter-widgets/base",
            "_view_module_version": "1.2.0",
            "_view_name": "StyleView",
            "description_width": ""
          }
        },
        "0d5ba14d72e54af99de8bb60d98cd8bf": {
          "model_module": "@jupyter-widgets/controls",
          "model_name": "HBoxModel",
          "model_module_version": "1.5.0",
          "state": {
            "_dom_classes": [],
            "_model_module": "@jupyter-widgets/controls",
            "_model_module_version": "1.5.0",
            "_model_name": "HBoxModel",
            "_view_count": null,
            "_view_module": "@jupyter-widgets/controls",
            "_view_module_version": "1.5.0",
            "_view_name": "HBoxView",
            "box_style": "",
            "children": [
              "IPY_MODEL_78d68b90bdfd4c2e8b69fd28a173d865",
              "IPY_MODEL_2dcaa1f239ca4f3aba9597b3ed6e219c",
              "IPY_MODEL_399a5c8b5a234185b926edde08bb1ea7"
            ],
            "layout": "IPY_MODEL_000aec4e1b544b1eaea60d73222454d1"
          }
        },
        "78d68b90bdfd4c2e8b69fd28a173d865": {
          "model_module": "@jupyter-widgets/controls",
          "model_name": "HTMLModel",
          "model_module_version": "1.5.0",
          "state": {
            "_dom_classes": [],
            "_model_module": "@jupyter-widgets/controls",
            "_model_module_version": "1.5.0",
            "_model_name": "HTMLModel",
            "_view_count": null,
            "_view_module": "@jupyter-widgets/controls",
            "_view_module_version": "1.5.0",
            "_view_name": "HTMLView",
            "description": "",
            "description_tooltip": null,
            "layout": "IPY_MODEL_df70ecff755b43f7b92fc3fa17abb1e5",
            "placeholder": "​",
            "style": "IPY_MODEL_ac56d93a5f584ca7b5a8f8970819d67e",
            "value": "Dl Size...: 100%"
          }
        },
        "2dcaa1f239ca4f3aba9597b3ed6e219c": {
          "model_module": "@jupyter-widgets/controls",
          "model_name": "FloatProgressModel",
          "model_module_version": "1.5.0",
          "state": {
            "_dom_classes": [],
            "_model_module": "@jupyter-widgets/controls",
            "_model_module_version": "1.5.0",
            "_model_name": "FloatProgressModel",
            "_view_count": null,
            "_view_module": "@jupyter-widgets/controls",
            "_view_module_version": "1.5.0",
            "_view_name": "ProgressView",
            "bar_style": "success",
            "description": "",
            "description_tooltip": null,
            "layout": "IPY_MODEL_11de9caf563745218a4d56345ad66c00",
            "max": 1,
            "min": 0,
            "orientation": "horizontal",
            "style": "IPY_MODEL_4b80ae56cb6547daba332fd36d7009ff",
            "value": 1
          }
        },
        "399a5c8b5a234185b926edde08bb1ea7": {
          "model_module": "@jupyter-widgets/controls",
          "model_name": "HTMLModel",
          "model_module_version": "1.5.0",
          "state": {
            "_dom_classes": [],
            "_model_module": "@jupyter-widgets/controls",
            "_model_module_version": "1.5.0",
            "_model_name": "HTMLModel",
            "_view_count": null,
            "_view_module": "@jupyter-widgets/controls",
            "_view_module_version": "1.5.0",
            "_view_name": "HTMLView",
            "description": "",
            "description_tooltip": null,
            "layout": "IPY_MODEL_caaa07e404064964b0c7b1cf150135ee",
            "placeholder": "​",
            "style": "IPY_MODEL_6f30eeec00eb478bbedff65d054c7147",
            "value": " 124/124 [00:41&lt;00:00,  1.50 MiB/s]"
          }
        },
        "000aec4e1b544b1eaea60d73222454d1": {
          "model_module": "@jupyter-widgets/base",
          "model_name": "LayoutModel",
          "model_module_version": "1.2.0",
          "state": {
            "_model_module": "@jupyter-widgets/base",
            "_model_module_version": "1.2.0",
            "_model_name": "LayoutModel",
            "_view_count": null,
            "_view_module": "@jupyter-widgets/base",
            "_view_module_version": "1.2.0",
            "_view_name": "LayoutView",
            "align_content": null,
            "align_items": null,
            "align_self": null,
            "border": null,
            "bottom": null,
            "display": null,
            "flex": null,
            "flex_flow": null,
            "grid_area": null,
            "grid_auto_columns": null,
            "grid_auto_flow": null,
            "grid_auto_rows": null,
            "grid_column": null,
            "grid_gap": null,
            "grid_row": null,
            "grid_template_areas": null,
            "grid_template_columns": null,
            "grid_template_rows": null,
            "height": null,
            "justify_content": null,
            "justify_items": null,
            "left": null,
            "margin": null,
            "max_height": null,
            "max_width": null,
            "min_height": null,
            "min_width": null,
            "object_fit": null,
            "object_position": null,
            "order": null,
            "overflow": null,
            "overflow_x": null,
            "overflow_y": null,
            "padding": null,
            "right": null,
            "top": null,
            "visibility": null,
            "width": null
          }
        },
        "df70ecff755b43f7b92fc3fa17abb1e5": {
          "model_module": "@jupyter-widgets/base",
          "model_name": "LayoutModel",
          "model_module_version": "1.2.0",
          "state": {
            "_model_module": "@jupyter-widgets/base",
            "_model_module_version": "1.2.0",
            "_model_name": "LayoutModel",
            "_view_count": null,
            "_view_module": "@jupyter-widgets/base",
            "_view_module_version": "1.2.0",
            "_view_name": "LayoutView",
            "align_content": null,
            "align_items": null,
            "align_self": null,
            "border": null,
            "bottom": null,
            "display": null,
            "flex": null,
            "flex_flow": null,
            "grid_area": null,
            "grid_auto_columns": null,
            "grid_auto_flow": null,
            "grid_auto_rows": null,
            "grid_column": null,
            "grid_gap": null,
            "grid_row": null,
            "grid_template_areas": null,
            "grid_template_columns": null,
            "grid_template_rows": null,
            "height": null,
            "justify_content": null,
            "justify_items": null,
            "left": null,
            "margin": null,
            "max_height": null,
            "max_width": null,
            "min_height": null,
            "min_width": null,
            "object_fit": null,
            "object_position": null,
            "order": null,
            "overflow": null,
            "overflow_x": null,
            "overflow_y": null,
            "padding": null,
            "right": null,
            "top": null,
            "visibility": null,
            "width": null
          }
        },
        "ac56d93a5f584ca7b5a8f8970819d67e": {
          "model_module": "@jupyter-widgets/controls",
          "model_name": "DescriptionStyleModel",
          "model_module_version": "1.5.0",
          "state": {
            "_model_module": "@jupyter-widgets/controls",
            "_model_module_version": "1.5.0",
            "_model_name": "DescriptionStyleModel",
            "_view_count": null,
            "_view_module": "@jupyter-widgets/base",
            "_view_module_version": "1.2.0",
            "_view_name": "StyleView",
            "description_width": ""
          }
        },
        "11de9caf563745218a4d56345ad66c00": {
          "model_module": "@jupyter-widgets/base",
          "model_name": "LayoutModel",
          "model_module_version": "1.2.0",
          "state": {
            "_model_module": "@jupyter-widgets/base",
            "_model_module_version": "1.2.0",
            "_model_name": "LayoutModel",
            "_view_count": null,
            "_view_module": "@jupyter-widgets/base",
            "_view_module_version": "1.2.0",
            "_view_name": "LayoutView",
            "align_content": null,
            "align_items": null,
            "align_self": null,
            "border": null,
            "bottom": null,
            "display": null,
            "flex": null,
            "flex_flow": null,
            "grid_area": null,
            "grid_auto_columns": null,
            "grid_auto_flow": null,
            "grid_auto_rows": null,
            "grid_column": null,
            "grid_gap": null,
            "grid_row": null,
            "grid_template_areas": null,
            "grid_template_columns": null,
            "grid_template_rows": null,
            "height": null,
            "justify_content": null,
            "justify_items": null,
            "left": null,
            "margin": null,
            "max_height": null,
            "max_width": null,
            "min_height": null,
            "min_width": null,
            "object_fit": null,
            "object_position": null,
            "order": null,
            "overflow": null,
            "overflow_x": null,
            "overflow_y": null,
            "padding": null,
            "right": null,
            "top": null,
            "visibility": null,
            "width": "20px"
          }
        },
        "4b80ae56cb6547daba332fd36d7009ff": {
          "model_module": "@jupyter-widgets/controls",
          "model_name": "ProgressStyleModel",
          "model_module_version": "1.5.0",
          "state": {
            "_model_module": "@jupyter-widgets/controls",
            "_model_module_version": "1.5.0",
            "_model_name": "ProgressStyleModel",
            "_view_count": null,
            "_view_module": "@jupyter-widgets/base",
            "_view_module_version": "1.2.0",
            "_view_name": "StyleView",
            "bar_color": null,
            "description_width": ""
          }
        },
        "caaa07e404064964b0c7b1cf150135ee": {
          "model_module": "@jupyter-widgets/base",
          "model_name": "LayoutModel",
          "model_module_version": "1.2.0",
          "state": {
            "_model_module": "@jupyter-widgets/base",
            "_model_module_version": "1.2.0",
            "_model_name": "LayoutModel",
            "_view_count": null,
            "_view_module": "@jupyter-widgets/base",
            "_view_module_version": "1.2.0",
            "_view_name": "LayoutView",
            "align_content": null,
            "align_items": null,
            "align_self": null,
            "border": null,
            "bottom": null,
            "display": null,
            "flex": null,
            "flex_flow": null,
            "grid_area": null,
            "grid_auto_columns": null,
            "grid_auto_flow": null,
            "grid_auto_rows": null,
            "grid_column": null,
            "grid_gap": null,
            "grid_row": null,
            "grid_template_areas": null,
            "grid_template_columns": null,
            "grid_template_rows": null,
            "height": null,
            "justify_content": null,
            "justify_items": null,
            "left": null,
            "margin": null,
            "max_height": null,
            "max_width": null,
            "min_height": null,
            "min_width": null,
            "object_fit": null,
            "object_position": null,
            "order": null,
            "overflow": null,
            "overflow_x": null,
            "overflow_y": null,
            "padding": null,
            "right": null,
            "top": null,
            "visibility": null,
            "width": null
          }
        },
        "6f30eeec00eb478bbedff65d054c7147": {
          "model_module": "@jupyter-widgets/controls",
          "model_name": "DescriptionStyleModel",
          "model_module_version": "1.5.0",
          "state": {
            "_model_module": "@jupyter-widgets/controls",
            "_model_module_version": "1.5.0",
            "_model_name": "DescriptionStyleModel",
            "_view_count": null,
            "_view_module": "@jupyter-widgets/base",
            "_view_module_version": "1.2.0",
            "_view_name": "StyleView",
            "description_width": ""
          }
        },
        "06cc5b8beb4848b2a29e959f17219560": {
          "model_module": "@jupyter-widgets/controls",
          "model_name": "HBoxModel",
          "model_module_version": "1.5.0",
          "state": {
            "_dom_classes": [],
            "_model_module": "@jupyter-widgets/controls",
            "_model_module_version": "1.5.0",
            "_model_name": "HBoxModel",
            "_view_count": null,
            "_view_module": "@jupyter-widgets/controls",
            "_view_module_version": "1.5.0",
            "_view_name": "HBoxView",
            "box_style": "",
            "children": [
              "IPY_MODEL_0cd5d571e9004429bb657d6ba3d54761",
              "IPY_MODEL_05b37383f1e24dcbb687dac7d6059541",
              "IPY_MODEL_86c784960e0f4288806694780538b6f8"
            ],
            "layout": "IPY_MODEL_541b6a37e3944ca3a7987a02ddfa35c0"
          }
        },
        "0cd5d571e9004429bb657d6ba3d54761": {
          "model_module": "@jupyter-widgets/controls",
          "model_name": "HTMLModel",
          "model_module_version": "1.5.0",
          "state": {
            "_dom_classes": [],
            "_model_module": "@jupyter-widgets/controls",
            "_model_module_version": "1.5.0",
            "_model_name": "HTMLModel",
            "_view_count": null,
            "_view_module": "@jupyter-widgets/controls",
            "_view_module_version": "1.5.0",
            "_view_name": "HTMLView",
            "description": "",
            "description_tooltip": null,
            "layout": "IPY_MODEL_5f8296006e0f4a9393870a91708a4de0",
            "placeholder": "​",
            "style": "IPY_MODEL_166f57437c384c35b27cc5392c28aa4d",
            "value": "Extraction completed...: 100%"
          }
        },
        "05b37383f1e24dcbb687dac7d6059541": {
          "model_module": "@jupyter-widgets/controls",
          "model_name": "FloatProgressModel",
          "model_module_version": "1.5.0",
          "state": {
            "_dom_classes": [],
            "_model_module": "@jupyter-widgets/controls",
            "_model_module_version": "1.5.0",
            "_model_name": "FloatProgressModel",
            "_view_count": null,
            "_view_module": "@jupyter-widgets/controls",
            "_view_module_version": "1.5.0",
            "_view_name": "ProgressView",
            "bar_style": "success",
            "description": "",
            "description_tooltip": null,
            "layout": "IPY_MODEL_3f5bb840fd3e44a79e3089f2fbfec2d7",
            "max": 1,
            "min": 0,
            "orientation": "horizontal",
            "style": "IPY_MODEL_02b1a3c5ad7540419a6ffee7b53ea0de",
            "value": 1
          }
        },
        "86c784960e0f4288806694780538b6f8": {
          "model_module": "@jupyter-widgets/controls",
          "model_name": "HTMLModel",
          "model_module_version": "1.5.0",
          "state": {
            "_dom_classes": [],
            "_model_module": "@jupyter-widgets/controls",
            "_model_module_version": "1.5.0",
            "_model_name": "HTMLModel",
            "_view_count": null,
            "_view_module": "@jupyter-widgets/controls",
            "_view_module_version": "1.5.0",
            "_view_name": "HTMLView",
            "description": "",
            "description_tooltip": null,
            "layout": "IPY_MODEL_45f00e45655c4330b93ba77797702a80",
            "placeholder": "​",
            "style": "IPY_MODEL_bd3042aef11c470d9e1fe38f4a021518",
            "value": " 112/112 [00:41&lt;00:00, 41.20s/ file]"
          }
        },
        "541b6a37e3944ca3a7987a02ddfa35c0": {
          "model_module": "@jupyter-widgets/base",
          "model_name": "LayoutModel",
          "model_module_version": "1.2.0",
          "state": {
            "_model_module": "@jupyter-widgets/base",
            "_model_module_version": "1.2.0",
            "_model_name": "LayoutModel",
            "_view_count": null,
            "_view_module": "@jupyter-widgets/base",
            "_view_module_version": "1.2.0",
            "_view_name": "LayoutView",
            "align_content": null,
            "align_items": null,
            "align_self": null,
            "border": null,
            "bottom": null,
            "display": null,
            "flex": null,
            "flex_flow": null,
            "grid_area": null,
            "grid_auto_columns": null,
            "grid_auto_flow": null,
            "grid_auto_rows": null,
            "grid_column": null,
            "grid_gap": null,
            "grid_row": null,
            "grid_template_areas": null,
            "grid_template_columns": null,
            "grid_template_rows": null,
            "height": null,
            "justify_content": null,
            "justify_items": null,
            "left": null,
            "margin": null,
            "max_height": null,
            "max_width": null,
            "min_height": null,
            "min_width": null,
            "object_fit": null,
            "object_position": null,
            "order": null,
            "overflow": null,
            "overflow_x": null,
            "overflow_y": null,
            "padding": null,
            "right": null,
            "top": null,
            "visibility": null,
            "width": null
          }
        },
        "5f8296006e0f4a9393870a91708a4de0": {
          "model_module": "@jupyter-widgets/base",
          "model_name": "LayoutModel",
          "model_module_version": "1.2.0",
          "state": {
            "_model_module": "@jupyter-widgets/base",
            "_model_module_version": "1.2.0",
            "_model_name": "LayoutModel",
            "_view_count": null,
            "_view_module": "@jupyter-widgets/base",
            "_view_module_version": "1.2.0",
            "_view_name": "LayoutView",
            "align_content": null,
            "align_items": null,
            "align_self": null,
            "border": null,
            "bottom": null,
            "display": null,
            "flex": null,
            "flex_flow": null,
            "grid_area": null,
            "grid_auto_columns": null,
            "grid_auto_flow": null,
            "grid_auto_rows": null,
            "grid_column": null,
            "grid_gap": null,
            "grid_row": null,
            "grid_template_areas": null,
            "grid_template_columns": null,
            "grid_template_rows": null,
            "height": null,
            "justify_content": null,
            "justify_items": null,
            "left": null,
            "margin": null,
            "max_height": null,
            "max_width": null,
            "min_height": null,
            "min_width": null,
            "object_fit": null,
            "object_position": null,
            "order": null,
            "overflow": null,
            "overflow_x": null,
            "overflow_y": null,
            "padding": null,
            "right": null,
            "top": null,
            "visibility": null,
            "width": null
          }
        },
        "166f57437c384c35b27cc5392c28aa4d": {
          "model_module": "@jupyter-widgets/controls",
          "model_name": "DescriptionStyleModel",
          "model_module_version": "1.5.0",
          "state": {
            "_model_module": "@jupyter-widgets/controls",
            "_model_module_version": "1.5.0",
            "_model_name": "DescriptionStyleModel",
            "_view_count": null,
            "_view_module": "@jupyter-widgets/base",
            "_view_module_version": "1.2.0",
            "_view_name": "StyleView",
            "description_width": ""
          }
        },
        "3f5bb840fd3e44a79e3089f2fbfec2d7": {
          "model_module": "@jupyter-widgets/base",
          "model_name": "LayoutModel",
          "model_module_version": "1.2.0",
          "state": {
            "_model_module": "@jupyter-widgets/base",
            "_model_module_version": "1.2.0",
            "_model_name": "LayoutModel",
            "_view_count": null,
            "_view_module": "@jupyter-widgets/base",
            "_view_module_version": "1.2.0",
            "_view_name": "LayoutView",
            "align_content": null,
            "align_items": null,
            "align_self": null,
            "border": null,
            "bottom": null,
            "display": null,
            "flex": null,
            "flex_flow": null,
            "grid_area": null,
            "grid_auto_columns": null,
            "grid_auto_flow": null,
            "grid_auto_rows": null,
            "grid_column": null,
            "grid_gap": null,
            "grid_row": null,
            "grid_template_areas": null,
            "grid_template_columns": null,
            "grid_template_rows": null,
            "height": null,
            "justify_content": null,
            "justify_items": null,
            "left": null,
            "margin": null,
            "max_height": null,
            "max_width": null,
            "min_height": null,
            "min_width": null,
            "object_fit": null,
            "object_position": null,
            "order": null,
            "overflow": null,
            "overflow_x": null,
            "overflow_y": null,
            "padding": null,
            "right": null,
            "top": null,
            "visibility": null,
            "width": "20px"
          }
        },
        "02b1a3c5ad7540419a6ffee7b53ea0de": {
          "model_module": "@jupyter-widgets/controls",
          "model_name": "ProgressStyleModel",
          "model_module_version": "1.5.0",
          "state": {
            "_model_module": "@jupyter-widgets/controls",
            "_model_module_version": "1.5.0",
            "_model_name": "ProgressStyleModel",
            "_view_count": null,
            "_view_module": "@jupyter-widgets/base",
            "_view_module_version": "1.2.0",
            "_view_name": "StyleView",
            "bar_color": null,
            "description_width": ""
          }
        },
        "45f00e45655c4330b93ba77797702a80": {
          "model_module": "@jupyter-widgets/base",
          "model_name": "LayoutModel",
          "model_module_version": "1.2.0",
          "state": {
            "_model_module": "@jupyter-widgets/base",
            "_model_module_version": "1.2.0",
            "_model_name": "LayoutModel",
            "_view_count": null,
            "_view_module": "@jupyter-widgets/base",
            "_view_module_version": "1.2.0",
            "_view_name": "LayoutView",
            "align_content": null,
            "align_items": null,
            "align_self": null,
            "border": null,
            "bottom": null,
            "display": null,
            "flex": null,
            "flex_flow": null,
            "grid_area": null,
            "grid_auto_columns": null,
            "grid_auto_flow": null,
            "grid_auto_rows": null,
            "grid_column": null,
            "grid_gap": null,
            "grid_row": null,
            "grid_template_areas": null,
            "grid_template_columns": null,
            "grid_template_rows": null,
            "height": null,
            "justify_content": null,
            "justify_items": null,
            "left": null,
            "margin": null,
            "max_height": null,
            "max_width": null,
            "min_height": null,
            "min_width": null,
            "object_fit": null,
            "object_position": null,
            "order": null,
            "overflow": null,
            "overflow_x": null,
            "overflow_y": null,
            "padding": null,
            "right": null,
            "top": null,
            "visibility": null,
            "width": null
          }
        },
        "bd3042aef11c470d9e1fe38f4a021518": {
          "model_module": "@jupyter-widgets/controls",
          "model_name": "DescriptionStyleModel",
          "model_module_version": "1.5.0",
          "state": {
            "_model_module": "@jupyter-widgets/controls",
            "_model_module_version": "1.5.0",
            "_model_name": "DescriptionStyleModel",
            "_view_count": null,
            "_view_module": "@jupyter-widgets/base",
            "_view_module_version": "1.2.0",
            "_view_name": "StyleView",
            "description_width": ""
          }
        },
        "c6f62bcd9a0a4ea2b7fa2d19f64f8759": {
          "model_module": "@jupyter-widgets/controls",
          "model_name": "HBoxModel",
          "model_module_version": "1.5.0",
          "state": {
            "_dom_classes": [],
            "_model_module": "@jupyter-widgets/controls",
            "_model_module_version": "1.5.0",
            "_model_name": "HBoxModel",
            "_view_count": null,
            "_view_module": "@jupyter-widgets/controls",
            "_view_module_version": "1.5.0",
            "_view_name": "HBoxView",
            "box_style": "",
            "children": [
              "IPY_MODEL_7b4471ec01624374b60dec4da8484ce9",
              "IPY_MODEL_46e0d64501914d2389107e1d68412bfb",
              "IPY_MODEL_8aec3ce13e6b49408d0ba45a3e9afddd"
            ],
            "layout": "IPY_MODEL_40527de3b84749a5812e127e0a06e246"
          }
        },
        "7b4471ec01624374b60dec4da8484ce9": {
          "model_module": "@jupyter-widgets/controls",
          "model_name": "HTMLModel",
          "model_module_version": "1.5.0",
          "state": {
            "_dom_classes": [],
            "_model_module": "@jupyter-widgets/controls",
            "_model_module_version": "1.5.0",
            "_model_name": "HTMLModel",
            "_view_count": null,
            "_view_module": "@jupyter-widgets/controls",
            "_view_module_version": "1.5.0",
            "_view_name": "HTMLView",
            "description": "",
            "description_tooltip": null,
            "layout": "IPY_MODEL_4b70e742539949618ba69f1e3db5cad7",
            "placeholder": "​",
            "style": "IPY_MODEL_d4762613f6d04b41a8dbb5e04d4a15f4",
            "value": "Generating splits...: 100%"
          }
        },
        "46e0d64501914d2389107e1d68412bfb": {
          "model_module": "@jupyter-widgets/controls",
          "model_name": "FloatProgressModel",
          "model_module_version": "1.5.0",
          "state": {
            "_dom_classes": [],
            "_model_module": "@jupyter-widgets/controls",
            "_model_module_version": "1.5.0",
            "_model_name": "FloatProgressModel",
            "_view_count": null,
            "_view_module": "@jupyter-widgets/controls",
            "_view_module_version": "1.5.0",
            "_view_name": "ProgressView",
            "bar_style": "",
            "description": "",
            "description_tooltip": null,
            "layout": "IPY_MODEL_43a1c6f4907b49baa3c7b2760d9a5ec1",
            "max": 3,
            "min": 0,
            "orientation": "horizontal",
            "style": "IPY_MODEL_5e1e85e168a94db7980e8adbf10f435a",
            "value": 3
          }
        },
        "8aec3ce13e6b49408d0ba45a3e9afddd": {
          "model_module": "@jupyter-widgets/controls",
          "model_name": "HTMLModel",
          "model_module_version": "1.5.0",
          "state": {
            "_dom_classes": [],
            "_model_module": "@jupyter-widgets/controls",
            "_model_module_version": "1.5.0",
            "_model_name": "HTMLModel",
            "_view_count": null,
            "_view_module": "@jupyter-widgets/controls",
            "_view_module_version": "1.5.0",
            "_view_name": "HTMLView",
            "description": "",
            "description_tooltip": null,
            "layout": "IPY_MODEL_2588e4cb720947a5808fef5f0dd5f5bd",
            "placeholder": "​",
            "style": "IPY_MODEL_a4d310e71b0e402f9662bb90bd9b7de8",
            "value": " 3/3 [00:05&lt;00:00,  1.23s/ splits]"
          }
        },
        "40527de3b84749a5812e127e0a06e246": {
          "model_module": "@jupyter-widgets/base",
          "model_name": "LayoutModel",
          "model_module_version": "1.2.0",
          "state": {
            "_model_module": "@jupyter-widgets/base",
            "_model_module_version": "1.2.0",
            "_model_name": "LayoutModel",
            "_view_count": null,
            "_view_module": "@jupyter-widgets/base",
            "_view_module_version": "1.2.0",
            "_view_name": "LayoutView",
            "align_content": null,
            "align_items": null,
            "align_self": null,
            "border": null,
            "bottom": null,
            "display": null,
            "flex": null,
            "flex_flow": null,
            "grid_area": null,
            "grid_auto_columns": null,
            "grid_auto_flow": null,
            "grid_auto_rows": null,
            "grid_column": null,
            "grid_gap": null,
            "grid_row": null,
            "grid_template_areas": null,
            "grid_template_columns": null,
            "grid_template_rows": null,
            "height": null,
            "justify_content": null,
            "justify_items": null,
            "left": null,
            "margin": null,
            "max_height": null,
            "max_width": null,
            "min_height": null,
            "min_width": null,
            "object_fit": null,
            "object_position": null,
            "order": null,
            "overflow": null,
            "overflow_x": null,
            "overflow_y": null,
            "padding": null,
            "right": null,
            "top": null,
            "visibility": "hidden",
            "width": null
          }
        },
        "4b70e742539949618ba69f1e3db5cad7": {
          "model_module": "@jupyter-widgets/base",
          "model_name": "LayoutModel",
          "model_module_version": "1.2.0",
          "state": {
            "_model_module": "@jupyter-widgets/base",
            "_model_module_version": "1.2.0",
            "_model_name": "LayoutModel",
            "_view_count": null,
            "_view_module": "@jupyter-widgets/base",
            "_view_module_version": "1.2.0",
            "_view_name": "LayoutView",
            "align_content": null,
            "align_items": null,
            "align_self": null,
            "border": null,
            "bottom": null,
            "display": null,
            "flex": null,
            "flex_flow": null,
            "grid_area": null,
            "grid_auto_columns": null,
            "grid_auto_flow": null,
            "grid_auto_rows": null,
            "grid_column": null,
            "grid_gap": null,
            "grid_row": null,
            "grid_template_areas": null,
            "grid_template_columns": null,
            "grid_template_rows": null,
            "height": null,
            "justify_content": null,
            "justify_items": null,
            "left": null,
            "margin": null,
            "max_height": null,
            "max_width": null,
            "min_height": null,
            "min_width": null,
            "object_fit": null,
            "object_position": null,
            "order": null,
            "overflow": null,
            "overflow_x": null,
            "overflow_y": null,
            "padding": null,
            "right": null,
            "top": null,
            "visibility": null,
            "width": null
          }
        },
        "d4762613f6d04b41a8dbb5e04d4a15f4": {
          "model_module": "@jupyter-widgets/controls",
          "model_name": "DescriptionStyleModel",
          "model_module_version": "1.5.0",
          "state": {
            "_model_module": "@jupyter-widgets/controls",
            "_model_module_version": "1.5.0",
            "_model_name": "DescriptionStyleModel",
            "_view_count": null,
            "_view_module": "@jupyter-widgets/base",
            "_view_module_version": "1.2.0",
            "_view_name": "StyleView",
            "description_width": ""
          }
        },
        "43a1c6f4907b49baa3c7b2760d9a5ec1": {
          "model_module": "@jupyter-widgets/base",
          "model_name": "LayoutModel",
          "model_module_version": "1.2.0",
          "state": {
            "_model_module": "@jupyter-widgets/base",
            "_model_module_version": "1.2.0",
            "_model_name": "LayoutModel",
            "_view_count": null,
            "_view_module": "@jupyter-widgets/base",
            "_view_module_version": "1.2.0",
            "_view_name": "LayoutView",
            "align_content": null,
            "align_items": null,
            "align_self": null,
            "border": null,
            "bottom": null,
            "display": null,
            "flex": null,
            "flex_flow": null,
            "grid_area": null,
            "grid_auto_columns": null,
            "grid_auto_flow": null,
            "grid_auto_rows": null,
            "grid_column": null,
            "grid_gap": null,
            "grid_row": null,
            "grid_template_areas": null,
            "grid_template_columns": null,
            "grid_template_rows": null,
            "height": null,
            "justify_content": null,
            "justify_items": null,
            "left": null,
            "margin": null,
            "max_height": null,
            "max_width": null,
            "min_height": null,
            "min_width": null,
            "object_fit": null,
            "object_position": null,
            "order": null,
            "overflow": null,
            "overflow_x": null,
            "overflow_y": null,
            "padding": null,
            "right": null,
            "top": null,
            "visibility": null,
            "width": null
          }
        },
        "5e1e85e168a94db7980e8adbf10f435a": {
          "model_module": "@jupyter-widgets/controls",
          "model_name": "ProgressStyleModel",
          "model_module_version": "1.5.0",
          "state": {
            "_model_module": "@jupyter-widgets/controls",
            "_model_module_version": "1.5.0",
            "_model_name": "ProgressStyleModel",
            "_view_count": null,
            "_view_module": "@jupyter-widgets/base",
            "_view_module_version": "1.2.0",
            "_view_name": "StyleView",
            "bar_color": null,
            "description_width": ""
          }
        },
        "2588e4cb720947a5808fef5f0dd5f5bd": {
          "model_module": "@jupyter-widgets/base",
          "model_name": "LayoutModel",
          "model_module_version": "1.2.0",
          "state": {
            "_model_module": "@jupyter-widgets/base",
            "_model_module_version": "1.2.0",
            "_model_name": "LayoutModel",
            "_view_count": null,
            "_view_module": "@jupyter-widgets/base",
            "_view_module_version": "1.2.0",
            "_view_name": "LayoutView",
            "align_content": null,
            "align_items": null,
            "align_self": null,
            "border": null,
            "bottom": null,
            "display": null,
            "flex": null,
            "flex_flow": null,
            "grid_area": null,
            "grid_auto_columns": null,
            "grid_auto_flow": null,
            "grid_auto_rows": null,
            "grid_column": null,
            "grid_gap": null,
            "grid_row": null,
            "grid_template_areas": null,
            "grid_template_columns": null,
            "grid_template_rows": null,
            "height": null,
            "justify_content": null,
            "justify_items": null,
            "left": null,
            "margin": null,
            "max_height": null,
            "max_width": null,
            "min_height": null,
            "min_width": null,
            "object_fit": null,
            "object_position": null,
            "order": null,
            "overflow": null,
            "overflow_x": null,
            "overflow_y": null,
            "padding": null,
            "right": null,
            "top": null,
            "visibility": null,
            "width": null
          }
        },
        "a4d310e71b0e402f9662bb90bd9b7de8": {
          "model_module": "@jupyter-widgets/controls",
          "model_name": "DescriptionStyleModel",
          "model_module_version": "1.5.0",
          "state": {
            "_model_module": "@jupyter-widgets/controls",
            "_model_module_version": "1.5.0",
            "_model_name": "DescriptionStyleModel",
            "_view_count": null,
            "_view_module": "@jupyter-widgets/base",
            "_view_module_version": "1.2.0",
            "_view_name": "StyleView",
            "description_width": ""
          }
        },
        "ecca2d79e74d464da5c97a69306396a0": {
          "model_module": "@jupyter-widgets/controls",
          "model_name": "HBoxModel",
          "model_module_version": "1.5.0",
          "state": {
            "_dom_classes": [],
            "_model_module": "@jupyter-widgets/controls",
            "_model_module_version": "1.5.0",
            "_model_name": "HBoxModel",
            "_view_count": null,
            "_view_module": "@jupyter-widgets/controls",
            "_view_module_version": "1.5.0",
            "_view_name": "HBoxView",
            "box_style": "",
            "children": [
              "IPY_MODEL_b5e8ed9500954f00abab935a511747ba",
              "IPY_MODEL_0db41e0a42bb445c831065c20e0fce81",
              "IPY_MODEL_ca66950b36b04b39a5112d2530864908"
            ],
            "layout": "IPY_MODEL_04c5567f4e324eceb0e041efcf8452cd"
          }
        },
        "b5e8ed9500954f00abab935a511747ba": {
          "model_module": "@jupyter-widgets/controls",
          "model_name": "HTMLModel",
          "model_module_version": "1.5.0",
          "state": {
            "_dom_classes": [],
            "_model_module": "@jupyter-widgets/controls",
            "_model_module_version": "1.5.0",
            "_model_name": "HTMLModel",
            "_view_count": null,
            "_view_module": "@jupyter-widgets/controls",
            "_view_module_version": "1.5.0",
            "_view_name": "HTMLView",
            "description": "",
            "description_tooltip": null,
            "layout": "IPY_MODEL_3814a4ef1eca4665ada6d588c9769194",
            "placeholder": "​",
            "style": "IPY_MODEL_847be957c9f64de4b1f9f06ab61a6bdd",
            "value": "Generating train examples...:  98%"
          }
        },
        "0db41e0a42bb445c831065c20e0fce81": {
          "model_module": "@jupyter-widgets/controls",
          "model_name": "FloatProgressModel",
          "model_module_version": "1.5.0",
          "state": {
            "_dom_classes": [],
            "_model_module": "@jupyter-widgets/controls",
            "_model_module_version": "1.5.0",
            "_model_name": "FloatProgressModel",
            "_view_count": null,
            "_view_module": "@jupyter-widgets/controls",
            "_view_module_version": "1.5.0",
            "_view_name": "ProgressView",
            "bar_style": "",
            "description": "",
            "description_tooltip": null,
            "layout": "IPY_MODEL_19c1b97ee84149c7adf8af16933222f5",
            "max": 51785,
            "min": 0,
            "orientation": "horizontal",
            "style": "IPY_MODEL_2ff57a21fda741749cd6f515a56b375a",
            "value": 51785
          }
        },
        "ca66950b36b04b39a5112d2530864908": {
          "model_module": "@jupyter-widgets/controls",
          "model_name": "HTMLModel",
          "model_module_version": "1.5.0",
          "state": {
            "_dom_classes": [],
            "_model_module": "@jupyter-widgets/controls",
            "_model_module_version": "1.5.0",
            "_model_name": "HTMLModel",
            "_view_count": null,
            "_view_module": "@jupyter-widgets/controls",
            "_view_module_version": "1.5.0",
            "_view_name": "HTMLView",
            "description": "",
            "description_tooltip": null,
            "layout": "IPY_MODEL_12a96065d41e46928606dbe11a0cfab1",
            "placeholder": "​",
            "style": "IPY_MODEL_054a9f91d20541f29e1f6bea1eb8ea23",
            "value": " 50987/51785 [00:04&lt;00:00, 13974.90 examples/s]"
          }
        },
        "04c5567f4e324eceb0e041efcf8452cd": {
          "model_module": "@jupyter-widgets/base",
          "model_name": "LayoutModel",
          "model_module_version": "1.2.0",
          "state": {
            "_model_module": "@jupyter-widgets/base",
            "_model_module_version": "1.2.0",
            "_model_name": "LayoutModel",
            "_view_count": null,
            "_view_module": "@jupyter-widgets/base",
            "_view_module_version": "1.2.0",
            "_view_name": "LayoutView",
            "align_content": null,
            "align_items": null,
            "align_self": null,
            "border": null,
            "bottom": null,
            "display": null,
            "flex": null,
            "flex_flow": null,
            "grid_area": null,
            "grid_auto_columns": null,
            "grid_auto_flow": null,
            "grid_auto_rows": null,
            "grid_column": null,
            "grid_gap": null,
            "grid_row": null,
            "grid_template_areas": null,
            "grid_template_columns": null,
            "grid_template_rows": null,
            "height": null,
            "justify_content": null,
            "justify_items": null,
            "left": null,
            "margin": null,
            "max_height": null,
            "max_width": null,
            "min_height": null,
            "min_width": null,
            "object_fit": null,
            "object_position": null,
            "order": null,
            "overflow": null,
            "overflow_x": null,
            "overflow_y": null,
            "padding": null,
            "right": null,
            "top": null,
            "visibility": "hidden",
            "width": null
          }
        },
        "3814a4ef1eca4665ada6d588c9769194": {
          "model_module": "@jupyter-widgets/base",
          "model_name": "LayoutModel",
          "model_module_version": "1.2.0",
          "state": {
            "_model_module": "@jupyter-widgets/base",
            "_model_module_version": "1.2.0",
            "_model_name": "LayoutModel",
            "_view_count": null,
            "_view_module": "@jupyter-widgets/base",
            "_view_module_version": "1.2.0",
            "_view_name": "LayoutView",
            "align_content": null,
            "align_items": null,
            "align_self": null,
            "border": null,
            "bottom": null,
            "display": null,
            "flex": null,
            "flex_flow": null,
            "grid_area": null,
            "grid_auto_columns": null,
            "grid_auto_flow": null,
            "grid_auto_rows": null,
            "grid_column": null,
            "grid_gap": null,
            "grid_row": null,
            "grid_template_areas": null,
            "grid_template_columns": null,
            "grid_template_rows": null,
            "height": null,
            "justify_content": null,
            "justify_items": null,
            "left": null,
            "margin": null,
            "max_height": null,
            "max_width": null,
            "min_height": null,
            "min_width": null,
            "object_fit": null,
            "object_position": null,
            "order": null,
            "overflow": null,
            "overflow_x": null,
            "overflow_y": null,
            "padding": null,
            "right": null,
            "top": null,
            "visibility": null,
            "width": null
          }
        },
        "847be957c9f64de4b1f9f06ab61a6bdd": {
          "model_module": "@jupyter-widgets/controls",
          "model_name": "DescriptionStyleModel",
          "model_module_version": "1.5.0",
          "state": {
            "_model_module": "@jupyter-widgets/controls",
            "_model_module_version": "1.5.0",
            "_model_name": "DescriptionStyleModel",
            "_view_count": null,
            "_view_module": "@jupyter-widgets/base",
            "_view_module_version": "1.2.0",
            "_view_name": "StyleView",
            "description_width": ""
          }
        },
        "19c1b97ee84149c7adf8af16933222f5": {
          "model_module": "@jupyter-widgets/base",
          "model_name": "LayoutModel",
          "model_module_version": "1.2.0",
          "state": {
            "_model_module": "@jupyter-widgets/base",
            "_model_module_version": "1.2.0",
            "_model_name": "LayoutModel",
            "_view_count": null,
            "_view_module": "@jupyter-widgets/base",
            "_view_module_version": "1.2.0",
            "_view_name": "LayoutView",
            "align_content": null,
            "align_items": null,
            "align_self": null,
            "border": null,
            "bottom": null,
            "display": null,
            "flex": null,
            "flex_flow": null,
            "grid_area": null,
            "grid_auto_columns": null,
            "grid_auto_flow": null,
            "grid_auto_rows": null,
            "grid_column": null,
            "grid_gap": null,
            "grid_row": null,
            "grid_template_areas": null,
            "grid_template_columns": null,
            "grid_template_rows": null,
            "height": null,
            "justify_content": null,
            "justify_items": null,
            "left": null,
            "margin": null,
            "max_height": null,
            "max_width": null,
            "min_height": null,
            "min_width": null,
            "object_fit": null,
            "object_position": null,
            "order": null,
            "overflow": null,
            "overflow_x": null,
            "overflow_y": null,
            "padding": null,
            "right": null,
            "top": null,
            "visibility": null,
            "width": null
          }
        },
        "2ff57a21fda741749cd6f515a56b375a": {
          "model_module": "@jupyter-widgets/controls",
          "model_name": "ProgressStyleModel",
          "model_module_version": "1.5.0",
          "state": {
            "_model_module": "@jupyter-widgets/controls",
            "_model_module_version": "1.5.0",
            "_model_name": "ProgressStyleModel",
            "_view_count": null,
            "_view_module": "@jupyter-widgets/base",
            "_view_module_version": "1.2.0",
            "_view_name": "StyleView",
            "bar_color": null,
            "description_width": ""
          }
        },
        "12a96065d41e46928606dbe11a0cfab1": {
          "model_module": "@jupyter-widgets/base",
          "model_name": "LayoutModel",
          "model_module_version": "1.2.0",
          "state": {
            "_model_module": "@jupyter-widgets/base",
            "_model_module_version": "1.2.0",
            "_model_name": "LayoutModel",
            "_view_count": null,
            "_view_module": "@jupyter-widgets/base",
            "_view_module_version": "1.2.0",
            "_view_name": "LayoutView",
            "align_content": null,
            "align_items": null,
            "align_self": null,
            "border": null,
            "bottom": null,
            "display": null,
            "flex": null,
            "flex_flow": null,
            "grid_area": null,
            "grid_auto_columns": null,
            "grid_auto_flow": null,
            "grid_auto_rows": null,
            "grid_column": null,
            "grid_gap": null,
            "grid_row": null,
            "grid_template_areas": null,
            "grid_template_columns": null,
            "grid_template_rows": null,
            "height": null,
            "justify_content": null,
            "justify_items": null,
            "left": null,
            "margin": null,
            "max_height": null,
            "max_width": null,
            "min_height": null,
            "min_width": null,
            "object_fit": null,
            "object_position": null,
            "order": null,
            "overflow": null,
            "overflow_x": null,
            "overflow_y": null,
            "padding": null,
            "right": null,
            "top": null,
            "visibility": null,
            "width": null
          }
        },
        "054a9f91d20541f29e1f6bea1eb8ea23": {
          "model_module": "@jupyter-widgets/controls",
          "model_name": "DescriptionStyleModel",
          "model_module_version": "1.5.0",
          "state": {
            "_model_module": "@jupyter-widgets/controls",
            "_model_module_version": "1.5.0",
            "_model_name": "DescriptionStyleModel",
            "_view_count": null,
            "_view_module": "@jupyter-widgets/base",
            "_view_module_version": "1.2.0",
            "_view_name": "StyleView",
            "description_width": ""
          }
        },
        "bee30675b3ed4ff7812e84505766ef04": {
          "model_module": "@jupyter-widgets/controls",
          "model_name": "HBoxModel",
          "model_module_version": "1.5.0",
          "state": {
            "_dom_classes": [],
            "_model_module": "@jupyter-widgets/controls",
            "_model_module_version": "1.5.0",
            "_model_name": "HBoxModel",
            "_view_count": null,
            "_view_module": "@jupyter-widgets/controls",
            "_view_module_version": "1.5.0",
            "_view_name": "HBoxView",
            "box_style": "",
            "children": [
              "IPY_MODEL_a56feb31723b4ecca7d04a13256d0058",
              "IPY_MODEL_1cb72fca115f44a993b8c333653aaca5",
              "IPY_MODEL_b467f11bf51e455bbc932dee5129db5c"
            ],
            "layout": "IPY_MODEL_089c0cc7f1c6430a89c2ec4fbe7c87f0"
          }
        },
        "a56feb31723b4ecca7d04a13256d0058": {
          "model_module": "@jupyter-widgets/controls",
          "model_name": "HTMLModel",
          "model_module_version": "1.5.0",
          "state": {
            "_dom_classes": [],
            "_model_module": "@jupyter-widgets/controls",
            "_model_module_version": "1.5.0",
            "_model_name": "HTMLModel",
            "_view_count": null,
            "_view_module": "@jupyter-widgets/controls",
            "_view_module_version": "1.5.0",
            "_view_name": "HTMLView",
            "description": "",
            "description_tooltip": null,
            "layout": "IPY_MODEL_02e87845d8c7498aab9ab5f3004be1e7",
            "placeholder": "​",
            "style": "IPY_MODEL_0a86ad308bd3418495ec098d30e13c0f",
            "value": "Shuffling /root/tensorflow_datasets/ted_hrlr_translate/pt_to_en/1.0.0.incomplete39NWQJ/ted_hrlr_translate-train.tfrecord*...:  95%"
          }
        },
        "1cb72fca115f44a993b8c333653aaca5": {
          "model_module": "@jupyter-widgets/controls",
          "model_name": "FloatProgressModel",
          "model_module_version": "1.5.0",
          "state": {
            "_dom_classes": [],
            "_model_module": "@jupyter-widgets/controls",
            "_model_module_version": "1.5.0",
            "_model_name": "FloatProgressModel",
            "_view_count": null,
            "_view_module": "@jupyter-widgets/controls",
            "_view_module_version": "1.5.0",
            "_view_name": "ProgressView",
            "bar_style": "",
            "description": "",
            "description_tooltip": null,
            "layout": "IPY_MODEL_54c9538b3b51452f9220afc89cdf035d",
            "max": 51785,
            "min": 0,
            "orientation": "horizontal",
            "style": "IPY_MODEL_7caae2c08cf84ad295873f293a0ce8b8",
            "value": 51785
          }
        },
        "b467f11bf51e455bbc932dee5129db5c": {
          "model_module": "@jupyter-widgets/controls",
          "model_name": "HTMLModel",
          "model_module_version": "1.5.0",
          "state": {
            "_dom_classes": [],
            "_model_module": "@jupyter-widgets/controls",
            "_model_module_version": "1.5.0",
            "_model_name": "HTMLModel",
            "_view_count": null,
            "_view_module": "@jupyter-widgets/controls",
            "_view_module_version": "1.5.0",
            "_view_name": "HTMLView",
            "description": "",
            "description_tooltip": null,
            "layout": "IPY_MODEL_e12c37154add4e29b62be6c3b629c118",
            "placeholder": "​",
            "style": "IPY_MODEL_1e1246be0f854679ba45e9dbcf4aee79",
            "value": " 49186/51785 [00:00&lt;00:00, 279961.07 examples/s]"
          }
        },
        "089c0cc7f1c6430a89c2ec4fbe7c87f0": {
          "model_module": "@jupyter-widgets/base",
          "model_name": "LayoutModel",
          "model_module_version": "1.2.0",
          "state": {
            "_model_module": "@jupyter-widgets/base",
            "_model_module_version": "1.2.0",
            "_model_name": "LayoutModel",
            "_view_count": null,
            "_view_module": "@jupyter-widgets/base",
            "_view_module_version": "1.2.0",
            "_view_name": "LayoutView",
            "align_content": null,
            "align_items": null,
            "align_self": null,
            "border": null,
            "bottom": null,
            "display": null,
            "flex": null,
            "flex_flow": null,
            "grid_area": null,
            "grid_auto_columns": null,
            "grid_auto_flow": null,
            "grid_auto_rows": null,
            "grid_column": null,
            "grid_gap": null,
            "grid_row": null,
            "grid_template_areas": null,
            "grid_template_columns": null,
            "grid_template_rows": null,
            "height": null,
            "justify_content": null,
            "justify_items": null,
            "left": null,
            "margin": null,
            "max_height": null,
            "max_width": null,
            "min_height": null,
            "min_width": null,
            "object_fit": null,
            "object_position": null,
            "order": null,
            "overflow": null,
            "overflow_x": null,
            "overflow_y": null,
            "padding": null,
            "right": null,
            "top": null,
            "visibility": "hidden",
            "width": null
          }
        },
        "02e87845d8c7498aab9ab5f3004be1e7": {
          "model_module": "@jupyter-widgets/base",
          "model_name": "LayoutModel",
          "model_module_version": "1.2.0",
          "state": {
            "_model_module": "@jupyter-widgets/base",
            "_model_module_version": "1.2.0",
            "_model_name": "LayoutModel",
            "_view_count": null,
            "_view_module": "@jupyter-widgets/base",
            "_view_module_version": "1.2.0",
            "_view_name": "LayoutView",
            "align_content": null,
            "align_items": null,
            "align_self": null,
            "border": null,
            "bottom": null,
            "display": null,
            "flex": null,
            "flex_flow": null,
            "grid_area": null,
            "grid_auto_columns": null,
            "grid_auto_flow": null,
            "grid_auto_rows": null,
            "grid_column": null,
            "grid_gap": null,
            "grid_row": null,
            "grid_template_areas": null,
            "grid_template_columns": null,
            "grid_template_rows": null,
            "height": null,
            "justify_content": null,
            "justify_items": null,
            "left": null,
            "margin": null,
            "max_height": null,
            "max_width": null,
            "min_height": null,
            "min_width": null,
            "object_fit": null,
            "object_position": null,
            "order": null,
            "overflow": null,
            "overflow_x": null,
            "overflow_y": null,
            "padding": null,
            "right": null,
            "top": null,
            "visibility": null,
            "width": null
          }
        },
        "0a86ad308bd3418495ec098d30e13c0f": {
          "model_module": "@jupyter-widgets/controls",
          "model_name": "DescriptionStyleModel",
          "model_module_version": "1.5.0",
          "state": {
            "_model_module": "@jupyter-widgets/controls",
            "_model_module_version": "1.5.0",
            "_model_name": "DescriptionStyleModel",
            "_view_count": null,
            "_view_module": "@jupyter-widgets/base",
            "_view_module_version": "1.2.0",
            "_view_name": "StyleView",
            "description_width": ""
          }
        },
        "54c9538b3b51452f9220afc89cdf035d": {
          "model_module": "@jupyter-widgets/base",
          "model_name": "LayoutModel",
          "model_module_version": "1.2.0",
          "state": {
            "_model_module": "@jupyter-widgets/base",
            "_model_module_version": "1.2.0",
            "_model_name": "LayoutModel",
            "_view_count": null,
            "_view_module": "@jupyter-widgets/base",
            "_view_module_version": "1.2.0",
            "_view_name": "LayoutView",
            "align_content": null,
            "align_items": null,
            "align_self": null,
            "border": null,
            "bottom": null,
            "display": null,
            "flex": null,
            "flex_flow": null,
            "grid_area": null,
            "grid_auto_columns": null,
            "grid_auto_flow": null,
            "grid_auto_rows": null,
            "grid_column": null,
            "grid_gap": null,
            "grid_row": null,
            "grid_template_areas": null,
            "grid_template_columns": null,
            "grid_template_rows": null,
            "height": null,
            "justify_content": null,
            "justify_items": null,
            "left": null,
            "margin": null,
            "max_height": null,
            "max_width": null,
            "min_height": null,
            "min_width": null,
            "object_fit": null,
            "object_position": null,
            "order": null,
            "overflow": null,
            "overflow_x": null,
            "overflow_y": null,
            "padding": null,
            "right": null,
            "top": null,
            "visibility": null,
            "width": null
          }
        },
        "7caae2c08cf84ad295873f293a0ce8b8": {
          "model_module": "@jupyter-widgets/controls",
          "model_name": "ProgressStyleModel",
          "model_module_version": "1.5.0",
          "state": {
            "_model_module": "@jupyter-widgets/controls",
            "_model_module_version": "1.5.0",
            "_model_name": "ProgressStyleModel",
            "_view_count": null,
            "_view_module": "@jupyter-widgets/base",
            "_view_module_version": "1.2.0",
            "_view_name": "StyleView",
            "bar_color": null,
            "description_width": ""
          }
        },
        "e12c37154add4e29b62be6c3b629c118": {
          "model_module": "@jupyter-widgets/base",
          "model_name": "LayoutModel",
          "model_module_version": "1.2.0",
          "state": {
            "_model_module": "@jupyter-widgets/base",
            "_model_module_version": "1.2.0",
            "_model_name": "LayoutModel",
            "_view_count": null,
            "_view_module": "@jupyter-widgets/base",
            "_view_module_version": "1.2.0",
            "_view_name": "LayoutView",
            "align_content": null,
            "align_items": null,
            "align_self": null,
            "border": null,
            "bottom": null,
            "display": null,
            "flex": null,
            "flex_flow": null,
            "grid_area": null,
            "grid_auto_columns": null,
            "grid_auto_flow": null,
            "grid_auto_rows": null,
            "grid_column": null,
            "grid_gap": null,
            "grid_row": null,
            "grid_template_areas": null,
            "grid_template_columns": null,
            "grid_template_rows": null,
            "height": null,
            "justify_content": null,
            "justify_items": null,
            "left": null,
            "margin": null,
            "max_height": null,
            "max_width": null,
            "min_height": null,
            "min_width": null,
            "object_fit": null,
            "object_position": null,
            "order": null,
            "overflow": null,
            "overflow_x": null,
            "overflow_y": null,
            "padding": null,
            "right": null,
            "top": null,
            "visibility": null,
            "width": null
          }
        },
        "1e1246be0f854679ba45e9dbcf4aee79": {
          "model_module": "@jupyter-widgets/controls",
          "model_name": "DescriptionStyleModel",
          "model_module_version": "1.5.0",
          "state": {
            "_model_module": "@jupyter-widgets/controls",
            "_model_module_version": "1.5.0",
            "_model_name": "DescriptionStyleModel",
            "_view_count": null,
            "_view_module": "@jupyter-widgets/base",
            "_view_module_version": "1.2.0",
            "_view_name": "StyleView",
            "description_width": ""
          }
        },
        "8d931cda3115405c9bf102382e862844": {
          "model_module": "@jupyter-widgets/controls",
          "model_name": "HBoxModel",
          "model_module_version": "1.5.0",
          "state": {
            "_dom_classes": [],
            "_model_module": "@jupyter-widgets/controls",
            "_model_module_version": "1.5.0",
            "_model_name": "HBoxModel",
            "_view_count": null,
            "_view_module": "@jupyter-widgets/controls",
            "_view_module_version": "1.5.0",
            "_view_name": "HBoxView",
            "box_style": "",
            "children": [
              "IPY_MODEL_9b10dcb87bd241ddb48159294de2cbc6",
              "IPY_MODEL_ec9d48fef0934fc78a4391f332f479c8",
              "IPY_MODEL_a9d9dad991794f5a8a8e710fbd52d08d"
            ],
            "layout": "IPY_MODEL_c2fe30db5a1740bda2abcdb36ab2b0a2"
          }
        },
        "9b10dcb87bd241ddb48159294de2cbc6": {
          "model_module": "@jupyter-widgets/controls",
          "model_name": "HTMLModel",
          "model_module_version": "1.5.0",
          "state": {
            "_dom_classes": [],
            "_model_module": "@jupyter-widgets/controls",
            "_model_module_version": "1.5.0",
            "_model_name": "HTMLModel",
            "_view_count": null,
            "_view_module": "@jupyter-widgets/controls",
            "_view_module_version": "1.5.0",
            "_view_name": "HTMLView",
            "description": "",
            "description_tooltip": null,
            "layout": "IPY_MODEL_67e5daf263884c3a8e8c608e9a09759f",
            "placeholder": "​",
            "style": "IPY_MODEL_087d3cb3c8144bdeac543a62121367d8",
            "value": "Generating validation examples...:  86%"
          }
        },
        "ec9d48fef0934fc78a4391f332f479c8": {
          "model_module": "@jupyter-widgets/controls",
          "model_name": "FloatProgressModel",
          "model_module_version": "1.5.0",
          "state": {
            "_dom_classes": [],
            "_model_module": "@jupyter-widgets/controls",
            "_model_module_version": "1.5.0",
            "_model_name": "FloatProgressModel",
            "_view_count": null,
            "_view_module": "@jupyter-widgets/controls",
            "_view_module_version": "1.5.0",
            "_view_name": "ProgressView",
            "bar_style": "",
            "description": "",
            "description_tooltip": null,
            "layout": "IPY_MODEL_b653add387614d9197b375a107093cb8",
            "max": 1193,
            "min": 0,
            "orientation": "horizontal",
            "style": "IPY_MODEL_27fa2661712f4eb98903044e44481437",
            "value": 1193
          }
        },
        "a9d9dad991794f5a8a8e710fbd52d08d": {
          "model_module": "@jupyter-widgets/controls",
          "model_name": "HTMLModel",
          "model_module_version": "1.5.0",
          "state": {
            "_dom_classes": [],
            "_model_module": "@jupyter-widgets/controls",
            "_model_module_version": "1.5.0",
            "_model_name": "HTMLModel",
            "_view_count": null,
            "_view_module": "@jupyter-widgets/controls",
            "_view_module_version": "1.5.0",
            "_view_name": "HTMLView",
            "description": "",
            "description_tooltip": null,
            "layout": "IPY_MODEL_038b435abe754f5f8b20db3589bc1d34",
            "placeholder": "​",
            "style": "IPY_MODEL_37bd65f818034dbf872d364b4e12a2a7",
            "value": " 1028/1193 [00:00&lt;00:00, 10278.15 examples/s]"
          }
        },
        "c2fe30db5a1740bda2abcdb36ab2b0a2": {
          "model_module": "@jupyter-widgets/base",
          "model_name": "LayoutModel",
          "model_module_version": "1.2.0",
          "state": {
            "_model_module": "@jupyter-widgets/base",
            "_model_module_version": "1.2.0",
            "_model_name": "LayoutModel",
            "_view_count": null,
            "_view_module": "@jupyter-widgets/base",
            "_view_module_version": "1.2.0",
            "_view_name": "LayoutView",
            "align_content": null,
            "align_items": null,
            "align_self": null,
            "border": null,
            "bottom": null,
            "display": null,
            "flex": null,
            "flex_flow": null,
            "grid_area": null,
            "grid_auto_columns": null,
            "grid_auto_flow": null,
            "grid_auto_rows": null,
            "grid_column": null,
            "grid_gap": null,
            "grid_row": null,
            "grid_template_areas": null,
            "grid_template_columns": null,
            "grid_template_rows": null,
            "height": null,
            "justify_content": null,
            "justify_items": null,
            "left": null,
            "margin": null,
            "max_height": null,
            "max_width": null,
            "min_height": null,
            "min_width": null,
            "object_fit": null,
            "object_position": null,
            "order": null,
            "overflow": null,
            "overflow_x": null,
            "overflow_y": null,
            "padding": null,
            "right": null,
            "top": null,
            "visibility": "hidden",
            "width": null
          }
        },
        "67e5daf263884c3a8e8c608e9a09759f": {
          "model_module": "@jupyter-widgets/base",
          "model_name": "LayoutModel",
          "model_module_version": "1.2.0",
          "state": {
            "_model_module": "@jupyter-widgets/base",
            "_model_module_version": "1.2.0",
            "_model_name": "LayoutModel",
            "_view_count": null,
            "_view_module": "@jupyter-widgets/base",
            "_view_module_version": "1.2.0",
            "_view_name": "LayoutView",
            "align_content": null,
            "align_items": null,
            "align_self": null,
            "border": null,
            "bottom": null,
            "display": null,
            "flex": null,
            "flex_flow": null,
            "grid_area": null,
            "grid_auto_columns": null,
            "grid_auto_flow": null,
            "grid_auto_rows": null,
            "grid_column": null,
            "grid_gap": null,
            "grid_row": null,
            "grid_template_areas": null,
            "grid_template_columns": null,
            "grid_template_rows": null,
            "height": null,
            "justify_content": null,
            "justify_items": null,
            "left": null,
            "margin": null,
            "max_height": null,
            "max_width": null,
            "min_height": null,
            "min_width": null,
            "object_fit": null,
            "object_position": null,
            "order": null,
            "overflow": null,
            "overflow_x": null,
            "overflow_y": null,
            "padding": null,
            "right": null,
            "top": null,
            "visibility": null,
            "width": null
          }
        },
        "087d3cb3c8144bdeac543a62121367d8": {
          "model_module": "@jupyter-widgets/controls",
          "model_name": "DescriptionStyleModel",
          "model_module_version": "1.5.0",
          "state": {
            "_model_module": "@jupyter-widgets/controls",
            "_model_module_version": "1.5.0",
            "_model_name": "DescriptionStyleModel",
            "_view_count": null,
            "_view_module": "@jupyter-widgets/base",
            "_view_module_version": "1.2.0",
            "_view_name": "StyleView",
            "description_width": ""
          }
        },
        "b653add387614d9197b375a107093cb8": {
          "model_module": "@jupyter-widgets/base",
          "model_name": "LayoutModel",
          "model_module_version": "1.2.0",
          "state": {
            "_model_module": "@jupyter-widgets/base",
            "_model_module_version": "1.2.0",
            "_model_name": "LayoutModel",
            "_view_count": null,
            "_view_module": "@jupyter-widgets/base",
            "_view_module_version": "1.2.0",
            "_view_name": "LayoutView",
            "align_content": null,
            "align_items": null,
            "align_self": null,
            "border": null,
            "bottom": null,
            "display": null,
            "flex": null,
            "flex_flow": null,
            "grid_area": null,
            "grid_auto_columns": null,
            "grid_auto_flow": null,
            "grid_auto_rows": null,
            "grid_column": null,
            "grid_gap": null,
            "grid_row": null,
            "grid_template_areas": null,
            "grid_template_columns": null,
            "grid_template_rows": null,
            "height": null,
            "justify_content": null,
            "justify_items": null,
            "left": null,
            "margin": null,
            "max_height": null,
            "max_width": null,
            "min_height": null,
            "min_width": null,
            "object_fit": null,
            "object_position": null,
            "order": null,
            "overflow": null,
            "overflow_x": null,
            "overflow_y": null,
            "padding": null,
            "right": null,
            "top": null,
            "visibility": null,
            "width": null
          }
        },
        "27fa2661712f4eb98903044e44481437": {
          "model_module": "@jupyter-widgets/controls",
          "model_name": "ProgressStyleModel",
          "model_module_version": "1.5.0",
          "state": {
            "_model_module": "@jupyter-widgets/controls",
            "_model_module_version": "1.5.0",
            "_model_name": "ProgressStyleModel",
            "_view_count": null,
            "_view_module": "@jupyter-widgets/base",
            "_view_module_version": "1.2.0",
            "_view_name": "StyleView",
            "bar_color": null,
            "description_width": ""
          }
        },
        "038b435abe754f5f8b20db3589bc1d34": {
          "model_module": "@jupyter-widgets/base",
          "model_name": "LayoutModel",
          "model_module_version": "1.2.0",
          "state": {
            "_model_module": "@jupyter-widgets/base",
            "_model_module_version": "1.2.0",
            "_model_name": "LayoutModel",
            "_view_count": null,
            "_view_module": "@jupyter-widgets/base",
            "_view_module_version": "1.2.0",
            "_view_name": "LayoutView",
            "align_content": null,
            "align_items": null,
            "align_self": null,
            "border": null,
            "bottom": null,
            "display": null,
            "flex": null,
            "flex_flow": null,
            "grid_area": null,
            "grid_auto_columns": null,
            "grid_auto_flow": null,
            "grid_auto_rows": null,
            "grid_column": null,
            "grid_gap": null,
            "grid_row": null,
            "grid_template_areas": null,
            "grid_template_columns": null,
            "grid_template_rows": null,
            "height": null,
            "justify_content": null,
            "justify_items": null,
            "left": null,
            "margin": null,
            "max_height": null,
            "max_width": null,
            "min_height": null,
            "min_width": null,
            "object_fit": null,
            "object_position": null,
            "order": null,
            "overflow": null,
            "overflow_x": null,
            "overflow_y": null,
            "padding": null,
            "right": null,
            "top": null,
            "visibility": null,
            "width": null
          }
        },
        "37bd65f818034dbf872d364b4e12a2a7": {
          "model_module": "@jupyter-widgets/controls",
          "model_name": "DescriptionStyleModel",
          "model_module_version": "1.5.0",
          "state": {
            "_model_module": "@jupyter-widgets/controls",
            "_model_module_version": "1.5.0",
            "_model_name": "DescriptionStyleModel",
            "_view_count": null,
            "_view_module": "@jupyter-widgets/base",
            "_view_module_version": "1.2.0",
            "_view_name": "StyleView",
            "description_width": ""
          }
        },
        "cc5c28f7da4d4a4384397ff45f0e6e74": {
          "model_module": "@jupyter-widgets/controls",
          "model_name": "HBoxModel",
          "model_module_version": "1.5.0",
          "state": {
            "_dom_classes": [],
            "_model_module": "@jupyter-widgets/controls",
            "_model_module_version": "1.5.0",
            "_model_name": "HBoxModel",
            "_view_count": null,
            "_view_module": "@jupyter-widgets/controls",
            "_view_module_version": "1.5.0",
            "_view_name": "HBoxView",
            "box_style": "",
            "children": [
              "IPY_MODEL_0533866f2ce44269b2a0fb42a1932076",
              "IPY_MODEL_d9e671d4ade44cdd927bb7d8d1ceda1a",
              "IPY_MODEL_a639ec3643f9489c850a6bfab3eb7700"
            ],
            "layout": "IPY_MODEL_46e028d837414fab926582363e7ffb78"
          }
        },
        "0533866f2ce44269b2a0fb42a1932076": {
          "model_module": "@jupyter-widgets/controls",
          "model_name": "HTMLModel",
          "model_module_version": "1.5.0",
          "state": {
            "_dom_classes": [],
            "_model_module": "@jupyter-widgets/controls",
            "_model_module_version": "1.5.0",
            "_model_name": "HTMLModel",
            "_view_count": null,
            "_view_module": "@jupyter-widgets/controls",
            "_view_module_version": "1.5.0",
            "_view_name": "HTMLView",
            "description": "",
            "description_tooltip": null,
            "layout": "IPY_MODEL_d51feab705a0461cb26cd20962535301",
            "placeholder": "​",
            "style": "IPY_MODEL_a1866041c98d4c5f852ff08d7ad569b9",
            "value": "Shuffling /root/tensorflow_datasets/ted_hrlr_translate/pt_to_en/1.0.0.incomplete39NWQJ/ted_hrlr_translate-validation.tfrecord*...:   0%"
          }
        },
        "d9e671d4ade44cdd927bb7d8d1ceda1a": {
          "model_module": "@jupyter-widgets/controls",
          "model_name": "FloatProgressModel",
          "model_module_version": "1.5.0",
          "state": {
            "_dom_classes": [],
            "_model_module": "@jupyter-widgets/controls",
            "_model_module_version": "1.5.0",
            "_model_name": "FloatProgressModel",
            "_view_count": null,
            "_view_module": "@jupyter-widgets/controls",
            "_view_module_version": "1.5.0",
            "_view_name": "ProgressView",
            "bar_style": "",
            "description": "",
            "description_tooltip": null,
            "layout": "IPY_MODEL_a9a023ef78d14d11a7c0a32a1b64db08",
            "max": 1193,
            "min": 0,
            "orientation": "horizontal",
            "style": "IPY_MODEL_e56f46c31fe2401e95add5052bd72d69",
            "value": 1193
          }
        },
        "a639ec3643f9489c850a6bfab3eb7700": {
          "model_module": "@jupyter-widgets/controls",
          "model_name": "HTMLModel",
          "model_module_version": "1.5.0",
          "state": {
            "_dom_classes": [],
            "_model_module": "@jupyter-widgets/controls",
            "_model_module_version": "1.5.0",
            "_model_name": "HTMLModel",
            "_view_count": null,
            "_view_module": "@jupyter-widgets/controls",
            "_view_module_version": "1.5.0",
            "_view_name": "HTMLView",
            "description": "",
            "description_tooltip": null,
            "layout": "IPY_MODEL_4e0d3668b5634e4eb62bb3e07e227bc1",
            "placeholder": "​",
            "style": "IPY_MODEL_5cf4432cceab4e60874635385c842cef",
            "value": " 0/1193 [00:00&lt;?, ? examples/s]"
          }
        },
        "46e028d837414fab926582363e7ffb78": {
          "model_module": "@jupyter-widgets/base",
          "model_name": "LayoutModel",
          "model_module_version": "1.2.0",
          "state": {
            "_model_module": "@jupyter-widgets/base",
            "_model_module_version": "1.2.0",
            "_model_name": "LayoutModel",
            "_view_count": null,
            "_view_module": "@jupyter-widgets/base",
            "_view_module_version": "1.2.0",
            "_view_name": "LayoutView",
            "align_content": null,
            "align_items": null,
            "align_self": null,
            "border": null,
            "bottom": null,
            "display": null,
            "flex": null,
            "flex_flow": null,
            "grid_area": null,
            "grid_auto_columns": null,
            "grid_auto_flow": null,
            "grid_auto_rows": null,
            "grid_column": null,
            "grid_gap": null,
            "grid_row": null,
            "grid_template_areas": null,
            "grid_template_columns": null,
            "grid_template_rows": null,
            "height": null,
            "justify_content": null,
            "justify_items": null,
            "left": null,
            "margin": null,
            "max_height": null,
            "max_width": null,
            "min_height": null,
            "min_width": null,
            "object_fit": null,
            "object_position": null,
            "order": null,
            "overflow": null,
            "overflow_x": null,
            "overflow_y": null,
            "padding": null,
            "right": null,
            "top": null,
            "visibility": "hidden",
            "width": null
          }
        },
        "d51feab705a0461cb26cd20962535301": {
          "model_module": "@jupyter-widgets/base",
          "model_name": "LayoutModel",
          "model_module_version": "1.2.0",
          "state": {
            "_model_module": "@jupyter-widgets/base",
            "_model_module_version": "1.2.0",
            "_model_name": "LayoutModel",
            "_view_count": null,
            "_view_module": "@jupyter-widgets/base",
            "_view_module_version": "1.2.0",
            "_view_name": "LayoutView",
            "align_content": null,
            "align_items": null,
            "align_self": null,
            "border": null,
            "bottom": null,
            "display": null,
            "flex": null,
            "flex_flow": null,
            "grid_area": null,
            "grid_auto_columns": null,
            "grid_auto_flow": null,
            "grid_auto_rows": null,
            "grid_column": null,
            "grid_gap": null,
            "grid_row": null,
            "grid_template_areas": null,
            "grid_template_columns": null,
            "grid_template_rows": null,
            "height": null,
            "justify_content": null,
            "justify_items": null,
            "left": null,
            "margin": null,
            "max_height": null,
            "max_width": null,
            "min_height": null,
            "min_width": null,
            "object_fit": null,
            "object_position": null,
            "order": null,
            "overflow": null,
            "overflow_x": null,
            "overflow_y": null,
            "padding": null,
            "right": null,
            "top": null,
            "visibility": null,
            "width": null
          }
        },
        "a1866041c98d4c5f852ff08d7ad569b9": {
          "model_module": "@jupyter-widgets/controls",
          "model_name": "DescriptionStyleModel",
          "model_module_version": "1.5.0",
          "state": {
            "_model_module": "@jupyter-widgets/controls",
            "_model_module_version": "1.5.0",
            "_model_name": "DescriptionStyleModel",
            "_view_count": null,
            "_view_module": "@jupyter-widgets/base",
            "_view_module_version": "1.2.0",
            "_view_name": "StyleView",
            "description_width": ""
          }
        },
        "a9a023ef78d14d11a7c0a32a1b64db08": {
          "model_module": "@jupyter-widgets/base",
          "model_name": "LayoutModel",
          "model_module_version": "1.2.0",
          "state": {
            "_model_module": "@jupyter-widgets/base",
            "_model_module_version": "1.2.0",
            "_model_name": "LayoutModel",
            "_view_count": null,
            "_view_module": "@jupyter-widgets/base",
            "_view_module_version": "1.2.0",
            "_view_name": "LayoutView",
            "align_content": null,
            "align_items": null,
            "align_self": null,
            "border": null,
            "bottom": null,
            "display": null,
            "flex": null,
            "flex_flow": null,
            "grid_area": null,
            "grid_auto_columns": null,
            "grid_auto_flow": null,
            "grid_auto_rows": null,
            "grid_column": null,
            "grid_gap": null,
            "grid_row": null,
            "grid_template_areas": null,
            "grid_template_columns": null,
            "grid_template_rows": null,
            "height": null,
            "justify_content": null,
            "justify_items": null,
            "left": null,
            "margin": null,
            "max_height": null,
            "max_width": null,
            "min_height": null,
            "min_width": null,
            "object_fit": null,
            "object_position": null,
            "order": null,
            "overflow": null,
            "overflow_x": null,
            "overflow_y": null,
            "padding": null,
            "right": null,
            "top": null,
            "visibility": null,
            "width": null
          }
        },
        "e56f46c31fe2401e95add5052bd72d69": {
          "model_module": "@jupyter-widgets/controls",
          "model_name": "ProgressStyleModel",
          "model_module_version": "1.5.0",
          "state": {
            "_model_module": "@jupyter-widgets/controls",
            "_model_module_version": "1.5.0",
            "_model_name": "ProgressStyleModel",
            "_view_count": null,
            "_view_module": "@jupyter-widgets/base",
            "_view_module_version": "1.2.0",
            "_view_name": "StyleView",
            "bar_color": null,
            "description_width": ""
          }
        },
        "4e0d3668b5634e4eb62bb3e07e227bc1": {
          "model_module": "@jupyter-widgets/base",
          "model_name": "LayoutModel",
          "model_module_version": "1.2.0",
          "state": {
            "_model_module": "@jupyter-widgets/base",
            "_model_module_version": "1.2.0",
            "_model_name": "LayoutModel",
            "_view_count": null,
            "_view_module": "@jupyter-widgets/base",
            "_view_module_version": "1.2.0",
            "_view_name": "LayoutView",
            "align_content": null,
            "align_items": null,
            "align_self": null,
            "border": null,
            "bottom": null,
            "display": null,
            "flex": null,
            "flex_flow": null,
            "grid_area": null,
            "grid_auto_columns": null,
            "grid_auto_flow": null,
            "grid_auto_rows": null,
            "grid_column": null,
            "grid_gap": null,
            "grid_row": null,
            "grid_template_areas": null,
            "grid_template_columns": null,
            "grid_template_rows": null,
            "height": null,
            "justify_content": null,
            "justify_items": null,
            "left": null,
            "margin": null,
            "max_height": null,
            "max_width": null,
            "min_height": null,
            "min_width": null,
            "object_fit": null,
            "object_position": null,
            "order": null,
            "overflow": null,
            "overflow_x": null,
            "overflow_y": null,
            "padding": null,
            "right": null,
            "top": null,
            "visibility": null,
            "width": null
          }
        },
        "5cf4432cceab4e60874635385c842cef": {
          "model_module": "@jupyter-widgets/controls",
          "model_name": "DescriptionStyleModel",
          "model_module_version": "1.5.0",
          "state": {
            "_model_module": "@jupyter-widgets/controls",
            "_model_module_version": "1.5.0",
            "_model_name": "DescriptionStyleModel",
            "_view_count": null,
            "_view_module": "@jupyter-widgets/base",
            "_view_module_version": "1.2.0",
            "_view_name": "StyleView",
            "description_width": ""
          }
        },
        "0a7cd8631ff74caebfd27c86d5673659": {
          "model_module": "@jupyter-widgets/controls",
          "model_name": "HBoxModel",
          "model_module_version": "1.5.0",
          "state": {
            "_dom_classes": [],
            "_model_module": "@jupyter-widgets/controls",
            "_model_module_version": "1.5.0",
            "_model_name": "HBoxModel",
            "_view_count": null,
            "_view_module": "@jupyter-widgets/controls",
            "_view_module_version": "1.5.0",
            "_view_name": "HBoxView",
            "box_style": "",
            "children": [
              "IPY_MODEL_31b74946e55548ca899b625f102a80a3",
              "IPY_MODEL_ad0aecfbe9b945828aad5e83b0459d6a",
              "IPY_MODEL_a0b99b282de645038976b4317a3bf050"
            ],
            "layout": "IPY_MODEL_3e9e9d699a9642b193521eeb2c7f9fce"
          }
        },
        "31b74946e55548ca899b625f102a80a3": {
          "model_module": "@jupyter-widgets/controls",
          "model_name": "HTMLModel",
          "model_module_version": "1.5.0",
          "state": {
            "_dom_classes": [],
            "_model_module": "@jupyter-widgets/controls",
            "_model_module_version": "1.5.0",
            "_model_name": "HTMLModel",
            "_view_count": null,
            "_view_module": "@jupyter-widgets/controls",
            "_view_module_version": "1.5.0",
            "_view_name": "HTMLView",
            "description": "",
            "description_tooltip": null,
            "layout": "IPY_MODEL_cbe82f28eaae4a38bf0f1fc7f3fefc3a",
            "placeholder": "​",
            "style": "IPY_MODEL_687343da1c8c40fd830fcc60f729a716",
            "value": "Generating test examples...:  28%"
          }
        },
        "ad0aecfbe9b945828aad5e83b0459d6a": {
          "model_module": "@jupyter-widgets/controls",
          "model_name": "FloatProgressModel",
          "model_module_version": "1.5.0",
          "state": {
            "_dom_classes": [],
            "_model_module": "@jupyter-widgets/controls",
            "_model_module_version": "1.5.0",
            "_model_name": "FloatProgressModel",
            "_view_count": null,
            "_view_module": "@jupyter-widgets/controls",
            "_view_module_version": "1.5.0",
            "_view_name": "ProgressView",
            "bar_style": "",
            "description": "",
            "description_tooltip": null,
            "layout": "IPY_MODEL_23b9d1d7636e4d769c096b76609a5375",
            "max": 1803,
            "min": 0,
            "orientation": "horizontal",
            "style": "IPY_MODEL_d365734bbac14be590714b7c4ae98fe3",
            "value": 1803
          }
        },
        "a0b99b282de645038976b4317a3bf050": {
          "model_module": "@jupyter-widgets/controls",
          "model_name": "HTMLModel",
          "model_module_version": "1.5.0",
          "state": {
            "_dom_classes": [],
            "_model_module": "@jupyter-widgets/controls",
            "_model_module_version": "1.5.0",
            "_model_name": "HTMLModel",
            "_view_count": null,
            "_view_module": "@jupyter-widgets/controls",
            "_view_module_version": "1.5.0",
            "_view_name": "HTMLView",
            "description": "",
            "description_tooltip": null,
            "layout": "IPY_MODEL_102385e25569403abc51ede8c4ef5063",
            "placeholder": "​",
            "style": "IPY_MODEL_36d09e751c2e4552a9f50bf235cd5a6a",
            "value": " 513/1803 [00:00&lt;00:00, 5126.41 examples/s]"
          }
        },
        "3e9e9d699a9642b193521eeb2c7f9fce": {
          "model_module": "@jupyter-widgets/base",
          "model_name": "LayoutModel",
          "model_module_version": "1.2.0",
          "state": {
            "_model_module": "@jupyter-widgets/base",
            "_model_module_version": "1.2.0",
            "_model_name": "LayoutModel",
            "_view_count": null,
            "_view_module": "@jupyter-widgets/base",
            "_view_module_version": "1.2.0",
            "_view_name": "LayoutView",
            "align_content": null,
            "align_items": null,
            "align_self": null,
            "border": null,
            "bottom": null,
            "display": null,
            "flex": null,
            "flex_flow": null,
            "grid_area": null,
            "grid_auto_columns": null,
            "grid_auto_flow": null,
            "grid_auto_rows": null,
            "grid_column": null,
            "grid_gap": null,
            "grid_row": null,
            "grid_template_areas": null,
            "grid_template_columns": null,
            "grid_template_rows": null,
            "height": null,
            "justify_content": null,
            "justify_items": null,
            "left": null,
            "margin": null,
            "max_height": null,
            "max_width": null,
            "min_height": null,
            "min_width": null,
            "object_fit": null,
            "object_position": null,
            "order": null,
            "overflow": null,
            "overflow_x": null,
            "overflow_y": null,
            "padding": null,
            "right": null,
            "top": null,
            "visibility": "hidden",
            "width": null
          }
        },
        "cbe82f28eaae4a38bf0f1fc7f3fefc3a": {
          "model_module": "@jupyter-widgets/base",
          "model_name": "LayoutModel",
          "model_module_version": "1.2.0",
          "state": {
            "_model_module": "@jupyter-widgets/base",
            "_model_module_version": "1.2.0",
            "_model_name": "LayoutModel",
            "_view_count": null,
            "_view_module": "@jupyter-widgets/base",
            "_view_module_version": "1.2.0",
            "_view_name": "LayoutView",
            "align_content": null,
            "align_items": null,
            "align_self": null,
            "border": null,
            "bottom": null,
            "display": null,
            "flex": null,
            "flex_flow": null,
            "grid_area": null,
            "grid_auto_columns": null,
            "grid_auto_flow": null,
            "grid_auto_rows": null,
            "grid_column": null,
            "grid_gap": null,
            "grid_row": null,
            "grid_template_areas": null,
            "grid_template_columns": null,
            "grid_template_rows": null,
            "height": null,
            "justify_content": null,
            "justify_items": null,
            "left": null,
            "margin": null,
            "max_height": null,
            "max_width": null,
            "min_height": null,
            "min_width": null,
            "object_fit": null,
            "object_position": null,
            "order": null,
            "overflow": null,
            "overflow_x": null,
            "overflow_y": null,
            "padding": null,
            "right": null,
            "top": null,
            "visibility": null,
            "width": null
          }
        },
        "687343da1c8c40fd830fcc60f729a716": {
          "model_module": "@jupyter-widgets/controls",
          "model_name": "DescriptionStyleModel",
          "model_module_version": "1.5.0",
          "state": {
            "_model_module": "@jupyter-widgets/controls",
            "_model_module_version": "1.5.0",
            "_model_name": "DescriptionStyleModel",
            "_view_count": null,
            "_view_module": "@jupyter-widgets/base",
            "_view_module_version": "1.2.0",
            "_view_name": "StyleView",
            "description_width": ""
          }
        },
        "23b9d1d7636e4d769c096b76609a5375": {
          "model_module": "@jupyter-widgets/base",
          "model_name": "LayoutModel",
          "model_module_version": "1.2.0",
          "state": {
            "_model_module": "@jupyter-widgets/base",
            "_model_module_version": "1.2.0",
            "_model_name": "LayoutModel",
            "_view_count": null,
            "_view_module": "@jupyter-widgets/base",
            "_view_module_version": "1.2.0",
            "_view_name": "LayoutView",
            "align_content": null,
            "align_items": null,
            "align_self": null,
            "border": null,
            "bottom": null,
            "display": null,
            "flex": null,
            "flex_flow": null,
            "grid_area": null,
            "grid_auto_columns": null,
            "grid_auto_flow": null,
            "grid_auto_rows": null,
            "grid_column": null,
            "grid_gap": null,
            "grid_row": null,
            "grid_template_areas": null,
            "grid_template_columns": null,
            "grid_template_rows": null,
            "height": null,
            "justify_content": null,
            "justify_items": null,
            "left": null,
            "margin": null,
            "max_height": null,
            "max_width": null,
            "min_height": null,
            "min_width": null,
            "object_fit": null,
            "object_position": null,
            "order": null,
            "overflow": null,
            "overflow_x": null,
            "overflow_y": null,
            "padding": null,
            "right": null,
            "top": null,
            "visibility": null,
            "width": null
          }
        },
        "d365734bbac14be590714b7c4ae98fe3": {
          "model_module": "@jupyter-widgets/controls",
          "model_name": "ProgressStyleModel",
          "model_module_version": "1.5.0",
          "state": {
            "_model_module": "@jupyter-widgets/controls",
            "_model_module_version": "1.5.0",
            "_model_name": "ProgressStyleModel",
            "_view_count": null,
            "_view_module": "@jupyter-widgets/base",
            "_view_module_version": "1.2.0",
            "_view_name": "StyleView",
            "bar_color": null,
            "description_width": ""
          }
        },
        "102385e25569403abc51ede8c4ef5063": {
          "model_module": "@jupyter-widgets/base",
          "model_name": "LayoutModel",
          "model_module_version": "1.2.0",
          "state": {
            "_model_module": "@jupyter-widgets/base",
            "_model_module_version": "1.2.0",
            "_model_name": "LayoutModel",
            "_view_count": null,
            "_view_module": "@jupyter-widgets/base",
            "_view_module_version": "1.2.0",
            "_view_name": "LayoutView",
            "align_content": null,
            "align_items": null,
            "align_self": null,
            "border": null,
            "bottom": null,
            "display": null,
            "flex": null,
            "flex_flow": null,
            "grid_area": null,
            "grid_auto_columns": null,
            "grid_auto_flow": null,
            "grid_auto_rows": null,
            "grid_column": null,
            "grid_gap": null,
            "grid_row": null,
            "grid_template_areas": null,
            "grid_template_columns": null,
            "grid_template_rows": null,
            "height": null,
            "justify_content": null,
            "justify_items": null,
            "left": null,
            "margin": null,
            "max_height": null,
            "max_width": null,
            "min_height": null,
            "min_width": null,
            "object_fit": null,
            "object_position": null,
            "order": null,
            "overflow": null,
            "overflow_x": null,
            "overflow_y": null,
            "padding": null,
            "right": null,
            "top": null,
            "visibility": null,
            "width": null
          }
        },
        "36d09e751c2e4552a9f50bf235cd5a6a": {
          "model_module": "@jupyter-widgets/controls",
          "model_name": "DescriptionStyleModel",
          "model_module_version": "1.5.0",
          "state": {
            "_model_module": "@jupyter-widgets/controls",
            "_model_module_version": "1.5.0",
            "_model_name": "DescriptionStyleModel",
            "_view_count": null,
            "_view_module": "@jupyter-widgets/base",
            "_view_module_version": "1.2.0",
            "_view_name": "StyleView",
            "description_width": ""
          }
        },
        "8d5d9a4f9e4c40cfbfed766c6ee71f74": {
          "model_module": "@jupyter-widgets/controls",
          "model_name": "HBoxModel",
          "model_module_version": "1.5.0",
          "state": {
            "_dom_classes": [],
            "_model_module": "@jupyter-widgets/controls",
            "_model_module_version": "1.5.0",
            "_model_name": "HBoxModel",
            "_view_count": null,
            "_view_module": "@jupyter-widgets/controls",
            "_view_module_version": "1.5.0",
            "_view_name": "HBoxView",
            "box_style": "",
            "children": [
              "IPY_MODEL_60ca79224a4b4076ac7825e86622632b",
              "IPY_MODEL_44779359b02d450abcf688f1359345ce",
              "IPY_MODEL_a0f06bf8fc484e37a9ba82f7f266f051"
            ],
            "layout": "IPY_MODEL_b93e9ace169c4dadafa9c4e1657b6074"
          }
        },
        "60ca79224a4b4076ac7825e86622632b": {
          "model_module": "@jupyter-widgets/controls",
          "model_name": "HTMLModel",
          "model_module_version": "1.5.0",
          "state": {
            "_dom_classes": [],
            "_model_module": "@jupyter-widgets/controls",
            "_model_module_version": "1.5.0",
            "_model_name": "HTMLModel",
            "_view_count": null,
            "_view_module": "@jupyter-widgets/controls",
            "_view_module_version": "1.5.0",
            "_view_name": "HTMLView",
            "description": "",
            "description_tooltip": null,
            "layout": "IPY_MODEL_3eb78d6095e3480385bf4ff04869b397",
            "placeholder": "​",
            "style": "IPY_MODEL_8ac13ea352e54117ab2a91784f978532",
            "value": "Shuffling /root/tensorflow_datasets/ted_hrlr_translate/pt_to_en/1.0.0.incomplete39NWQJ/ted_hrlr_translate-test.tfrecord*...:   0%"
          }
        },
        "44779359b02d450abcf688f1359345ce": {
          "model_module": "@jupyter-widgets/controls",
          "model_name": "FloatProgressModel",
          "model_module_version": "1.5.0",
          "state": {
            "_dom_classes": [],
            "_model_module": "@jupyter-widgets/controls",
            "_model_module_version": "1.5.0",
            "_model_name": "FloatProgressModel",
            "_view_count": null,
            "_view_module": "@jupyter-widgets/controls",
            "_view_module_version": "1.5.0",
            "_view_name": "ProgressView",
            "bar_style": "",
            "description": "",
            "description_tooltip": null,
            "layout": "IPY_MODEL_331901f7fe9c43b2acdd0b61d70daad0",
            "max": 1803,
            "min": 0,
            "orientation": "horizontal",
            "style": "IPY_MODEL_e2f0f29dec124955bae160b11c1495fe",
            "value": 1803
          }
        },
        "a0f06bf8fc484e37a9ba82f7f266f051": {
          "model_module": "@jupyter-widgets/controls",
          "model_name": "HTMLModel",
          "model_module_version": "1.5.0",
          "state": {
            "_dom_classes": [],
            "_model_module": "@jupyter-widgets/controls",
            "_model_module_version": "1.5.0",
            "_model_name": "HTMLModel",
            "_view_count": null,
            "_view_module": "@jupyter-widgets/controls",
            "_view_module_version": "1.5.0",
            "_view_name": "HTMLView",
            "description": "",
            "description_tooltip": null,
            "layout": "IPY_MODEL_831bcdf6a97b423aab722a167c145439",
            "placeholder": "​",
            "style": "IPY_MODEL_a5ee0beef08940429be270f03561b664",
            "value": " 0/1803 [00:00&lt;?, ? examples/s]"
          }
        },
        "b93e9ace169c4dadafa9c4e1657b6074": {
          "model_module": "@jupyter-widgets/base",
          "model_name": "LayoutModel",
          "model_module_version": "1.2.0",
          "state": {
            "_model_module": "@jupyter-widgets/base",
            "_model_module_version": "1.2.0",
            "_model_name": "LayoutModel",
            "_view_count": null,
            "_view_module": "@jupyter-widgets/base",
            "_view_module_version": "1.2.0",
            "_view_name": "LayoutView",
            "align_content": null,
            "align_items": null,
            "align_self": null,
            "border": null,
            "bottom": null,
            "display": null,
            "flex": null,
            "flex_flow": null,
            "grid_area": null,
            "grid_auto_columns": null,
            "grid_auto_flow": null,
            "grid_auto_rows": null,
            "grid_column": null,
            "grid_gap": null,
            "grid_row": null,
            "grid_template_areas": null,
            "grid_template_columns": null,
            "grid_template_rows": null,
            "height": null,
            "justify_content": null,
            "justify_items": null,
            "left": null,
            "margin": null,
            "max_height": null,
            "max_width": null,
            "min_height": null,
            "min_width": null,
            "object_fit": null,
            "object_position": null,
            "order": null,
            "overflow": null,
            "overflow_x": null,
            "overflow_y": null,
            "padding": null,
            "right": null,
            "top": null,
            "visibility": "hidden",
            "width": null
          }
        },
        "3eb78d6095e3480385bf4ff04869b397": {
          "model_module": "@jupyter-widgets/base",
          "model_name": "LayoutModel",
          "model_module_version": "1.2.0",
          "state": {
            "_model_module": "@jupyter-widgets/base",
            "_model_module_version": "1.2.0",
            "_model_name": "LayoutModel",
            "_view_count": null,
            "_view_module": "@jupyter-widgets/base",
            "_view_module_version": "1.2.0",
            "_view_name": "LayoutView",
            "align_content": null,
            "align_items": null,
            "align_self": null,
            "border": null,
            "bottom": null,
            "display": null,
            "flex": null,
            "flex_flow": null,
            "grid_area": null,
            "grid_auto_columns": null,
            "grid_auto_flow": null,
            "grid_auto_rows": null,
            "grid_column": null,
            "grid_gap": null,
            "grid_row": null,
            "grid_template_areas": null,
            "grid_template_columns": null,
            "grid_template_rows": null,
            "height": null,
            "justify_content": null,
            "justify_items": null,
            "left": null,
            "margin": null,
            "max_height": null,
            "max_width": null,
            "min_height": null,
            "min_width": null,
            "object_fit": null,
            "object_position": null,
            "order": null,
            "overflow": null,
            "overflow_x": null,
            "overflow_y": null,
            "padding": null,
            "right": null,
            "top": null,
            "visibility": null,
            "width": null
          }
        },
        "8ac13ea352e54117ab2a91784f978532": {
          "model_module": "@jupyter-widgets/controls",
          "model_name": "DescriptionStyleModel",
          "model_module_version": "1.5.0",
          "state": {
            "_model_module": "@jupyter-widgets/controls",
            "_model_module_version": "1.5.0",
            "_model_name": "DescriptionStyleModel",
            "_view_count": null,
            "_view_module": "@jupyter-widgets/base",
            "_view_module_version": "1.2.0",
            "_view_name": "StyleView",
            "description_width": ""
          }
        },
        "331901f7fe9c43b2acdd0b61d70daad0": {
          "model_module": "@jupyter-widgets/base",
          "model_name": "LayoutModel",
          "model_module_version": "1.2.0",
          "state": {
            "_model_module": "@jupyter-widgets/base",
            "_model_module_version": "1.2.0",
            "_model_name": "LayoutModel",
            "_view_count": null,
            "_view_module": "@jupyter-widgets/base",
            "_view_module_version": "1.2.0",
            "_view_name": "LayoutView",
            "align_content": null,
            "align_items": null,
            "align_self": null,
            "border": null,
            "bottom": null,
            "display": null,
            "flex": null,
            "flex_flow": null,
            "grid_area": null,
            "grid_auto_columns": null,
            "grid_auto_flow": null,
            "grid_auto_rows": null,
            "grid_column": null,
            "grid_gap": null,
            "grid_row": null,
            "grid_template_areas": null,
            "grid_template_columns": null,
            "grid_template_rows": null,
            "height": null,
            "justify_content": null,
            "justify_items": null,
            "left": null,
            "margin": null,
            "max_height": null,
            "max_width": null,
            "min_height": null,
            "min_width": null,
            "object_fit": null,
            "object_position": null,
            "order": null,
            "overflow": null,
            "overflow_x": null,
            "overflow_y": null,
            "padding": null,
            "right": null,
            "top": null,
            "visibility": null,
            "width": null
          }
        },
        "e2f0f29dec124955bae160b11c1495fe": {
          "model_module": "@jupyter-widgets/controls",
          "model_name": "ProgressStyleModel",
          "model_module_version": "1.5.0",
          "state": {
            "_model_module": "@jupyter-widgets/controls",
            "_model_module_version": "1.5.0",
            "_model_name": "ProgressStyleModel",
            "_view_count": null,
            "_view_module": "@jupyter-widgets/base",
            "_view_module_version": "1.2.0",
            "_view_name": "StyleView",
            "bar_color": null,
            "description_width": ""
          }
        },
        "831bcdf6a97b423aab722a167c145439": {
          "model_module": "@jupyter-widgets/base",
          "model_name": "LayoutModel",
          "model_module_version": "1.2.0",
          "state": {
            "_model_module": "@jupyter-widgets/base",
            "_model_module_version": "1.2.0",
            "_model_name": "LayoutModel",
            "_view_count": null,
            "_view_module": "@jupyter-widgets/base",
            "_view_module_version": "1.2.0",
            "_view_name": "LayoutView",
            "align_content": null,
            "align_items": null,
            "align_self": null,
            "border": null,
            "bottom": null,
            "display": null,
            "flex": null,
            "flex_flow": null,
            "grid_area": null,
            "grid_auto_columns": null,
            "grid_auto_flow": null,
            "grid_auto_rows": null,
            "grid_column": null,
            "grid_gap": null,
            "grid_row": null,
            "grid_template_areas": null,
            "grid_template_columns": null,
            "grid_template_rows": null,
            "height": null,
            "justify_content": null,
            "justify_items": null,
            "left": null,
            "margin": null,
            "max_height": null,
            "max_width": null,
            "min_height": null,
            "min_width": null,
            "object_fit": null,
            "object_position": null,
            "order": null,
            "overflow": null,
            "overflow_x": null,
            "overflow_y": null,
            "padding": null,
            "right": null,
            "top": null,
            "visibility": null,
            "width": null
          }
        },
        "a5ee0beef08940429be270f03561b664": {
          "model_module": "@jupyter-widgets/controls",
          "model_name": "DescriptionStyleModel",
          "model_module_version": "1.5.0",
          "state": {
            "_model_module": "@jupyter-widgets/controls",
            "_model_module_version": "1.5.0",
            "_model_name": "DescriptionStyleModel",
            "_view_count": null,
            "_view_module": "@jupyter-widgets/base",
            "_view_module_version": "1.2.0",
            "_view_name": "StyleView",
            "description_width": ""
          }
        }
      }
    }
  },
  "cells": [
    {
      "cell_type": "markdown",
      "source": [
        "### **출처: https://github.com/kimwoonggon/publicservant_AI/blob/master/%EC%8B%AC%ED%99%942_%ED%8A%B8%EB%9E%9C%EC%8A%A4%ED%8F%AC%EB%A8%B8_%EC%89%BD%EA%B2%8C%EA%B5%AC%ED%98%84%ED%95%B4%EB%B3%B4%EA%B8%B0.ipynb**"
      ],
      "metadata": {
        "id": "M5ntnoWiJ4_T"
      }
    },
    {
      "cell_type": "markdown",
      "metadata": {
        "id": "grUQdWnOWlm8"
      },
      "source": [
        "# Transformer의 깊은 이해\n",
        "\n",
        "이번 강의에서는 **포르투갈어를 영어로 바꾸는 Seq2Seq** 문제를 **Transformer를 활용하여 해결해 보도록 하겠습니다.**  \n",
        "![Imgur](https://i.imgur.com/Z0QOeAG.png)"
      ]
    },
    {
      "cell_type": "markdown",
      "metadata": {
        "id": "WRvYAI5bn4dF"
      },
      "source": [
        "# 데이터 로드\n",
        "데이터 로드는 tensorflow 2에서 제공하는 tf.data.dataset 형식으로 로드하도록 하겠습니다. dataset 형식으로 데이터를 불러오면, 향후 모델을 훈련시킬 때 @tf.function 데코레이터를 활용하여 상당히 빠르게 학습할 수 있습니다."
      ]
    },
    {
      "cell_type": "code",
      "source": [
        "# Install the most re version of TensorFlow to use the improved\n",
        "# masking support for `tf.keras.layers.MultiHeadAttention`.\n",
        "!apt install --allow-change-held-packages libcudnn8=8.1.0.77-1+cuda11.2\n",
        "!pip uninstall -y -q tensorflow keras tensorflow-estimator tensorflow-text\n",
        "!pip install -q tensorflow_datasets\n",
        "!pip install -q -U tensorflow-text tensorflow"
      ],
      "metadata": {
        "id": "nJYOSWjur5ng",
        "colab": {
          "base_uri": "https://localhost:8080/"
        },
        "outputId": "996e4917-74f3-47d8-e5ab-d1750f71e6fd"
      },
      "execution_count": 1,
      "outputs": [
        {
          "output_type": "stream",
          "name": "stdout",
          "text": [
            "Reading package lists... Done\n",
            "Building dependency tree       \n",
            "Reading state information... Done\n",
            "The following package was automatically installed and is no longer required:\n",
            "  libnvidia-common-510\n",
            "Use 'apt autoremove' to remove it.\n",
            "The following packages will be REMOVED:\n",
            "  libcudnn8-dev\n",
            "The following held packages will be changed:\n",
            "  libcudnn8\n",
            "The following packages will be DOWNGRADED:\n",
            "  libcudnn8\n",
            "0 upgraded, 0 newly installed, 1 downgraded, 1 to remove and 25 not upgraded.\n",
            "Need to get 430 MB of archives.\n",
            "After this operation, 1,392 MB disk space will be freed.\n",
            "Get:1 https://developer.download.nvidia.com/compute/cuda/repos/ubuntu2004/x86_64  libcudnn8 8.1.0.77-1+cuda11.2 [430 MB]\n",
            "Fetched 430 MB in 7s (65.4 MB/s)\n",
            "(Reading database ... 129496 files and directories currently installed.)\n",
            "Removing libcudnn8-dev (8.1.1.33-1+cuda11.2) ...\n",
            "update-alternatives: removing manually selected alternative - switching libcudnn to auto mode\n",
            "\u001b[1mdpkg:\u001b[0m \u001b[1;33mwarning:\u001b[0m downgrading libcudnn8 from 8.1.1.33-1+cuda11.2 to 8.1.0.77-1+cuda11.2\n",
            "(Reading database ... 129473 files and directories currently installed.)\n",
            "Preparing to unpack .../libcudnn8_8.1.0.77-1+cuda11.2_amd64.deb ...\n",
            "Unpacking libcudnn8 (8.1.0.77-1+cuda11.2) over (8.1.1.33-1+cuda11.2) ...\n",
            "Setting up libcudnn8 (8.1.0.77-1+cuda11.2) ...\n",
            "\u001b[33mWARNING: Skipping tensorflow-text as it is not installed.\u001b[0m\u001b[33m\n",
            "\u001b[2K     \u001b[90m━━━━━━━━━━━━━━━━━━━━━━━━━━━━━━━━━━━━━━━━\u001b[0m \u001b[32m5.8/5.8 MB\u001b[0m \u001b[31m76.6 MB/s\u001b[0m eta \u001b[36m0:00:00\u001b[0m\n",
            "\u001b[2K     \u001b[90m━━━━━━━━━━━━━━━━━━━━━━━━━━━━━━━━━━━━━━━\u001b[0m \u001b[32m588.3/588.3 MB\u001b[0m \u001b[31m2.6 MB/s\u001b[0m eta \u001b[36m0:00:00\u001b[0m\n",
            "\u001b[2K     \u001b[90m━━━━━━━━━━━━━━━━━━━━━━━━━━━━━━━━━━━━━━━━\u001b[0m \u001b[32m1.7/1.7 MB\u001b[0m \u001b[31m83.5 MB/s\u001b[0m eta \u001b[36m0:00:00\u001b[0m\n",
            "\u001b[2K     \u001b[90m━━━━━━━━━━━━━━━━━━━━━━━━━━━━━━━━━━━━━━\u001b[0m \u001b[32m439.2/439.2 KB\u001b[0m \u001b[31m42.9 MB/s\u001b[0m eta \u001b[36m0:00:00\u001b[0m\n",
            "\u001b[2K     \u001b[90m━━━━━━━━━━━━━━━━━━━━━━━━━━━━━━━━━━━━━━━━\u001b[0m \u001b[32m6.0/6.0 MB\u001b[0m \u001b[31m91.5 MB/s\u001b[0m eta \u001b[36m0:00:00\u001b[0m\n",
            "\u001b[?25h"
          ]
        }
      ]
    },
    {
      "cell_type": "code",
      "metadata": {
        "id": "C42H5OZMmJL1"
      },
      "source": [
        "# 포르투갈어-프랑스어 데이터 로드를 위한 임포트\n",
        "import tensorflow_datasets as tfds"
      ],
      "execution_count": 5,
      "outputs": []
    },
    {
      "cell_type": "code",
      "metadata": {
        "id": "hFNmJRi0YQ26"
      },
      "source": [
        "# 분석에 필요한 모듈 임포트\n",
        "import os\n",
        "import pandas as pd\n",
        "import numpy as np\n",
        "import tensorflow as tf\n",
        "import matplotlib.pyplot as plt"
      ],
      "execution_count": 4,
      "outputs": []
    },
    {
      "cell_type": "code",
      "metadata": {
        "id": "cv7qcd-GmMNY",
        "colab": {
          "base_uri": "https://localhost:8080/",
          "height": 150,
          "referenced_widgets": [
            "17e5ce20bd824cec81188417a561dd09",
            "f5bf4f1a9fa340b682c8fdfc8678b882",
            "2b5f3acabf9d4d66a0a70a1701adfd16",
            "923d82d205334e6f947b6bdb0fe385f7",
            "9befabf9f3584da3a8b31b7b94eff47d",
            "1fa057d01b924561979b9ac0b4343743",
            "b8c6b5bfe1d74020b04aa3cdd018f132",
            "7d367e8d0c264315ae5e18a6391d4fe6",
            "42fd508eb0b44cf78bc2f3c342b4c94c",
            "7ce0efd389634c0aa993af20e8866ab9",
            "52e9e188d0d74710b0152dd4813ca16f",
            "0d5ba14d72e54af99de8bb60d98cd8bf",
            "78d68b90bdfd4c2e8b69fd28a173d865",
            "2dcaa1f239ca4f3aba9597b3ed6e219c",
            "399a5c8b5a234185b926edde08bb1ea7",
            "000aec4e1b544b1eaea60d73222454d1",
            "df70ecff755b43f7b92fc3fa17abb1e5",
            "ac56d93a5f584ca7b5a8f8970819d67e",
            "11de9caf563745218a4d56345ad66c00",
            "4b80ae56cb6547daba332fd36d7009ff",
            "caaa07e404064964b0c7b1cf150135ee",
            "6f30eeec00eb478bbedff65d054c7147",
            "06cc5b8beb4848b2a29e959f17219560",
            "0cd5d571e9004429bb657d6ba3d54761",
            "05b37383f1e24dcbb687dac7d6059541",
            "86c784960e0f4288806694780538b6f8",
            "541b6a37e3944ca3a7987a02ddfa35c0",
            "5f8296006e0f4a9393870a91708a4de0",
            "166f57437c384c35b27cc5392c28aa4d",
            "3f5bb840fd3e44a79e3089f2fbfec2d7",
            "02b1a3c5ad7540419a6ffee7b53ea0de",
            "45f00e45655c4330b93ba77797702a80",
            "bd3042aef11c470d9e1fe38f4a021518",
            "c6f62bcd9a0a4ea2b7fa2d19f64f8759",
            "7b4471ec01624374b60dec4da8484ce9",
            "46e0d64501914d2389107e1d68412bfb",
            "8aec3ce13e6b49408d0ba45a3e9afddd",
            "40527de3b84749a5812e127e0a06e246",
            "4b70e742539949618ba69f1e3db5cad7",
            "d4762613f6d04b41a8dbb5e04d4a15f4",
            "43a1c6f4907b49baa3c7b2760d9a5ec1",
            "5e1e85e168a94db7980e8adbf10f435a",
            "2588e4cb720947a5808fef5f0dd5f5bd",
            "a4d310e71b0e402f9662bb90bd9b7de8",
            "ecca2d79e74d464da5c97a69306396a0",
            "b5e8ed9500954f00abab935a511747ba",
            "0db41e0a42bb445c831065c20e0fce81",
            "ca66950b36b04b39a5112d2530864908",
            "04c5567f4e324eceb0e041efcf8452cd",
            "3814a4ef1eca4665ada6d588c9769194",
            "847be957c9f64de4b1f9f06ab61a6bdd",
            "19c1b97ee84149c7adf8af16933222f5",
            "2ff57a21fda741749cd6f515a56b375a",
            "12a96065d41e46928606dbe11a0cfab1",
            "054a9f91d20541f29e1f6bea1eb8ea23",
            "bee30675b3ed4ff7812e84505766ef04",
            "a56feb31723b4ecca7d04a13256d0058",
            "1cb72fca115f44a993b8c333653aaca5",
            "b467f11bf51e455bbc932dee5129db5c",
            "089c0cc7f1c6430a89c2ec4fbe7c87f0",
            "02e87845d8c7498aab9ab5f3004be1e7",
            "0a86ad308bd3418495ec098d30e13c0f",
            "54c9538b3b51452f9220afc89cdf035d",
            "7caae2c08cf84ad295873f293a0ce8b8",
            "e12c37154add4e29b62be6c3b629c118",
            "1e1246be0f854679ba45e9dbcf4aee79",
            "8d931cda3115405c9bf102382e862844",
            "9b10dcb87bd241ddb48159294de2cbc6",
            "ec9d48fef0934fc78a4391f332f479c8",
            "a9d9dad991794f5a8a8e710fbd52d08d",
            "c2fe30db5a1740bda2abcdb36ab2b0a2",
            "67e5daf263884c3a8e8c608e9a09759f",
            "087d3cb3c8144bdeac543a62121367d8",
            "b653add387614d9197b375a107093cb8",
            "27fa2661712f4eb98903044e44481437",
            "038b435abe754f5f8b20db3589bc1d34",
            "37bd65f818034dbf872d364b4e12a2a7",
            "cc5c28f7da4d4a4384397ff45f0e6e74",
            "0533866f2ce44269b2a0fb42a1932076",
            "d9e671d4ade44cdd927bb7d8d1ceda1a",
            "a639ec3643f9489c850a6bfab3eb7700",
            "46e028d837414fab926582363e7ffb78",
            "d51feab705a0461cb26cd20962535301",
            "a1866041c98d4c5f852ff08d7ad569b9",
            "a9a023ef78d14d11a7c0a32a1b64db08",
            "e56f46c31fe2401e95add5052bd72d69",
            "4e0d3668b5634e4eb62bb3e07e227bc1",
            "5cf4432cceab4e60874635385c842cef",
            "0a7cd8631ff74caebfd27c86d5673659",
            "31b74946e55548ca899b625f102a80a3",
            "ad0aecfbe9b945828aad5e83b0459d6a",
            "a0b99b282de645038976b4317a3bf050",
            "3e9e9d699a9642b193521eeb2c7f9fce",
            "cbe82f28eaae4a38bf0f1fc7f3fefc3a",
            "687343da1c8c40fd830fcc60f729a716",
            "23b9d1d7636e4d769c096b76609a5375",
            "d365734bbac14be590714b7c4ae98fe3",
            "102385e25569403abc51ede8c4ef5063",
            "36d09e751c2e4552a9f50bf235cd5a6a",
            "8d5d9a4f9e4c40cfbfed766c6ee71f74",
            "60ca79224a4b4076ac7825e86622632b",
            "44779359b02d450abcf688f1359345ce",
            "a0f06bf8fc484e37a9ba82f7f266f051",
            "b93e9ace169c4dadafa9c4e1657b6074",
            "3eb78d6095e3480385bf4ff04869b397",
            "8ac13ea352e54117ab2a91784f978532",
            "331901f7fe9c43b2acdd0b61d70daad0",
            "e2f0f29dec124955bae160b11c1495fe",
            "831bcdf6a97b423aab722a167c145439",
            "a5ee0beef08940429be270f03561b664"
          ]
        },
        "outputId": "b1b57077-ec1d-4adf-9d9d-8ce11c90326e"
      },
      "source": [
        "# 데이터 불러오기\n",
        "examples, metadata = tfds.load('ted_hrlr_translate/pt_to_en', with_info=True,\n",
        "                               as_supervised=True)"
      ],
      "execution_count": 6,
      "outputs": [
        {
          "output_type": "stream",
          "name": "stdout",
          "text": [
            "Downloading and preparing dataset 124.94 MiB (download: 124.94 MiB, generated: Unknown size, total: 124.94 MiB) to /root/tensorflow_datasets/ted_hrlr_translate/pt_to_en/1.0.0...\n"
          ]
        },
        {
          "output_type": "display_data",
          "data": {
            "text/plain": [
              "Dl Completed...: 0 url [00:00, ? url/s]"
            ],
            "application/vnd.jupyter.widget-view+json": {
              "version_major": 2,
              "version_minor": 0,
              "model_id": "17e5ce20bd824cec81188417a561dd09"
            }
          },
          "metadata": {}
        },
        {
          "output_type": "display_data",
          "data": {
            "text/plain": [
              "Dl Size...: 0 MiB [00:00, ? MiB/s]"
            ],
            "application/vnd.jupyter.widget-view+json": {
              "version_major": 2,
              "version_minor": 0,
              "model_id": "0d5ba14d72e54af99de8bb60d98cd8bf"
            }
          },
          "metadata": {}
        },
        {
          "output_type": "display_data",
          "data": {
            "text/plain": [
              "Extraction completed...: 0 file [00:00, ? file/s]"
            ],
            "application/vnd.jupyter.widget-view+json": {
              "version_major": 2,
              "version_minor": 0,
              "model_id": "06cc5b8beb4848b2a29e959f17219560"
            }
          },
          "metadata": {}
        },
        {
          "output_type": "display_data",
          "data": {
            "text/plain": [
              "Generating splits...:   0%|          | 0/3 [00:00<?, ? splits/s]"
            ],
            "application/vnd.jupyter.widget-view+json": {
              "version_major": 2,
              "version_minor": 0,
              "model_id": "c6f62bcd9a0a4ea2b7fa2d19f64f8759"
            }
          },
          "metadata": {}
        },
        {
          "output_type": "display_data",
          "data": {
            "text/plain": [
              "Generating train examples...:   0%|          | 0/51785 [00:00<?, ? examples/s]"
            ],
            "application/vnd.jupyter.widget-view+json": {
              "version_major": 2,
              "version_minor": 0,
              "model_id": "ecca2d79e74d464da5c97a69306396a0"
            }
          },
          "metadata": {}
        },
        {
          "output_type": "display_data",
          "data": {
            "text/plain": [
              "Shuffling /root/tensorflow_datasets/ted_hrlr_translate/pt_to_en/1.0.0.incomplete39NWQJ/ted_hrlr_translate-trai…"
            ],
            "application/vnd.jupyter.widget-view+json": {
              "version_major": 2,
              "version_minor": 0,
              "model_id": "bee30675b3ed4ff7812e84505766ef04"
            }
          },
          "metadata": {}
        },
        {
          "output_type": "display_data",
          "data": {
            "text/plain": [
              "Generating validation examples...:   0%|          | 0/1193 [00:00<?, ? examples/s]"
            ],
            "application/vnd.jupyter.widget-view+json": {
              "version_major": 2,
              "version_minor": 0,
              "model_id": "8d931cda3115405c9bf102382e862844"
            }
          },
          "metadata": {}
        },
        {
          "output_type": "display_data",
          "data": {
            "text/plain": [
              "Shuffling /root/tensorflow_datasets/ted_hrlr_translate/pt_to_en/1.0.0.incomplete39NWQJ/ted_hrlr_translate-vali…"
            ],
            "application/vnd.jupyter.widget-view+json": {
              "version_major": 2,
              "version_minor": 0,
              "model_id": "cc5c28f7da4d4a4384397ff45f0e6e74"
            }
          },
          "metadata": {}
        },
        {
          "output_type": "display_data",
          "data": {
            "text/plain": [
              "Generating test examples...:   0%|          | 0/1803 [00:00<?, ? examples/s]"
            ],
            "application/vnd.jupyter.widget-view+json": {
              "version_major": 2,
              "version_minor": 0,
              "model_id": "0a7cd8631ff74caebfd27c86d5673659"
            }
          },
          "metadata": {}
        },
        {
          "output_type": "display_data",
          "data": {
            "text/plain": [
              "Shuffling /root/tensorflow_datasets/ted_hrlr_translate/pt_to_en/1.0.0.incomplete39NWQJ/ted_hrlr_translate-test…"
            ],
            "application/vnd.jupyter.widget-view+json": {
              "version_major": 2,
              "version_minor": 0,
              "model_id": "8d5d9a4f9e4c40cfbfed766c6ee71f74"
            }
          },
          "metadata": {}
        },
        {
          "output_type": "stream",
          "name": "stdout",
          "text": [
            "Dataset ted_hrlr_translate downloaded and prepared to /root/tensorflow_datasets/ted_hrlr_translate/pt_to_en/1.0.0. Subsequent calls will reuse this data.\n"
          ]
        }
      ]
    },
    {
      "cell_type": "code",
      "metadata": {
        "id": "XLUAtajEmkBN",
        "colab": {
          "base_uri": "https://localhost:8080/"
        },
        "outputId": "a8a327cd-f846-4512-f455-2cfbdce7b8f9"
      },
      "source": [
        "# 데이터가 test, train, validation에 있음\n",
        "# 이 데이터들의 형식은 tf.data.dataset 오브젝트\n",
        "examples"
      ],
      "execution_count": 7,
      "outputs": [
        {
          "output_type": "execute_result",
          "data": {
            "text/plain": [
              "{Split('train'): <PrefetchDataset element_spec=(TensorSpec(shape=(), dtype=tf.string, name=None), TensorSpec(shape=(), dtype=tf.string, name=None))>,\n",
              " Split('validation'): <PrefetchDataset element_spec=(TensorSpec(shape=(), dtype=tf.string, name=None), TensorSpec(shape=(), dtype=tf.string, name=None))>,\n",
              " Split('test'): <PrefetchDataset element_spec=(TensorSpec(shape=(), dtype=tf.string, name=None), TensorSpec(shape=(), dtype=tf.string, name=None))>}"
            ]
          },
          "metadata": {},
          "execution_count": 7
        }
      ]
    },
    {
      "cell_type": "code",
      "metadata": {
        "id": "_sP_h17ApCwY",
        "colab": {
          "base_uri": "https://localhost:8080/"
        },
        "outputId": "de8770a5-2cd3-430c-a3ff-4d86dfa230a4"
      },
      "source": [
        "type(examples['train'])"
      ],
      "execution_count": 8,
      "outputs": [
        {
          "output_type": "execute_result",
          "data": {
            "text/plain": [
              "tensorflow.python.data.ops.dataset_ops.PrefetchDataset"
            ]
          },
          "metadata": {},
          "execution_count": 8
        }
      ]
    },
    {
      "cell_type": "code",
      "metadata": {
        "id": "1YoSV2XmmSs2"
      },
      "source": [
        "# train, validation, test 데이터로 나누기\n",
        "train_examples, val_examples, test_examples = examples['train'], examples['validation'], examples['test']"
      ],
      "execution_count": 9,
      "outputs": []
    },
    {
      "cell_type": "code",
      "source": [
        "# train_example 에는 포르투갈어 pt, 영어 en이 있음\n",
        "# 여기서 단어를 추출해서, 단어들마다 인덱싱을 부여할 것임\n",
        "# 인덱싱을 부여하는 클래스가 tokenizer_en(영어 인덱싱 부여), tokenizer_pt(포르투갈어 인덱싱 부여)\n",
        "tokenizer_en = tfds.deprecated.text.SubwordTextEncoder.build_from_corpus(\n",
        "    (en.numpy() for pt, en in train_examples), target_vocab_size=2**13)\n",
        "\n",
        "tokenizer_pt = tfds.deprecated.text.SubwordTextEncoder.build_from_corpus(\n",
        "    (pt.numpy() for pt, en in train_examples), target_vocab_size=2**13)"
      ],
      "metadata": {
        "id": "UTozzBWgsCTz"
      },
      "execution_count": 10,
      "outputs": []
    },
    {
      "cell_type": "code",
      "metadata": {
        "id": "VOGyn1FCqLXF",
        "colab": {
          "base_uri": "https://localhost:8080/"
        },
        "outputId": "f95af8f9-700c-4030-fe54-686111f8f680"
      },
      "source": [
        "# 영어를 인코딩\n",
        "tokenizer_en.encode(\"Hello man, Let's run transformer!\")"
      ],
      "execution_count": 11,
      "outputs": [
        {
          "output_type": "execute_result",
          "data": {
            "text/plain": [
              "[7903, 2429, 439, 406, 7345, 7907, 1283, 7870, 9, 527, 6514, 7945, 7864]"
            ]
          },
          "metadata": {},
          "execution_count": 11
        }
      ]
    },
    {
      "cell_type": "code",
      "metadata": {
        "id": "ZhMCauShqWkx",
        "colab": {
          "base_uri": "https://localhost:8080/"
        },
        "outputId": "f7e5a465-cf42-45a2-ce69-a45d968ce2b4"
      },
      "source": [
        "# 포르투갈어를 인코딩\n",
        "print(tokenizer_pt.encode(\"vou então muito rapidamente partilhar convosco algumas histórias de algumas coisas mágicas que aconteceram.\"))"
      ],
      "execution_count": 12,
      "outputs": [
        {
          "output_type": "stream",
          "name": "stdout",
          "text": [
            "[141, 77, 33, 1566, 873, 4501, 217, 642, 4, 217, 101, 1073, 4824, 17, 5, 488, 200, 8004]\n"
          ]
        }
      ]
    },
    {
      "cell_type": "code",
      "metadata": {
        "id": "uFmp4-h1tA20"
      },
      "source": [
        "def encode(lang1, lang2):\n",
        "  \n",
        "  lang1 = [tokenizer_pt.vocab_size] + tokenizer_pt.encode(\n",
        "      lang1.numpy()) + [tokenizer_pt.vocab_size+1] # 포르투갈 어를 인코딩 할 때 시작 단어를 의미하는 숫자와, 끝 단어를 의미하는 숫자가 붙음\n",
        "\n",
        "  lang2 = [tokenizer_en.vocab_size] + tokenizer_en.encode(\n",
        "      lang2.numpy()) + [tokenizer_en.vocab_size+1] # 영어도 마찬가지임\n",
        "  return lang1, lang2"
      ],
      "execution_count": 13,
      "outputs": []
    },
    {
      "cell_type": "code",
      "metadata": {
        "id": "34DVDfJ0sR6y"
      },
      "source": [
        "lang1 = tf.constant(\"vou então muito rapidamente partilhar convosco algumas histórias de algumas coisas mágicas que aconteceram.\", dtype=tf.string)\n",
        "lang2 = tf.constant(\"Hello man, Let's run transformer!\", dtype=tf.string)"
      ],
      "execution_count": 14,
      "outputs": []
    },
    {
      "cell_type": "code",
      "metadata": {
        "id": "Nlm39twMrCKb",
        "colab": {
          "base_uri": "https://localhost:8080/"
        },
        "outputId": "1a02a34c-85b9-4394-f9d2-6e6d242c4c2a"
      },
      "source": [
        "print(encode(lang1, lang2))"
      ],
      "execution_count": 15,
      "outputs": [
        {
          "output_type": "stream",
          "name": "stdout",
          "text": [
            "([8214, 141, 77, 33, 1566, 873, 4501, 217, 642, 4, 217, 101, 1073, 4824, 17, 5, 488, 200, 8004, 8215], [8087, 7903, 2429, 439, 406, 7345, 7907, 1283, 7870, 9, 527, 6514, 7945, 7864, 8088])\n"
          ]
        }
      ]
    },
    {
      "cell_type": "code",
      "metadata": {
        "id": "EXgdTB2ftDov"
      },
      "source": [
        "# tf.py_function을 활용하여 모든 문장에 숫자를 부여함\n",
        "\n",
        "def tf_encode(pt, en):\n",
        "  result_pt, result_en = tf.py_function(encode, [pt, en], [tf.int64, tf.int64]) # 인풋 값으로 pt와 en이 한문장 한문장씩 들어가서 result_pt, result_en을 아웃풋으로 내게 됨\n",
        "  result_pt.set_shape([None])\n",
        "  result_en.set_shape([None])\n",
        "  return result_pt, result_en"
      ],
      "execution_count": 16,
      "outputs": []
    },
    {
      "cell_type": "code",
      "metadata": {
        "id": "Z9kC4H11tFH0"
      },
      "source": [
        "MAX_LENGTH = 40\n",
        "BUFFER_SIZE = 60000\n",
        "BATCH_SIZE = 64\n",
        "\n",
        "# 전체 데이터에서 x가 포르투갈어 한 문장, y가 영어 한 문장인데\n",
        "# 만약 문장이 인코딩 되었을 때, 인코딩 된 길이가 40을 초과하면 데이터에서 배제하고자 하는 필터 함수임\n",
        "def filter_max_length(x, y, max_length=MAX_LENGTH):\n",
        "  return tf.logical_and(tf.size(x) <= max_length,\n",
        "                        tf.size(y) <= max_length)"
      ],
      "execution_count": 17,
      "outputs": []
    },
    {
      "cell_type": "code",
      "metadata": {
        "id": "V83U1EEQtGA-"
      },
      "source": [
        "train_dataset = train_examples.map(tf_encode) # tf_encode 함수를 활용해서 포르투갈어, 영어 각 문장에 시작 토큰과 끝 토큰을 부여함\n",
        "train_dataset = train_dataset.filter(filter_max_length) # 문장의 길이가 40이 넘는 문장은 배제하고자 함\n",
        "# cache the dataset to memory to get a speedup while reading from it.\n",
        "train_dataset = train_dataset.cache() # cache를 활용해서 데이터를 로드할 때 빠른 처리를 기대해 봄\n",
        "train_dataset = train_dataset.shuffle(BUFFER_SIZE).padded_batch(BATCH_SIZE) \n",
        "# shuffle(60000) 인데, 이 말은 전체 데이터를 완전히 섞겠다는 뜻임\n",
        "# 전체 데이터의 수가 50000인데 50000보다 큰 숫자를 입력하면 완전하게 전체 데이터를 섞는 것이며\n",
        "# 전체 데이터 수보다 작은 수를 입력하면 전체 데이터에서 일부만 섞음\n",
        "# padded_batch는 무엇이냐면, 이번 데이터셋은 문장마다 길이가 모두 다르기에\n",
        "# 배치 사이즈(32) 만큼의 문장을 뽑을 때마다\n",
        "# 배치 사이즈에 해당하는 만큼의 문장의 길이는 일정하게 유지됨\n",
        "# 무슨 말이냐면 배치가 2개라면  이 중 하나의 문장의 길이는 37이 될 수 있고\n",
        "# 두 개의 배치(32) 중 하나의 배치는 문장의 길이를 37개로 모두 유지\n",
        "# 그 다음 배치에서 문장의 길이가 39 라면, 그 배치에서는 문장의 길이를 39로 유지\n",
        "                                                                            \n",
        "train_dataset = train_dataset.prefetch(tf.data.experimental.AUTOTUNE) # 데이터 로드와 처리의 시간을 overlap하여 속도 향상\n",
        "\n",
        "val_dataset = val_examples.map(tf_encode)\n",
        "val_dataset = val_dataset.filter(filter_max_length).padded_batch(BATCH_SIZE) #가변길이의 배치를 돌릴때 꼭 쓰자"
      ],
      "execution_count": 18,
      "outputs": []
    },
    {
      "cell_type": "markdown",
      "metadata": {
        "id": "6Wxi5ftvtRNr"
      },
      "source": [
        "#트랜스포머 구조\n",
        "![Imgur](https://i.imgur.com/Tl2zsFL.png)\n",
        "트랜스포머 트랜스포머의 구조는 1. (위치 + 단어 임베딩) -> 2, 인코더 3. 디코더로 나뉩니다.  \n",
        "먼저 임베딩부터 살펴보도록 하겠습니다.\n"
      ]
    },
    {
      "cell_type": "markdown",
      "metadata": {
        "id": "bkpvhCMnsVAm"
      },
      "source": [
        "#임베딩 파트 정의\n",
        "트랜스포머는 단어 임베딩 + 위치 임베딩, 두 가지 임베딩을 거치게 되며  \n",
        "단어 임베딩은 많이 해봤기 때문에, 위치 임베딩만 살펴 보도록 하겠습니다.  \n",
        "**왜 위치 임베딩을 하나면 RNN 계열 같이 문장 내부 단어의 순서를 나타낼 방법이 없기 때문입니다.**  \n",
        "같은 단어라도 위치 임베딩 때문에 순서에 따라서 단어가 임베딩 된 것은 다를 수 있습니다.  \n",
        "![Imgur](https://i.imgur.com/sSnVRpY.png)"
      ]
    },
    {
      "cell_type": "markdown",
      "metadata": {
        "id": "bZzxZS6Eym3W"
      },
      "source": [
        "![Imgur](https://i.imgur.com/SNIEhlA.png)"
      ]
    },
    {
      "cell_type": "code",
      "metadata": {
        "id": "v5cFMcfBymSE"
      },
      "source": [
        "# 먼저 포지셔널 임베딩부터\n",
        "# pos / 10000 ** (2i / d_model)에 해당하는 부분을\n",
        "# get_angles 함수로 출력하기\n",
        "\n",
        "def get_angles(pos, i, d_model):\n",
        "  angle_rates = 1 / np.power(10000, (2 * (i // 2) / np.float32(d_model)))\n",
        "    # shape = (1, d_model)\n",
        "  return np.matmul(pos, angle_rates) # pos shape : (pos, 1), angle_rates shape = (1, d_model),\n",
        "                                     # np.matmul(pos, angle_rates) shape : 행렬곱 (pos,1), (1, d_model) = (pos, d_model)\n",
        "\n",
        "def positional_encoding(position, d_model):\n",
        "  angle_rads = get_angles(np.arange(position)[:, np.newaxis],\n",
        "                          np.arange(d_model)[np.newaxis, :],\n",
        "                          d_model) # shape : (position, d_model)\n",
        "  # 오른쪽으로 짝수번째 인덱스는 sin 함수를 적용\n",
        "  angle_rads[:, 0::2] = np.sin(angle_rads[:, 0::2])\n",
        "  # 오른쪽으로 홀수번째 인덱스는 cos 함수를 적용\n",
        "  angle_rads[:, 1::2] = np.cos(angle_rads[:, 1::2])\n",
        "\n",
        "  pos_encoding = angle_rads[np.newaxis, ...] # pos_encoding shape : (1, position, d_model)\n",
        "                                             # 왜 shape에 1을 추가해주냐면, batch_size 만큼 학습하기 위함임\n",
        "\n",
        "  return tf.cast(pos_encoding, dtype=tf.float32)"
      ],
      "execution_count": 19,
      "outputs": []
    },
    {
      "cell_type": "code",
      "metadata": {
        "id": "va41MjAM-67o",
        "outputId": "48378dbb-334d-4c3c-85a2-ec31f394ecc4",
        "colab": {
          "base_uri": "https://localhost:8080/",
          "height": 301
        }
      },
      "source": [
        "pos_encoding = positional_encoding(50, 512)\n",
        "print(pos_encoding.shape)\n",
        "\n",
        "plt.pcolormesh(pos_encoding[0], cmap='RdBu')\n",
        "plt.xlabel(\"Depth\")\n",
        "plt.xlim((0, 512))\n",
        "plt.ylabel(\"Position\")\n",
        "plt.colorbar()\n",
        "plt.show()"
      ],
      "execution_count": 20,
      "outputs": [
        {
          "output_type": "stream",
          "name": "stdout",
          "text": [
            "(1, 50, 512)\n"
          ]
        },
        {
          "output_type": "display_data",
          "data": {
            "text/plain": [
              "<Figure size 432x288 with 2 Axes>"
            ],
            "image/png": "[encoded data removed]"
          },
          "metadata": {
            "needs_background": "light"
          }
        }
      ]
    },
    {
      "cell_type": "markdown",
      "metadata": {
        "id": "aNQHsYO9-qD6"
      },
      "source": [
        "단어 임베딩 + 포지셔널 임베딩 클래스 구현  \n",
        "주의할 점은 포지셔널 단어임베딩 * sqrt(임베딩 차원), 즉 루트가 곱해져야함  \n",
        "위치 임베딩은 단순히 위치만 나타내기 때문에, 가중치가 단어 임베딩보단 적어야 신경망이 잘 학습됨"
      ]
    },
    {
      "cell_type": "code",
      "metadata": {
        "id": "Mg5gN7cEr8m2"
      },
      "source": [
        "class TransformerEmbedding(tf.keras.layers.Layer):\n",
        "  def __init__(self, d_model, input_vocab_size, maximum_position_encoding, dropout_rate=0.1):\n",
        "    super().__init__()\n",
        "\n",
        "    self.d_model = d_model # 하나의 단어가 d_model의 차원으로 인코딩 됨\n",
        "    self.embedding = tf.keras.layers.Embedding(input_vocab_size, d_model)\n",
        "     # vocab_size는 tokenizer 내부 vocab.txt의 사이즈\n",
        "    self.pos_encoding = positional_encoding(maximum_position_encoding, self.d_model) # 포지셔널 인코딩\n",
        "    self.dropout = tf.keras.layers.Dropout(dropout_rate) # 드롭아웃 설정\n",
        "    \n",
        "\n",
        "  def call(self, x, training):\n",
        "    # 최초 x의 shape = (batch_size, seq_len)\n",
        "    seq_len = tf.shape(x)[1]\n",
        "    out = self.embedding(x) # shape : (batch_size, input_seq_len, d_model)\n",
        "    out = out * tf.math.sqrt(tf.cast(self.d_model, tf.float32)) # x에 sqrt(d_model) 만큼을 곱해주냐면, 임베딩 벡터보다 포지셔널 인코딩 임베딩 벡터의 영향력을 줄이기 위해서임\n",
        "                                                            # 포지셔널 인코딩은 순서만을 의미하기 때문에 임베딩 벡터보다 영향력이 적어야 이치에 맞음\n",
        "    out = out + self.pos_encoding[:,:seq_len,:]\n",
        "    out = self.dropout(out, training=training)\n",
        "    \n",
        "\n",
        "    return out # shape : (batch_size, input_seq_len, d_model)"
      ],
      "execution_count": 21,
      "outputs": []
    },
    {
      "cell_type": "code",
      "metadata": {
        "id": "SyuUIfwj9nuo",
        "colab": {
          "base_uri": "https://localhost:8080/"
        },
        "outputId": "8c024ed6-c90b-4ff4-85d7-5a5eb84bda6c"
      },
      "source": [
        "x = np.float32(np.random.uniform(size=(1,40))) # 문장 길이 40\n",
        "Embedder = TransformerEmbedding(512, tokenizer_en.vocab_size+2, 10000)\n",
        "embedded = Embedder(x, False)\n",
        "print(embedded) # 문장이 위치 임베딩 + 포지션 임베딩"
      ],
      "execution_count": 22,
      "outputs": [
        {
          "output_type": "stream",
          "name": "stdout",
          "text": [
            "tf.Tensor(\n",
            "[[[-0.80613524  1.7195985  -0.14253812 ...  1.0374793   0.11051485\n",
            "    0.22530669]\n",
            "  [ 0.03533572  1.2599008   0.6793181  ...  1.0374793   0.11061851\n",
            "    0.22530669]\n",
            "  [ 0.10316217  0.3034517   0.7938766  ...  1.0374793   0.11072218\n",
            "    0.22530669]\n",
            "  ...\n",
            "  [-1.4496734   1.4850125  -1.0490557  ...  1.0374713   0.11435038\n",
            "    0.22529936]\n",
            "  [-0.5097667   1.6746721  -1.005938   ...  1.0374709   0.11445405\n",
            "    0.22529894]\n",
            "  [ 0.15766013  0.98624146 -0.2197698  ...  1.0374705   0.11455771\n",
            "    0.22529852]]], shape=(1, 40, 512), dtype=float32)\n"
          ]
        }
      ]
    },
    {
      "cell_type": "markdown",
      "metadata": {
        "id": "QFL_iOsYBpYu"
      },
      "source": [
        "# 스케일드 닷 프로덕트 어텐션\n",
        "문장이 셀프 어텐션 되어서 어텐션 값과, 소프트맥스 함수를 출력하는 함수를 만들고자 합니다. scaled라는 의미는, 루트(단어의 차원 512)만큼 어텐션 값에서 나눠져 스케일링이 되기 때문에 스케일드 닷 프로덕트 어텐션이라는 이름이 붙여진 것입니다.  \n",
        "![Imgur](https://i.imgur.com/9fmQJl9.png)  \n",
        "제 깃허브에 올린 **심화1_어텐션의 근본적인 이해** 에서 어텐션 부분과 다른 점이 거의 없으니 복습하시면 됩니다.  \n",
        "mask를 True로 설정하면 소프트맥스 아웃풋에서, 마스크 된 부분은 0으로 바뀌게 됩니다. 왜냐면 -1e9는 상당히 큰 값인데, e^(-1e9)는 0에 수렴하기 때문입니다.  \n",
        "왜 트랜스포머에 마스크가 들어가는 지는 두 가지로 말씀드리겠습니다. **1) 인풋의 길이를 신경망 학습을 위해 일정한 길이로 맞추다 보면, 원래 문장의 길이를 초과하는 만큼은 패딩이 됩니다. 그 패딩한 부분을 어텐션 연산에 참여시키지 않기 위해 마스크를 사용하는 것입니다.**  \n",
        "**2) Seq2Seq같은 기계 번역을 할 때에는 인코딩 부분과 단어 일부로 다음 단어를 예측하기 때문에, 단어 전체를 훈련하지 않고 일부분만 훈련하는 것이 논리에 맞습니다. 따라서 mask로 훈련에 필요하지 않은 부분은 0으로 바꿔주게 됩니다.**\n"
      ]
    },
    {
      "cell_type": "markdown",
      "metadata": {
        "id": "n8II3gNaw1K_"
      },
      "source": [
        "문장들이 임베딩되면 인풋의 차원은 (batch_size, seq_len, d_model)입니다.  \n",
        "scaled_dot_product_attention 이후의 차원 또한 (batch_size, seq_len, d_model)입니다.  \n",
        "**즉 인풋과 아웃풋의 사이즈가 동일하게 됩니다.**  \n",
        "\n",
        "따라서 scaled_dot_product_attention의 결과는 단어들 간의 연관성을 학습한다고 이해하시면 되겠습니다."
      ]
    },
    {
      "cell_type": "code",
      "metadata": {
        "id": "s-NM-LwEA9FI"
      },
      "source": [
        "def scaled_dot_product_attention(q, k, v, mask=None):\n",
        "  # q shape : (batch_size, seq_len, d_model)\n",
        "  # k shape : (batch_size, seq_len, d_model)\n",
        "  # v shape : (batch_size, seq_len, d_model)\n",
        "  matmul_qk = tf.matmul(q, k, transpose_b = True)\n",
        "  #matmul_qk shape : (batch_size, seq_len, seq_len)                                                \n",
        "\n",
        "  dk = tf.cast(tf.shape(k)[-1], tf.float32)\n",
        "  scaled_attention_logits = matmul_qk / tf.math.sqrt(dk)\n",
        "\n",
        "  # scaled_attetion_logits shape : (batch_size, seq_len, seq_len)\n",
        "\n",
        "  if mask is not None:\n",
        "    scaled_attention_logits = scaled_attention_logits + (mask * -1e9)\n",
        "\n",
        "  softmax = tf.nn.softmax(scaled_attention_logits, axis=-1)\n",
        "\n",
        "  # softmax shape : (batch_size, seq_len, seq_len)\n",
        "\n",
        "  output = tf.matmul(softmax, v)\n",
        "\n",
        "  # output(attention_value) shape : (batch_size, seq_len, d_model)\n",
        "  # 즉 처음 입력 차원인 (batch_size, seq_len, d_model) 차원을 아웃풋으로 반환\n",
        "\n",
        "  return output, softmax"
      ],
      "execution_count": 23,
      "outputs": []
    },
    {
      "cell_type": "code",
      "metadata": {
        "id": "9hEWUwCDLXTj",
        "colab": {
          "base_uri": "https://localhost:8080/"
        },
        "outputId": "1a08e7be-ea66-49a6-b075-f07131f07e2a"
      },
      "source": [
        "q = tf.cast(np.random.uniform(size=(1,2,512)), dtype=tf.float32)\n",
        "k = tf.cast(np.random.uniform(size=(1,7,512)), dtype=tf.float32)\n",
        "v = tf.cast(np.random.uniform(size=(1,7,512)), dtype=tf.float32)\n",
        "scaled_dot_product_attention(q,k,v)"
      ],
      "execution_count": 24,
      "outputs": [
        {
          "output_type": "execute_result",
          "data": {
            "text/plain": [
              "(<tf.Tensor: shape=(1, 2, 512), dtype=float32, numpy=\n",
              " array([[[0.34622216, 0.416221  , 0.5964025 , ..., 0.31753165,\n",
              "          0.51880324, 0.38607883],\n",
              "         [0.36023307, 0.42459738, 0.6031863 , ..., 0.321983  ,\n",
              "          0.53323734, 0.36702463]]], dtype=float32)>,\n",
              " <tf.Tensor: shape=(1, 2, 7), dtype=float32, numpy=\n",
              " array([[[0.12381801, 0.16524976, 0.12600707, 0.12574986, 0.14132147,\n",
              "          0.19963668, 0.11821716],\n",
              "         [0.12729245, 0.16081178, 0.14399321, 0.11612342, 0.14634505,\n",
              "          0.16304189, 0.14239223]]], dtype=float32)>)"
            ]
          },
          "metadata": {},
          "execution_count": 24
        }
      ]
    },
    {
      "cell_type": "markdown",
      "metadata": {
        "id": "9SBCCD7ixP_u"
      },
      "source": [
        "# 멀티 헤드 어텐션 정의\n",
        "멀티 헤드 어텐션은 전체 어텐션을 분리하여 병렬적으로 어텐션을 수행하는 기법입니다.  \n",
        "즉 (batch_size, 50, 64*8) 의 텐서가 있다면 이것을 (batch_size, 50, 64) 의 8개의 텐서로 나눈다음에 개별적으로 어텐션을 수행하고, 다시 (batch_size, 50, 64*8)의 텐서로 concat(합치는) 하게 됩니다.  \n",
        "이렇게 하는 이유는, 깊은 차원을 한번에 어텐션을 수행하는 것보다, 병렬로 각각 수행하는 것이 더 심도있는 언어들간의 관계를 학습할 수 있기 때문입니다."
      ]
    },
    {
      "cell_type": "code",
      "metadata": {
        "id": "sCnRYvoWGoj1"
      },
      "source": [
        "class MultiHeadAttention(tf.keras.layers.Layer):\n",
        "  def __init__(self, d_model, num_heads):\n",
        "    super().__init__()\n",
        "    self.num_heads = num_heads\n",
        "    self.d_model = d_model\n",
        "\n",
        "    assert d_model % self.num_heads == 0\n",
        "\n",
        "    self.depth = d_model // self.num_heads\n",
        "\n",
        "    self.wq = tf.keras.layers.Dense(d_model)\n",
        "    self.wk = tf.keras.layers.Dense(d_model)\n",
        "    self.wv = tf.keras.layers.Dense(d_model)\n",
        "\n",
        "    self.dense = tf.keras.layers.Dense(d_model)\n",
        "\n",
        "  def split_heads(self, x, batch_size):\n",
        "    x = tf.reshape(x, (batch_size, -1, self.num_heads, self.depth))\n",
        "    return tf.transpose(x, perm=[0,2,1,3])\n",
        "\n",
        "  def call(self, v, k, q, mask):\n",
        "    batch_size = tf.shape(q)[0]\n",
        "\n",
        "    q = self.wq(q)\n",
        "    k = self.wk(k)\n",
        "    v = self.wv(v)\n",
        "\n",
        "    q = self.split_heads(q, batch_size)\n",
        "    k = self.split_heads(k, batch_size)\n",
        "    v = self.split_heads(v, batch_size)\n",
        "\n",
        "\n",
        "    attention_weights, softmax = scaled_dot_product_attention(q, k, v, mask)\n",
        "\n",
        "    scaled_attention = tf.transpose(attention_weights, perm=[0,2,1,3])\n",
        "\n",
        "    concat_attention = tf.reshape(scaled_attention, (batch_size, -1, self.d_model))\n",
        "\n",
        "    output = self.dense(concat_attention)\n",
        "\n",
        "    return output, softmax"
      ],
      "execution_count": 25,
      "outputs": []
    },
    {
      "cell_type": "code",
      "metadata": {
        "id": "3OM-vtx-VJXw",
        "colab": {
          "base_uri": "https://localhost:8080/"
        },
        "outputId": "881f1add-dc8d-448b-f9a1-63ac3cc4a7a1"
      },
      "source": [
        "q = tf.cast(np.random.uniform(size=(1,2,512)), dtype=tf.float32)\n",
        "k = tf.cast(np.random.uniform(size=(1,7,512)), dtype=tf.float32)\n",
        "v = tf.cast(np.random.uniform(size=(1,7,512)), dtype=tf.float32)\n",
        "temp_mha = MultiHeadAttention(512, 8)\n",
        "encoder_output, _ = temp_mha(v,k,q, mask=None)\n",
        "print(encoder_output)"
      ],
      "execution_count": 26,
      "outputs": [
        {
          "output_type": "stream",
          "name": "stdout",
          "text": [
            "tf.Tensor(\n",
            "[[[-1.0319128  -1.315241    0.27844593 ...  0.4948566   0.0316819\n",
            "    0.21752718]\n",
            "  [-1.0287309  -1.3164613   0.26191092 ...  0.48679143  0.03603966\n",
            "    0.21486391]]], shape=(1, 2, 512), dtype=float32)\n"
          ]
        }
      ]
    },
    {
      "cell_type": "markdown",
      "metadata": {
        "id": "bsbTtqHi3vTN"
      },
      "source": [
        "# 포인트와이즈 피드 포워드 네트워크 정의\n",
        "Pointwise Feed Forward 네트워크에서는 인코더의 출력에서 512개의 차원이 2048차원까지 확장되고,  \n",
        "다시 512개의 차원으로 압축됩니다."
      ]
    },
    {
      "cell_type": "code",
      "metadata": {
        "id": "ZeXomoz44N5s"
      },
      "source": [
        "class Pointwise_FeedForward_Network(tf.keras.layers.Layer):\n",
        "  def __init__(self, d_model, dff):\n",
        "    super().__init__()\n",
        "    self.d_model = d_model\n",
        "    self.dff = dff\n",
        "\n",
        "    self.middle = tf.keras.layers.Dense(dff, activation='relu')\n",
        "    self.out = tf.keras.layers.Dense(d_model)\n",
        "\n",
        "  def call(self, x):\n",
        "    middle = self.middle(x) # middle shape : (batch_size, seq_len, dff)\n",
        "    out = self.out(middle) # out shape : (batch_size, seq_len, d_model)\n",
        "    return out"
      ],
      "execution_count": 27,
      "outputs": []
    },
    {
      "cell_type": "code",
      "metadata": {
        "id": "xqtcgn2x6YkB",
        "colab": {
          "base_uri": "https://localhost:8080/"
        },
        "outputId": "1a253365-2ace-4817-fc4a-f83e747faa4a"
      },
      "source": [
        "sample_PFFN = Pointwise_FeedForward_Network(512, 2048)\n",
        "sample_PFFN(encoder_output)"
      ],
      "execution_count": 28,
      "outputs": [
        {
          "output_type": "execute_result",
          "data": {
            "text/plain": [
              "<tf.Tensor: shape=(1, 2, 512), dtype=float32, numpy=\n",
              "array([[[ 0.26373047,  0.24884488, -0.14916919, ..., -0.00543933,\n",
              "          0.07849955,  0.18025196],\n",
              "        [ 0.26123336,  0.25663   , -0.15266165, ..., -0.00642509,\n",
              "          0.07650428,  0.18615404]]], dtype=float32)>"
            ]
          },
          "metadata": {},
          "execution_count": 28
        }
      ]
    },
    {
      "cell_type": "markdown",
      "metadata": {
        "id": "jbkyN8bq7EYT"
      },
      "source": [
        "# 인코더, 디코더 정의\n",
        "지금까지 임베딩 -> 멀티 헤드 어텐션 -> 포인트와이즈 피드 포워드 네트워크까지 살펴 보았습니다.  \n",
        "트랜스포머에서의 인코딩은 (멀티헤드어텐션 + 포인트와이즈 피드 포워드 네트워크)를 층층이 쌓은 것입니다. 따라서 방금 공부했던 멀티헤드 어텐션과 포인트와이즈 피드 포워드 네트워크를 겹겹이 쌓아서, 인코더층을 쌓는 것입니다.  \n",
        "\n",
        "인코더 레이어를 정의해서 멀티헤드 어텐션과 포인트와이즈 피드 포워드 네트워크를 합쳐 보도록 하겠습니다. \n",
        "\n",
        "단어 임베딩 벡터(단어 임베딩+위치 임베딩)가 -> 1. 멀티헤드어텐션  -> 2. Residual Network를 거쳐 원래 input과 멀티헤드어텐션의 합이 출력 -> 3. 포인트와이즈 피드포워드 네트워크 를 거치고, -> 4. Residual Network를 거쳐서 원래의 인풋과 포인트와이즈 피드포워드 네트워크의 합이 출력됨  \n",
        "![Imgur](https://i.imgur.com/w4n19Rs.png)"
      ]
    },
    {
      "cell_type": "code",
      "metadata": {
        "id": "SAf18XXu6kB3"
      },
      "source": [
        "class EncoderLayer(tf.keras.layers.Layer):\n",
        "  def __init__(self, d_model, num_heads, dff, rate=0.1):\n",
        "    super().__init__()\n",
        "    self.mha = MultiHeadAttention(d_model, num_heads)\n",
        "    self.ffn = Pointwise_FeedForward_Network(d_model, dff)\n",
        "\n",
        "    self.dropout1 = tf.keras.layers.Dropout(rate)\n",
        "    self.dropout2 = tf.keras.layers.Dropout(rate)\n",
        "    \n",
        "    self.layernorm1 = tf.keras.layers.LayerNormalization(epsilon=1e-6)\n",
        "    self.layernorm2 = tf.keras.layers.LayerNormalization(epsilon=1e-6)\n",
        "\n",
        "  def call(self, x, training, mask=None):\n",
        "    # x : 위치 임베딩 + 단어 임베딩 된 인코딩의 인풋\n",
        "    attn_output, _ = self.mha(x, x, x, mask) \n",
        "    # 멀티헤드 어텐션\n",
        "    # attn_output shape : (batch_size, input_seq_len, d_model)\n",
        "\n",
        "    attn_output = self.dropout1(attn_output, training=training)\n",
        "\n",
        "    out1 = self.layernorm1(x + attn_output) # Residual Network 거침, 레이어 노멀레이제이션을 통한 값 평준화\n",
        "\n",
        "    ffn_output = self.ffn(out1) # ffn_output_shape : (batch_size, input_seq_len, d_model), 포인트와이즈 피드포워드 네트워크\n",
        "    ffn_output = self.dropout2(ffn_output, training=training)\n",
        "\n",
        "    out2 = self.layernorm2(out1 + ffn_output)   # Residual Network 거침\n",
        "                                                # out2 shape : (batch_size, input_seq_len, d_model)\n",
        "\n",
        "    return out2"
      ],
      "execution_count": 29,
      "outputs": []
    },
    {
      "cell_type": "code",
      "metadata": {
        "id": "O7omwGh--4fv",
        "colab": {
          "base_uri": "https://localhost:8080/"
        },
        "outputId": "250fbddf-b6b8-40da-a2d1-06e188c2823e"
      },
      "source": [
        "# 임베딩\n",
        "x = np.float32(np.random.uniform(size=(1,40))) # 문장 길이 40\n",
        "Embedder = TransformerEmbedding(512, tokenizer_en.vocab_size+2, 10000)\n",
        "embedded = Embedder(x, False)\n",
        "print(embedded) # 문장이 위치 임베딩 + 포지션 임베딩\n",
        "#인코더\n",
        "sample_encoder = EncoderLayer(d_model=512, num_heads=8, dff=2048, rate=0.1)\n",
        "sample_encoding = sample_encoder(embedded, training=None, mask=None)\n",
        "print(sample_encoding)\n",
        "#최종출력\n",
        "print(\"Encoded 차원 :\", sample_encoding.shape)"
      ],
      "execution_count": 30,
      "outputs": [
        {
          "output_type": "stream",
          "name": "stdout",
          "text": [
            "tf.Tensor(\n",
            "[[[-0.4228846   0.22625047 -0.6137655  ...  1.7620239   0.7853818\n",
            "    0.23653406]\n",
            "  [ 0.41858634 -0.23344725  0.20809072 ...  1.7620239   0.78548545\n",
            "    0.23653406]\n",
            "  [ 0.4864128  -1.1898963   0.32264924 ...  1.7620239   0.7855891\n",
            "    0.23653406]\n",
            "  ...\n",
            "  [-1.0664227  -0.00833547 -1.5202831  ...  1.7620159   0.78921735\n",
            "    0.23652673]\n",
            "  [-0.12651604  0.18132412 -1.4771655  ...  1.7620156   0.789321\n",
            "    0.23652631]\n",
            "  [ 0.5409107  -0.5071066  -0.6909972  ...  1.7620151   0.78942466\n",
            "    0.2365259 ]]], shape=(1, 40, 512), dtype=float32)\n",
            "tf.Tensor(\n",
            "[[[ 0.6945741   0.3113688  -1.7993103  ...  1.0070356   0.14388323\n",
            "   -0.5063599 ]\n",
            "  [ 1.2432673   0.02555623 -1.2206856  ...  0.9409844   0.18105346\n",
            "   -0.51309943]\n",
            "  [ 1.3261312  -0.58428043 -1.1040782  ...  0.90025944  0.21259072\n",
            "   -0.5579134 ]\n",
            "  ...\n",
            "  [-0.03539645  0.2690413  -2.1816773  ...  1.2292151  -0.05942137\n",
            "   -0.46844247]\n",
            "  [ 0.5419888   0.45484048 -2.3466034  ...  1.235458   -0.06968857\n",
            "   -0.45047677]\n",
            "  [ 0.98616564  0.0680668  -1.9576753  ...  1.1487563  -0.02446697\n",
            "   -0.46525526]]], shape=(1, 40, 512), dtype=float32)\n",
            "Encoded 차원 : (1, 40, 512)\n"
          ]
        }
      ]
    },
    {
      "cell_type": "markdown",
      "metadata": {
        "id": "F76815Y-BDZ8"
      },
      "source": [
        "디코더를 정의하도록 하겠습니다.  \n",
        "![Imgur](https://i.imgur.com/kGTfPr8.png)\n",
        "\n",
        "디코더는 인코더랑 유사하지만, 구조가 약간 다릅니다. \n",
        "이번 Seq2Seq는 포르투갈어를 영어로 바꾸는 문제입니다.  디코더에서는 \n",
        "두단계의 멀티 헤드 어텐션 구조를 거치는데, **첫번째 멀티 헤드 어텐션은**, **영어문장과 영어문장의 셀프 어텐션을 하여**, 영어 문장간의 관계를 배우게 됩니다.  \n",
        "두번째 멀티 헤드 어텐션은 **포르투갈어가 인코딩 된 것과**, **영어 문장간의 셀프** **어텐션된 결과를 다시 어텐션 해서 포르투갈 어와 영어의 관계를 학습하게 됩니다.**  \n",
        "\n",
        "포르투갈어가 암호화된 것과, 영어 문장 한단어 한단어를 보면서 다음 단어를 예측하게 되기 때문에, look_ahead_mask를 사용하게 됩니다.  \n",
        "만약 영어 문장이 (I love you) 로 이루어져 있다면, look_ahead_mask를 사용하면,  \n",
        "(I, 0, 0) -> Love 예측, (I love, 0) -> You 예측, (I love you) -> 단어의 끝인 [SEP] 예측을 합니다.   \n",
        "**즉 look_ahead_mask는 다음 단어를 예측할 때, 전에 있던 단어만으로 예측할수 있도록 앞에 있는 단어는 가리는 것입니다.**\n",
        "  \n",
        "  이러한 역할을 가능하게 하는 mask가 look_ahead_mask 입니다."
      ]
    },
    {
      "cell_type": "markdown",
      "metadata": {
        "id": "TxwEGGzZ30eh"
      },
      "source": [
        "look_ahead_mask를 알아보겠습니다.**(매우 중요)**  \n",
        "참고로 패딩은 1로 하겠습니다. 왜냐하면 어텐션 부분에서 mask * (-1e9)를 하는데, 패딩이 1이어야 -1e9가 곱해져서 상당히 음수로 큰 수가 되는 것이고, 이게 소프트 맥스에 들어가면 0이 되기 때문입니다.(지수함수라 지수함수에 -음수는 0으로 수렴)  \n",
        "![Imgur](https://i.imgur.com/eLAlzji.png)  \n",
        "![Imgur](https://i.imgur.com/gAVenk0.png)  \n",
        "![Imgur](https://i.imgur.com/hsZ6dGs.png)"
      ]
    },
    {
      "cell_type": "code",
      "metadata": {
        "id": "PGtYNoL23oIR",
        "colab": {
          "base_uri": "https://localhost:8080/"
        },
        "outputId": "af96c71d-c2e8-48be-ce1e-2d746a2590c4"
      },
      "source": [
        "# 상삼각행렬 만들기\n",
        "tf.linalg.band_part(tf.ones((10, 10)), -1, 0)"
      ],
      "execution_count": 31,
      "outputs": [
        {
          "output_type": "execute_result",
          "data": {
            "text/plain": [
              "<tf.Tensor: shape=(10, 10), dtype=float32, numpy=\n",
              "array([[1., 0., 0., 0., 0., 0., 0., 0., 0., 0.],\n",
              "       [1., 1., 0., 0., 0., 0., 0., 0., 0., 0.],\n",
              "       [1., 1., 1., 0., 0., 0., 0., 0., 0., 0.],\n",
              "       [1., 1., 1., 1., 0., 0., 0., 0., 0., 0.],\n",
              "       [1., 1., 1., 1., 1., 0., 0., 0., 0., 0.],\n",
              "       [1., 1., 1., 1., 1., 1., 0., 0., 0., 0.],\n",
              "       [1., 1., 1., 1., 1., 1., 1., 0., 0., 0.],\n",
              "       [1., 1., 1., 1., 1., 1., 1., 1., 0., 0.],\n",
              "       [1., 1., 1., 1., 1., 1., 1., 1., 1., 0.],\n",
              "       [1., 1., 1., 1., 1., 1., 1., 1., 1., 1.]], dtype=float32)>"
            ]
          },
          "metadata": {},
          "execution_count": 31
        }
      ]
    },
    {
      "cell_type": "code",
      "metadata": {
        "id": "Gs3HDOex3rnK",
        "colab": {
          "base_uri": "https://localhost:8080/"
        },
        "outputId": "6c08dffd-a3ac-4375-bc5e-d1819033337d"
      },
      "source": [
        "temp_mask = 1 - tf.linalg.band_part(tf.ones((40, 40)), -1, 0)\n",
        "print(temp_mask)"
      ],
      "execution_count": 32,
      "outputs": [
        {
          "output_type": "stream",
          "name": "stdout",
          "text": [
            "tf.Tensor(\n",
            "[[0. 1. 1. ... 1. 1. 1.]\n",
            " [0. 0. 1. ... 1. 1. 1.]\n",
            " [0. 0. 0. ... 1. 1. 1.]\n",
            " ...\n",
            " [0. 0. 0. ... 0. 1. 1.]\n",
            " [0. 0. 0. ... 0. 0. 1.]\n",
            " [0. 0. 0. ... 0. 0. 0.]], shape=(40, 40), dtype=float32)\n"
          ]
        }
      ]
    },
    {
      "cell_type": "code",
      "metadata": {
        "id": "vhYWwxQo373G",
        "colab": {
          "base_uri": "https://localhost:8080/"
        },
        "outputId": "9e5913f8-82a0-43ef-e632-3b2854e8b0cf"
      },
      "source": [
        "# 예제 문장 (1, 40) 즉, 1문장, 40개의 단어를 가짐\n",
        "example_sentence = np.hstack([np.random.randint(20, size=10), np.zeros(30)])[np.newaxis, :]\n",
        "print(example_sentence) # 예제 문장\n",
        "example_sentence = tf.cast(tf.math.equal(example_sentence, 0), dtype=tf.float32)\n",
        "print(example_sentence) # 패딩 된 것(문장에서 0이 아닌 부분은 0으로, 0인 부분은 1로)\n",
        "example_sentence = example_sentence[:, tf.newaxis, tf.newaxis, :] # 차원 변경\n",
        "print(example_sentence)\n",
        "\n",
        "look_ahead_mask = tf.maximum(temp_mask, example_sentence) # 상삼각행렬과 example sentence를 비교해가며 최대값만 취해서 패딩을 1로 처리함\n",
        "# look ahead mask\n",
        "print(look_ahead_mask)"
      ],
      "execution_count": 33,
      "outputs": [
        {
          "output_type": "stream",
          "name": "stdout",
          "text": [
            "[[ 6. 12. 17. 11. 19. 18. 14.  8.  0. 14.  0.  0.  0.  0.  0.  0.  0.  0.\n",
            "   0.  0.  0.  0.  0.  0.  0.  0.  0.  0.  0.  0.  0.  0.  0.  0.  0.  0.\n",
            "   0.  0.  0.  0.]]\n",
            "tf.Tensor(\n",
            "[[0. 0. 0. 0. 0. 0. 0. 0. 1. 0. 1. 1. 1. 1. 1. 1. 1. 1. 1. 1. 1. 1. 1. 1.\n",
            "  1. 1. 1. 1. 1. 1. 1. 1. 1. 1. 1. 1. 1. 1. 1. 1.]], shape=(1, 40), dtype=float32)\n",
            "tf.Tensor(\n",
            "[[[[0. 0. 0. 0. 0. 0. 0. 0. 1. 0. 1. 1. 1. 1. 1. 1. 1. 1. 1. 1. 1. 1.\n",
            "    1. 1. 1. 1. 1. 1. 1. 1. 1. 1. 1. 1. 1. 1. 1. 1. 1. 1.]]]], shape=(1, 1, 1, 40), dtype=float32)\n",
            "tf.Tensor(\n",
            "[[[[0. 1. 1. ... 1. 1. 1.]\n",
            "   [0. 0. 1. ... 1. 1. 1.]\n",
            "   [0. 0. 0. ... 1. 1. 1.]\n",
            "   ...\n",
            "   [0. 0. 0. ... 1. 1. 1.]\n",
            "   [0. 0. 0. ... 1. 1. 1.]\n",
            "   [0. 0. 0. ... 1. 1. 1.]]]], shape=(1, 1, 40, 40), dtype=float32)\n"
          ]
        }
      ]
    },
    {
      "cell_type": "code",
      "metadata": {
        "id": "Uy3HuPbQ2_wJ"
      },
      "source": [
        "# look_ahead_mask 알아보기\n",
        "def create_look_ahead_mask(size):\n",
        "  mask = 1 - tf.linalg.band_part(tf.ones((size, size)), -1, 0)\n",
        "  return mask\n",
        "  \n",
        "def create_masks(tar):\n",
        "  temp_mask = create_look_ahead_mask(tf.shape(tar)[1])\n",
        "  \n",
        "  \n",
        "  reverse_tar = tf.cast(tf.math.equal(tar, 0), dtype=tf.float32)\n",
        "  reverse_tar = reverse_tar[:,tf.newaxis,tf.newaxis,:]\n",
        "  look_ahead_mask = tf.maximum(reverse_tar, temp_mask)\n",
        "\n",
        "\n",
        "  return look_ahead_mask"
      ],
      "execution_count": 34,
      "outputs": []
    },
    {
      "cell_type": "markdown",
      "metadata": {
        "id": "FZYtaJVW6Q4K"
      },
      "source": [
        "또한 패딩 마스크를 두어서, 패딩인 부분은 1으로 처리하겠습니다."
      ]
    },
    {
      "cell_type": "code",
      "metadata": {
        "id": "N47qF-CZ6m26"
      },
      "source": [
        "def create_padding_mask(seq):\n",
        "  seq = tf.cast(tf.math.equal(seq, 0), tf.float32)\n",
        "  return seq[:, tf.newaxis, tf.newaxis, :]  # (batch_size, 1, 1, seq_len)"
      ],
      "execution_count": 35,
      "outputs": []
    },
    {
      "cell_type": "code",
      "metadata": {
        "id": "T6c7E0716uUj",
        "colab": {
          "base_uri": "https://localhost:8080/"
        },
        "outputId": "2c3fd8e3-9de0-4123-95a5-5c4ba9181be8"
      },
      "source": [
        "example_sentence = np.hstack([np.random.randint(20, size=10), np.zeros(30)])[np.newaxis, :]\n",
        "# 패딩 되기 전\n",
        "print(example_sentence)\n",
        "# 패딩 된 후\n",
        "print(create_padding_mask(example_sentence))"
      ],
      "execution_count": 36,
      "outputs": [
        {
          "output_type": "stream",
          "name": "stdout",
          "text": [
            "[[12. 14.  0. 13. 18.  4. 18. 12.  3. 12.  0.  0.  0.  0.  0.  0.  0.  0.\n",
            "   0.  0.  0.  0.  0.  0.  0.  0.  0.  0.  0.  0.  0.  0.  0.  0.  0.  0.\n",
            "   0.  0.  0.  0.]]\n",
            "tf.Tensor(\n",
            "[[[[0. 0. 1. 0. 0. 0. 0. 0. 0. 0. 1. 1. 1. 1. 1. 1. 1. 1. 1. 1. 1. 1.\n",
            "    1. 1. 1. 1. 1. 1. 1. 1. 1. 1. 1. 1. 1. 1. 1. 1. 1. 1.]]]], shape=(1, 1, 1, 40), dtype=float32)\n"
          ]
        }
      ]
    },
    {
      "cell_type": "code",
      "metadata": {
        "id": "Vr-x36BB_ekk"
      },
      "source": [
        "class DecoderLayer(tf.keras.layers.Layer):\n",
        "  def __init__(self, d_model, num_heads, dff, rate=0.1):\n",
        "    super().__init__()\n",
        "\n",
        "    self.mha1 = MultiHeadAttention(d_model, num_heads)\n",
        "    self.mha2 = MultiHeadAttention(d_model, num_heads)\n",
        "    \n",
        "    self.ffn = Pointwise_FeedForward_Network(d_model, dff)\n",
        "\n",
        "    self.layernorm1 = tf.keras.layers.LayerNormalization(epsilon=1e-6)\n",
        "    self.layernorm2 = tf.keras.layers.LayerNormalization(epsilon=1e-6)\n",
        "    self.layernorm3 = tf.keras.layers.LayerNormalization(epsilon=1e-6)\n",
        "\n",
        "    self.dropout1 = tf.keras.layers.Dropout(rate)\n",
        "    self.dropout2 = tf.keras.layers.Dropout(rate)\n",
        "    self.dropout3 = tf.keras.layers.Dropout(rate)\n",
        "\n",
        "\n",
        "  def call(self, x, enc_output, training, padding_mask, look_ahead_mask):\n",
        "    # x : 훈련 과정에서는 Seq2Seq에서 번역이 될 문장이 입력됨,\n",
        "    # x : 추론 과정에서는 과거의 단어가 입력됨\n",
        "    # enc_output : 인코더의 출력\n",
        "    # padding_mask : 멀티 헤드 어텐션에 필요한 정보만 남기고 나머지는 패딩 처리\n",
        "    # look_ahead_mask : 위에 설명\n",
        "    # enc_output_shape == (batch_size, input_seq_len, d_model)\n",
        "\n",
        "    #### 첫번째 멀티 헤드 어텐션 파트임 ####\n",
        "    #### 첫번째 멀티 헤드 어텐션은, 인코더와의 결합 없이 번역이 될 문장끼리만 어텐션을 함 ####\n",
        "    attn1, attn_weights_block1 = self.mha1(x, x, x, look_ahead_mask)\n",
        "    out1 = self.dropout1(attn1, training=training)\n",
        "    out1 = self.layernorm1(out1 + x)\n",
        "    \n",
        "    #### 두번째 멀티 헤드 어텐션 파트임 ####\n",
        "    #### 두번째 멀티 헤드 어텐션 파트는 enc_output에서 인코더와(포르투갈어), out1(영어문장으로만 셀프어텐션을 한 것)\n",
        "    #### 이 다시 멀티 헤드 어텐션 과정을 거치게 됨\n",
        "    #### 다시 상기하자면, 이번 과제는 포르투갈 어를 영어로 번역하는 것임\n",
        "    attn2, attn_weights_block2 = self.mha2(\n",
        "        enc_output, enc_output, out1, padding_mask)\n",
        "    out2 = self.dropout2(attn2, training=training)\n",
        "    out2 = self.layernorm2(out2 + out1) # (batch_size, target_seq_len, d_model)\n",
        "    \n",
        "\n",
        "    ffn_output = self.ffn(out2)\n",
        "    ffn_output = self.dropout3(ffn_output, training=training)\n",
        "    out3 = self.layernorm3(ffn_output + out2) # (batch_size, target_seq_len, d_model)\n",
        "    \n",
        "\n",
        "    return out3, attn_weights_block1, attn_weights_block2"
      ],
      "execution_count": 37,
      "outputs": []
    },
    {
      "cell_type": "code",
      "metadata": {
        "id": "kk9I7NdJNMN0",
        "colab": {
          "base_uri": "https://localhost:8080/"
        },
        "outputId": "06dc3a56-0b39-49b3-97e5-432e5d97e639"
      },
      "source": [
        "sample_decoder_layer = DecoderLayer(d_model=512, num_heads=8, dff=2048)\n",
        "sample_decoder_layer_output, _, _ = sample_decoder_layer(embedded, sample_encoding, False, None, None)\n",
        "print(sample_decoder_layer_output)\n",
        "print(sample_decoder_layer_output.shape)"
      ],
      "execution_count": 38,
      "outputs": [
        {
          "output_type": "stream",
          "name": "stdout",
          "text": [
            "tf.Tensor(\n",
            "[[[ 0.0021194  -0.01513435  0.3072747  ...  1.7061071   0.68756485\n",
            "   -0.74399054]\n",
            "  [ 0.41887465 -0.23708399  0.6641142  ...  1.690824    0.5699678\n",
            "   -0.7695215 ]\n",
            "  [ 0.5109609  -0.663286    0.7493812  ...  1.6647727   0.4996714\n",
            "   -0.8075923 ]\n",
            "  ...\n",
            "  [-0.3689664  -0.20183936  0.00576546 ...  1.5312378   0.71544796\n",
            "   -0.6748397 ]\n",
            "  [-0.00307681 -0.16380706 -0.01043236 ...  1.5691622   0.75318056\n",
            "   -0.7143716 ]\n",
            "  [ 0.29142162 -0.49916288  0.30910793 ...  1.5240825   0.79953504\n",
            "   -0.8168911 ]]], shape=(1, 40, 512), dtype=float32)\n",
            "(1, 40, 512)\n"
          ]
        }
      ]
    },
    {
      "cell_type": "markdown",
      "metadata": {
        "id": "JwKQPfQiQc_r"
      },
      "source": [
        "이제 여러 층의 인코더를 쌓는 Encoder Class를 정의해보도록 하겠습니다."
      ]
    },
    {
      "cell_type": "code",
      "metadata": {
        "id": "c7WJs-lXOXtS"
      },
      "source": [
        "class Encoder(tf.keras.layers.Layer):\n",
        "  def __init__(self, num_layers, d_model, num_heads, dff, rate=0.1):\n",
        "    super().__init__()\n",
        "\n",
        "    self.d_model = d_model\n",
        "    self.num_layers = num_layers\n",
        "\n",
        "    self.enc_layers = [EncoderLayer(d_model, num_heads, dff, rate) for _ in range(num_layers)] # 인코더를 쌓아서 층을 만듦\n",
        "\n",
        "\n",
        "  def call(self, x, training, mask):\n",
        "    # 인풋은 타겟 임베딩 + 포지셔닝 임베딩\n",
        "    for i in range(self.num_layers):\n",
        "      x = self.enc_layers[i](x, training, mask)\n",
        "\n",
        "    return x # 출력 모양 : (batch_size, input_seq_len, d_model), 인코더의 층을 출력으로 내보냄"
      ],
      "execution_count": 39,
      "outputs": []
    },
    {
      "cell_type": "code",
      "metadata": {
        "id": "UfRtgnkuy578",
        "colab": {
          "base_uri": "https://localhost:8080/"
        },
        "outputId": "1aa37079-a419-494f-e782-171dc5b0fde1"
      },
      "source": [
        "Encoder_layer = Encoder(6, 512, 8, 2048) #6층, 512차원의 단어 임베딩, 8개의 병렬 멀티 헤드 어텐션의 인코더\n",
        "# embedded : 위치 임베딩 + 단어 임베딩\n",
        "Encoded = Encoder_layer(embedded, False, None)\n",
        "print(Encoded, Encoded.shape)"
      ],
      "execution_count": 40,
      "outputs": [
        {
          "output_type": "stream",
          "name": "stdout",
          "text": [
            "tf.Tensor(\n",
            "[[[ 0.9987719  -0.44653666 -0.88002515 ...  0.27994305  0.43024096\n",
            "   -0.80233413]\n",
            "  [ 1.0708886  -0.47897685 -0.78715    ...  0.29815227  0.4071091\n",
            "   -0.77409846]\n",
            "  [ 1.1089295  -0.5640421  -0.7498074  ...  0.28766805  0.39461902\n",
            "   -0.763138  ]\n",
            "  ...\n",
            "  [ 1.0284762  -0.72010547 -0.9244088  ...  0.4498362   0.5877408\n",
            "   -0.95179784]\n",
            "  [ 1.1045581  -0.73698145 -0.8781723  ...  0.4340835   0.59340334\n",
            "   -0.96184194]\n",
            "  [ 1.1618093  -0.82516384 -0.8002154  ...  0.4121789   0.57727003\n",
            "   -0.95657974]]], shape=(1, 40, 512), dtype=float32) (1, 40, 512)\n"
          ]
        }
      ]
    },
    {
      "cell_type": "code",
      "metadata": {
        "id": "DQnvGLCzRmZ7"
      },
      "source": [
        "class Decoder(tf.keras.layers.Layer):\n",
        "  def __init__(self, num_layers, d_model, num_heads, dff, rate=0.1):\n",
        "    super().__init__()\n",
        "\n",
        "    self.d_model = d_model\n",
        "    self.num_layers = num_layers\n",
        "\n",
        "    self.dec_layers = [DecoderLayer(d_model, num_heads, dff, rate) for _ in range(num_layers)]\n",
        "\n",
        "\n",
        "  def call(self, x, enc_output, training, padding_mask, look_ahead_mask):\n",
        "    attention_weights = {}\n",
        "\n",
        "    for i in range(self.num_layers):\n",
        "      x, block1, block2 = self.dec_layers[i](x, enc_output, training, padding_mask, look_ahead_mask)\n",
        "\n",
        "      attention_weights['decoder_layer{}_block1'.format(i+1)] = block1\n",
        "      attention_weights['decoder_layer{}_block2'.format(i+1)] = block2\n",
        "\n",
        "    return x, attention_weights"
      ],
      "execution_count": 41,
      "outputs": []
    },
    {
      "cell_type": "code",
      "metadata": {
        "id": "ovF60mjeTnfu",
        "colab": {
          "base_uri": "https://localhost:8080/"
        },
        "outputId": "4348610c-d1cd-4b73-c52e-bac16abdaf1f"
      },
      "source": [
        "# 위치 임베딩 + 포지셔널 임베딩\n",
        "embedded\n",
        "#인코더 아웃풋 \n",
        "Encoded\n",
        "\n",
        "# 디코더의 위치+포지셔널 임베딩(Teaching Force 과정이라 디코더 부분에 타겟(영어)도 넣어줌)\n",
        "target_embedder = TransformerEmbedding(d_model=512, input_vocab_size=tokenizer_en.vocab_size, maximum_position_encoding=512, dropout_rate=0.1)\n",
        "target_embedding = target_embedder(tf.cast(np.random.uniform(size=(1,40)), dtype=tf.float32), True)\n",
        "\n",
        "# 6층 디코더\n",
        "Decoder_layer = Decoder(num_layers=6, d_model=512, num_heads=8, dff=2048)\n",
        "\n",
        "Decoded, _ = Decoder_layer(target_embedding, Encoded, False, None, None) # Decoded에서 인코더와 디코더의 정보 결합\n",
        "print(Decoded, Decoded.shape)\n",
        "#최종출력\n",
        "print(\"6층 Decoder 출력 :\", sample_encoding.shape)"
      ],
      "execution_count": 42,
      "outputs": [
        {
          "output_type": "stream",
          "name": "stdout",
          "text": [
            "tf.Tensor(\n",
            "[[[ 0.39188397  0.25529486 -0.45154846 ... -0.36544695 -0.30132273\n",
            "   -0.37484854]\n",
            "  [ 0.39817527  0.25944892 -0.4496179  ... -0.37732658 -0.3082608\n",
            "   -0.37257338]\n",
            "  [ 0.38386202  0.26117158 -0.4471247  ... -0.3557147  -0.29412615\n",
            "   -0.36330026]\n",
            "  ...\n",
            "  [ 0.38605514  0.2577359  -0.460341   ... -0.3458712  -0.29189083\n",
            "   -0.3619252 ]\n",
            "  [ 0.39861462  0.26902366 -0.45167437 ... -0.35198662 -0.28380045\n",
            "   -0.3590948 ]\n",
            "  [ 0.4069819   0.2622811  -0.45293802 ... -0.35071152 -0.28248343\n",
            "   -0.3753809 ]]], shape=(1, 40, 512), dtype=float32) (1, 40, 512)\n",
            "6층 Decoder 출력 : (1, 40, 512)\n"
          ]
        }
      ]
    },
    {
      "cell_type": "markdown",
      "metadata": {
        "id": "03BBwaxOUPbJ"
      },
      "source": [
        "# 임베딩 + 인코딩 + 디코딩을 결합하는 Transformer Class 정의  \n",
        "최종적으로 지금까지 배웠던 임베딩, 인코딩, 디코딩을 결합하는 Transformer Class를 정의하겠습니다."
      ]
    },
    {
      "cell_type": "code",
      "metadata": {
        "id": "cgoRro-QUE3G"
      },
      "source": [
        "class Transformer(tf.keras.Model):\n",
        "  def __init__(self, num_layers, d_model, num_heads, dff, input_vocab_size, target_vocab_size, pe_input, pe_target, rate=0.1):\n",
        "    \n",
        "    # num_layers : 인코딩, 디코딩을 몇 층으로 할 지\n",
        "    # d_model : 임베딩의 차원\n",
        "    # num_heads : 병렬로 어텐션을 수행할 멀티 헤드 어텐션의 개수\n",
        "    # dff : 포인트와이즈 피드포워드 네트워크에서 몇 차원의 연산이 이루어 질 지\n",
        "    # input_vocab_size : 본 문제는 포르투갈어를 영어로 번역하는 문제이며, 포르투갈어 토크나이저의 총 단어수를 뜻함(처음 도입부에서 만들었음)\n",
        "    # target_vocab_size : 영어 토크나이저의 총 단어수를 뜻함(위와 마찬가지)\n",
        "    # pe_input : 별로 중요한 것은 아니지만, 위치 임베딩 할 때 위치 임베딩의 길이의 상한을 뜻함(포르투갈어)\n",
        "    # pe_target : 위치 임베딩의 상한(영어)\n",
        "    super().__init__()\n",
        "    \n",
        "    self.input_embedder = TransformerEmbedding(d_model, input_vocab_size, pe_input, rate) # 포르투갈어 임베딩\n",
        "    self.encoder = Encoder(num_layers, d_model, num_heads, dff, rate) # x층 인코더\n",
        "\n",
        "    self.target_embedder = TransformerEmbedding(d_model, target_vocab_size, pe_target, rate) # 영어 임베딩\n",
        "    self.decoder = Decoder(num_layers, d_model, num_heads, dff, rate) # x층 디코더\n",
        "\n",
        "    self.final_layer = tf.keras.layers.Dense(target_vocab_size) # 최종 출력 decoder (영어 단어의 수), 우리가 맞추려는 것은 영어 단어의 인덱스이므로..\n",
        "\n",
        "  def call(self, inp, tar, training):\n",
        "    # inp : 포르투갈어\n",
        "    # tar : 영어\n",
        "\n",
        "    \n",
        "    enc_mask = create_padding_mask(inp) # 인코더 패딩\n",
        "    dec_mask = create_padding_mask(inp) # 디코더 패딩\n",
        "    look_ahead_mask = create_masks(tar) # 디코더에 들어갈 look_ahead_mask 정의\n",
        "\n",
        "    inp_embedding = self.input_embedder(inp) # 인코더 임베딩 정의\n",
        "    enc_output = self.encoder(inp_embedding, training, enc_mask) # 인코더 아웃풋(디코더와 결합되게 됨)\n",
        "\n",
        "    tar_embedding = self.target_embedder(tar) # 디코더 임베딩 정의\n",
        "   \n",
        "    dec_output, attention_weights = self.decoder(tar_embedding, enc_output, training, dec_mask, look_ahead_mask)\n",
        "    \n",
        "    final_output = self.final_layer(dec_output) # 최종 영어 단어를 예측하는 아웃풋 정의\n",
        "\n",
        "    return final_output"
      ],
      "execution_count": 43,
      "outputs": []
    },
    {
      "cell_type": "code",
      "metadata": {
        "id": "4hwFuX2H-df4",
        "colab": {
          "base_uri": "https://localhost:8080/"
        },
        "outputId": "4812cdb7-d2be-44b4-807b-cd545e7b711c"
      },
      "source": [
        "# 트랜스포머 테스트하기\n",
        "sample_transformer = Transformer(6, 512, 8, 2048, tokenizer_pt.vocab_size + 2, tokenizer_en.vocab_size + 2, 10000, 10000)\n",
        "inp = tf.cast(np.random.randint(100,size=40)[np.newaxis, :], dtype=tf.int32)\n",
        "tar = tf.cast(np.random.randint(100,size=40)[np.newaxis, :], dtype=tf.int32)\n",
        "transformer = sample_transformer(inp, tar, False)\n",
        "print(transformer)"
      ],
      "execution_count": 44,
      "outputs": [
        {
          "output_type": "stream",
          "name": "stdout",
          "text": [
            "tf.Tensor(\n",
            "[[[-0.3416757  -0.01224706 -0.23590349 ...  0.38573787  0.19523567\n",
            "    0.05642483]\n",
            "  [-0.35529822  0.001875   -0.22414103 ...  0.39191824  0.17733194\n",
            "    0.06335662]\n",
            "  [-0.3615755   0.00827411 -0.23213813 ...  0.38875252  0.17540911\n",
            "    0.06196881]\n",
            "  ...\n",
            "  [-0.37940654  0.04815622 -0.23276608 ...  0.41383153  0.16474468\n",
            "    0.08197714]\n",
            "  [-0.37296623  0.04112445 -0.22565718 ...  0.4081885   0.15889496\n",
            "    0.07576528]\n",
            "  [-0.3850116   0.03779677 -0.23603584 ...  0.4190974   0.16130911\n",
            "    0.08150374]]], shape=(1, 40, 8089), dtype=float32)\n"
          ]
        }
      ]
    },
    {
      "cell_type": "markdown",
      "metadata": {
        "id": "0LuW2OLQ_LC3"
      },
      "source": [
        "#하이퍼파라미터 설정하기\n",
        "테스트를 위해서 층을 가볍게 쌓아보도록 하겠습니다."
      ]
    },
    {
      "cell_type": "code",
      "metadata": {
        "id": "3IBl1m3T_KdU"
      },
      "source": [
        "num_layers = 4    # 4층 인코더, 디코더 쌓기\n",
        "d_model = 128   # 단어의 임베딩 차원을 128로\n",
        "dff = 512  # 포인트와이즈 피드포워드 네트워크의 일시적인 차원을 512\n",
        "num_heads = 8 # 멀티 헤드 어텐션을 8개로 병렬 처리\n",
        "SEQ_LEN = 40\n",
        "\n",
        "input_vocab_size = tokenizer_pt.vocab_size + 2\n",
        "target_vocab_size = tokenizer_en.vocab_size + 2\n",
        "dropout_rate = 0.1"
      ],
      "execution_count": 45,
      "outputs": []
    },
    {
      "cell_type": "markdown",
      "metadata": {
        "id": "oJlCBwNE_Sex"
      },
      "source": [
        "# 옵티마이저 설정하기\n",
        "옵티마이저는 논문에 따라서 성능이 좋았다는 옵티마이저를 복사 붙여넣기 하였습니다."
      ]
    },
    {
      "cell_type": "markdown",
      "source": [
        "`InvalidArgumentError: Value for attr 'T' of int64 is not in the list of allowed values: bfloat16, half, float, double, complex64, complex128`  \n",
        "**error 수정**  \n",
        "1. `!pip uninstall imgaug`  \n",
        "`!pip install imgaug==0.4.0`\n",
        "\n",
        "2. `pip install protobuf==3.20.*`"
      ],
      "metadata": {
        "id": "uMb8oCt8H2HP"
      }
    },
    {
      "cell_type": "code",
      "source": [
        "!pip uninstall imgaug\n",
        "!pip install imgaug==0.4.0"
      ],
      "metadata": {
        "id": "g0s4fII-C7Ys"
      },
      "execution_count": null,
      "outputs": []
    },
    {
      "cell_type": "code",
      "source": [
        "pip install protobuf==3.20.*"
      ],
      "metadata": {
        "id": "IcLmOgnrDZEg"
      },
      "execution_count": null,
      "outputs": []
    },
    {
      "cell_type": "code",
      "metadata": {
        "id": "wH6O3Gvs_R0O"
      },
      "source": [
        "class CustomSchedule(tf.keras.optimizers.schedules.LearningRateSchedule):\n",
        "  def __init__(self, d_model, warmup_steps=4000):\n",
        "    super(CustomSchedule, self).__init__()\n",
        "    \n",
        "    self.d_model = d_model\n",
        "    self.d_model = tf.cast(self.d_model, tf.float32)\n",
        "\n",
        "    self.warmup_steps = warmup_steps\n",
        "    \n",
        "  def __call__(self, step):\n",
        "    arg1 = tf.math.rsqrt(step)\n",
        "    arg2 = step * (self.warmup_steps ** -1.5)\n",
        "    \n",
        "    return tf.math.rsqrt(self.d_model) * tf.math.minimum(arg1, arg2)\n",
        "\n",
        "learning_rate = CustomSchedule(d_model)\n",
        "\n",
        "optimizer = tf.keras.optimizers.Adam(learning_rate, beta_1=0.9, beta_2=0.98, \n",
        "                                     epsilon=1e-9)"
      ],
      "execution_count": 46,
      "outputs": []
    },
    {
      "cell_type": "markdown",
      "metadata": {
        "id": "ZemqrgPw_bPe"
      },
      "source": [
        "# Loss 함수 설정하기\n",
        "loss 함수 또한 중요한 부분인데, transformer에서는 패딩되는 부분을 Loss를 계산할 때 연산하지 않겠습니다."
      ]
    },
    {
      "cell_type": "code",
      "metadata": {
        "id": "vl-ogg3D_eru"
      },
      "source": [
        "loss_object = tf.keras.losses.SparseCategoricalCrossentropy(from_logits=True, reduction='none') #from_logits=True로 하면 Dense 이후 softmax layer 값 출력\n",
        "\n",
        "def loss_function(real, pred):\n",
        "  mask = tf.math.logical_not(tf.math.equal(real, 0)) # 예를 들어서 실제 자료(0은 패딩)가 [1,2,3,4,5,0,0,0,0,0] 이라면 [0,0,0,0,0,1,1,1,1,1]로 바꿔 줌\n",
        "                                                     # 이후 tf.math.logical_not을 활용해서 [True,True,True,True,True,False,False,False,False,False]으로 바꿔 줌\n",
        "  loss_ = loss_object(real, pred) # loss_는 패딩을 고려하지 않은 loss 값\n",
        "\n",
        "  mask = tf.cast(mask, dtype=loss_.dtype) # [True,True,True,True,True,False,False,False,False,False]를 [1,1,1,1,1,0,0,0,0,0] 으로 바꿔 줌\n",
        "  loss_ *= mask # loss에 mask를 곱해서, 패딩인 부분은 0처리 해줌\n",
        "\n",
        "  return tf.reduce_sum(loss_)/tf.reduce_sum(mask)\n",
        "\n",
        "train_loss = tf.keras.metrics.Mean(name='train_loss')\n",
        "train_accuracy = tf.keras.metrics.SparseCategoricalAccuracy(name='train_accuracy')"
      ],
      "execution_count": 47,
      "outputs": []
    },
    {
      "cell_type": "markdown",
      "metadata": {
        "id": "6zZ0hEBSD5ka"
      },
      "source": [
        "# 모델 훈련"
      ]
    },
    {
      "cell_type": "code",
      "metadata": {
        "id": "Z2GySrPlEx2l"
      },
      "source": [
        "transformer = Transformer(num_layers, d_model, num_heads, dff,\n",
        "                          input_vocab_size, target_vocab_size, \n",
        "                          pe_input=10000, \n",
        "                          pe_target=10000,\n",
        "                          rate=0.1)"
      ],
      "execution_count": 48,
      "outputs": []
    },
    {
      "cell_type": "code",
      "metadata": {
        "id": "k07jNkQIw9N6"
      },
      "source": [
        "# 인풋, 아웃풋의 텐셔 shape 정의\n",
        "train_step_signature = [\n",
        "    tf.TensorSpec(shape=(None, None), dtype=tf.int64),\n",
        "    tf.TensorSpec(shape=(None, None), dtype=tf.int64),\n",
        "]\n",
        "\n",
        "# tf.function을 사용하면 그래프를 미리 컴파일 하기 때문에 속도가 상당히 빠름\n",
        "# 같은 GPU여도 케라스에 비해서 체감상 7~8배 정도의 차이가 나는 것 같음\n",
        "@tf.function(input_signature=train_step_signature)\n",
        "def train_step(inp, tar):\n",
        "  tar_inp = tar[:, :-1]\n",
        "  tar_real = tar[:, 1:]\n",
        "  \n",
        "  with tf.GradientTape() as tape:\n",
        "    predictions = transformer(inp, tar_inp, True)\n",
        "    loss = loss_function(tar_real, predictions)\n",
        "\n",
        "  gradients = tape.gradient(loss, transformer.trainable_variables)    \n",
        "  optimizer.apply_gradients(zip(gradients, transformer.trainable_variables))\n",
        "  \n",
        "  train_loss(loss)\n",
        "  train_accuracy(tar_real, predictions)"
      ],
      "execution_count": 49,
      "outputs": []
    },
    {
      "cell_type": "code",
      "metadata": {
        "id": "1Iq2uReVFS1J"
      },
      "source": [
        "# 저장할 체크포인트 지정\n",
        "checkpoint_path = \"./\"\n",
        "\n",
        "ckpt = tf.train.Checkpoint(transformer=transformer,\n",
        "                           optimizer=optimizer)\n",
        "\n",
        "ckpt_manager = tf.train.CheckpointManager(ckpt, checkpoint_path, max_to_keep=5)\n",
        "\n",
        "# if a checkpoint exists, restore the latest checkpoint.\n",
        "if ckpt_manager.latest_checkpoint:\n",
        "  ckpt.restore(ckpt_manager.latest_checkpoint)\n",
        "  print ('Latest checkpoint restored!!')"
      ],
      "execution_count": 50,
      "outputs": []
    },
    {
      "cell_type": "code",
      "metadata": {
        "id": "xHAeCJP-xZCu",
        "colab": {
          "base_uri": "https://localhost:8080/"
        },
        "outputId": "1fa27af9-a850-49ab-c4a1-d5970828a3d0"
      },
      "source": [
        "import time\n",
        "# 20 에포크 훈련\n",
        "for epoch in range(20):\n",
        "  start = time.time()\n",
        "  \n",
        "  train_loss.reset_states()\n",
        "  train_accuracy.reset_states()\n",
        "  \n",
        "  # input : 포루투갈어, tar : 영어\n",
        "  for (batch, (inp, tar)) in enumerate(train_dataset):\n",
        "    train_step(inp, tar)\n",
        "    \n",
        "    if batch % 50 == 0:\n",
        "      print ('Epoch {} Batch {} Loss {:.4f} Accuracy {:.4f}'.format(\n",
        "          epoch + 1, batch, train_loss.result(), train_accuracy.result()))\n",
        "      \n",
        "  if (epoch + 1) % 5 == 0:\n",
        "    ckpt_save_path = ckpt_manager.save()\n",
        "    print ('Saving checkpoint for epoch {} at {}'.format(epoch+1,\n",
        "                                                         ckpt_save_path))\n",
        "    \n",
        "  print ('Epoch {} Loss {:.4f} Accuracy {:.4f}'.format(epoch + 1, \n",
        "                                                train_loss.result(), \n",
        "                                                train_accuracy.result()))\n",
        "\n",
        "  print ('Time taken for 1 epoch: {} secs\\n'.format(time.time() - start))"
      ],
      "execution_count": 51,
      "outputs": [
        {
          "output_type": "stream",
          "name": "stdout",
          "text": [
            "Epoch 1 Batch 0 Loss 9.0374 Accuracy 0.0000\n",
            "Epoch 1 Batch 50 Loss 8.9590 Accuracy 0.0048\n",
            "Epoch 1 Batch 100 Loss 8.8538 Accuracy 0.0150\n",
            "Epoch 1 Batch 150 Loss 8.7487 Accuracy 0.0197\n",
            "Epoch 1 Batch 200 Loss 8.6203 Accuracy 0.0226\n",
            "Epoch 1 Batch 250 Loss 8.4644 Accuracy 0.0255\n",
            "Epoch 1 Batch 300 Loss 8.2863 Accuracy 0.0295\n",
            "Epoch 1 Batch 350 Loss 8.1014 Accuracy 0.0339\n",
            "Epoch 1 Batch 400 Loss 7.9208 Accuracy 0.0375\n",
            "Epoch 1 Batch 450 Loss 7.7560 Accuracy 0.0402\n",
            "Epoch 1 Batch 500 Loss 7.6088 Accuracy 0.0428\n",
            "Epoch 1 Batch 550 Loss 7.4740 Accuracy 0.0459\n",
            "Epoch 1 Batch 600 Loss 7.3496 Accuracy 0.0490\n",
            "Epoch 1 Batch 650 Loss 7.2293 Accuracy 0.0523\n",
            "Epoch 1 Batch 700 Loss 7.1162 Accuracy 0.0554\n",
            "Epoch 1 Loss 7.1118 Accuracy 0.0555\n",
            "Time taken for 1 epoch: 104.83914351463318 secs\n",
            "\n",
            "Epoch 2 Batch 0 Loss 5.5925 Accuracy 0.0967\n",
            "Epoch 2 Batch 50 Loss 5.4749 Accuracy 0.1020\n",
            "Epoch 2 Batch 100 Loss 5.4146 Accuracy 0.1052\n",
            "Epoch 2 Batch 150 Loss 5.3568 Accuracy 0.1076\n",
            "Epoch 2 Batch 200 Loss 5.3181 Accuracy 0.1099\n",
            "Epoch 2 Batch 250 Loss 5.2747 Accuracy 0.1117\n",
            "Epoch 2 Batch 300 Loss 5.2395 Accuracy 0.1131\n",
            "Epoch 2 Batch 350 Loss 5.2044 Accuracy 0.1145\n",
            "Epoch 2 Batch 400 Loss 5.1716 Accuracy 0.1160\n",
            "Epoch 2 Batch 450 Loss 5.1425 Accuracy 0.1173\n",
            "Epoch 2 Batch 500 Loss 5.1155 Accuracy 0.1186\n",
            "Epoch 2 Batch 550 Loss 5.0881 Accuracy 0.1201\n",
            "Epoch 2 Batch 600 Loss 5.0628 Accuracy 0.1212\n",
            "Epoch 2 Batch 650 Loss 5.0375 Accuracy 0.1226\n",
            "Epoch 2 Batch 700 Loss 5.0141 Accuracy 0.1237\n",
            "Epoch 2 Loss 5.0136 Accuracy 0.1237\n",
            "Time taken for 1 epoch: 43.519991636276245 secs\n",
            "\n",
            "Epoch 3 Batch 0 Loss 4.4747 Accuracy 0.1336\n",
            "Epoch 3 Batch 50 Loss 4.6263 Accuracy 0.1435\n",
            "Epoch 3 Batch 100 Loss 4.6219 Accuracy 0.1441\n",
            "Epoch 3 Batch 150 Loss 4.6003 Accuracy 0.1445\n",
            "Epoch 3 Batch 200 Loss 4.5866 Accuracy 0.1444\n",
            "Epoch 3 Batch 250 Loss 4.5759 Accuracy 0.1452\n",
            "Epoch 3 Batch 300 Loss 4.5675 Accuracy 0.1454\n",
            "Epoch 3 Batch 350 Loss 4.5545 Accuracy 0.1460\n",
            "Epoch 3 Batch 400 Loss 4.5416 Accuracy 0.1465\n",
            "Epoch 3 Batch 450 Loss 4.5320 Accuracy 0.1469\n",
            "Epoch 3 Batch 500 Loss 4.5198 Accuracy 0.1475\n",
            "Epoch 3 Batch 550 Loss 4.5090 Accuracy 0.1481\n",
            "Epoch 3 Batch 600 Loss 4.4949 Accuracy 0.1486\n",
            "Epoch 3 Batch 650 Loss 4.4801 Accuracy 0.1495\n",
            "Epoch 3 Batch 700 Loss 4.4662 Accuracy 0.1503\n",
            "Epoch 3 Loss 4.4657 Accuracy 0.1503\n",
            "Time taken for 1 epoch: 41.83490514755249 secs\n",
            "\n",
            "Epoch 4 Batch 0 Loss 4.1098 Accuracy 0.1689\n",
            "Epoch 4 Batch 50 Loss 4.1506 Accuracy 0.1652\n",
            "Epoch 4 Batch 100 Loss 4.1553 Accuracy 0.1652\n",
            "Epoch 4 Batch 150 Loss 4.1438 Accuracy 0.1656\n",
            "Epoch 4 Batch 200 Loss 4.1301 Accuracy 0.1665\n",
            "Epoch 4 Batch 250 Loss 4.1168 Accuracy 0.1666\n",
            "Epoch 4 Batch 300 Loss 4.1043 Accuracy 0.1675\n",
            "Epoch 4 Batch 350 Loss 4.0929 Accuracy 0.1688\n",
            "Epoch 4 Batch 400 Loss 4.0780 Accuracy 0.1697\n",
            "Epoch 4 Batch 450 Loss 4.0624 Accuracy 0.1707\n",
            "Epoch 4 Batch 500 Loss 4.0513 Accuracy 0.1713\n",
            "Epoch 4 Batch 550 Loss 4.0369 Accuracy 0.1727\n",
            "Epoch 4 Batch 600 Loss 4.0211 Accuracy 0.1737\n",
            "Epoch 4 Batch 650 Loss 4.0087 Accuracy 0.1747\n",
            "Epoch 4 Batch 700 Loss 3.9922 Accuracy 0.1759\n",
            "Epoch 4 Loss 3.9917 Accuracy 0.1759\n",
            "Time taken for 1 epoch: 41.980591773986816 secs\n",
            "\n",
            "Epoch 5 Batch 0 Loss 3.7612 Accuracy 0.2011\n",
            "Epoch 5 Batch 50 Loss 3.6367 Accuracy 0.1928\n",
            "Epoch 5 Batch 100 Loss 3.6138 Accuracy 0.1948\n",
            "Epoch 5 Batch 150 Loss 3.6070 Accuracy 0.1957\n",
            "Epoch 5 Batch 200 Loss 3.6016 Accuracy 0.1969\n",
            "Epoch 5 Batch 250 Loss 3.6015 Accuracy 0.1975\n",
            "Epoch 5 Batch 300 Loss 3.5867 Accuracy 0.1986\n",
            "Epoch 5 Batch 350 Loss 3.5784 Accuracy 0.1994\n",
            "Epoch 5 Batch 400 Loss 3.5716 Accuracy 0.1998\n",
            "Epoch 5 Batch 450 Loss 3.5641 Accuracy 0.2005\n",
            "Epoch 5 Batch 500 Loss 3.5548 Accuracy 0.2010\n",
            "Epoch 5 Batch 550 Loss 3.5454 Accuracy 0.2018\n",
            "Epoch 5 Batch 600 Loss 3.5350 Accuracy 0.2025\n",
            "Epoch 5 Batch 650 Loss 3.5275 Accuracy 0.2030\n",
            "Epoch 5 Batch 700 Loss 3.5169 Accuracy 0.2039\n",
            "Saving checkpoint for epoch 5 at ./ckpt-1\n",
            "Epoch 5 Loss 3.5164 Accuracy 0.2039\n",
            "Time taken for 1 epoch: 43.298977851867676 secs\n",
            "\n",
            "Epoch 6 Batch 0 Loss 3.0761 Accuracy 0.2397\n",
            "Epoch 6 Batch 50 Loss 3.1761 Accuracy 0.2225\n",
            "Epoch 6 Batch 100 Loss 3.1821 Accuracy 0.2230\n",
            "Epoch 6 Batch 150 Loss 3.1661 Accuracy 0.2231\n",
            "Epoch 6 Batch 200 Loss 3.1561 Accuracy 0.2231\n",
            "Epoch 6 Batch 250 Loss 3.1573 Accuracy 0.2230\n",
            "Epoch 6 Batch 300 Loss 3.1555 Accuracy 0.2233\n",
            "Epoch 6 Batch 350 Loss 3.1535 Accuracy 0.2230\n",
            "Epoch 6 Batch 400 Loss 3.1524 Accuracy 0.2230\n",
            "Epoch 6 Batch 450 Loss 3.1499 Accuracy 0.2231\n",
            "Epoch 6 Batch 500 Loss 3.1454 Accuracy 0.2235\n",
            "Epoch 6 Batch 550 Loss 3.1380 Accuracy 0.2236\n",
            "Epoch 6 Batch 600 Loss 3.1317 Accuracy 0.2240\n",
            "Epoch 6 Batch 650 Loss 3.1274 Accuracy 0.2243\n",
            "Epoch 6 Batch 700 Loss 3.1221 Accuracy 0.2249\n",
            "Epoch 6 Loss 3.1220 Accuracy 0.2249\n",
            "Time taken for 1 epoch: 41.796260833740234 secs\n",
            "\n",
            "Epoch 7 Batch 0 Loss 2.8930 Accuracy 0.2405\n",
            "Epoch 7 Batch 50 Loss 2.7543 Accuracy 0.2414\n",
            "Epoch 7 Batch 100 Loss 2.7464 Accuracy 0.2450\n",
            "Epoch 7 Batch 150 Loss 2.7616 Accuracy 0.2429\n",
            "Epoch 7 Batch 200 Loss 2.7511 Accuracy 0.2445\n",
            "Epoch 7 Batch 250 Loss 2.7565 Accuracy 0.2436\n",
            "Epoch 7 Batch 300 Loss 2.7625 Accuracy 0.2439\n",
            "Epoch 7 Batch 350 Loss 2.7559 Accuracy 0.2436\n",
            "Epoch 7 Batch 400 Loss 2.7548 Accuracy 0.2438\n",
            "Epoch 7 Batch 450 Loss 2.7514 Accuracy 0.2441\n",
            "Epoch 7 Batch 500 Loss 2.7456 Accuracy 0.2443\n",
            "Epoch 7 Batch 550 Loss 2.7427 Accuracy 0.2446\n",
            "Epoch 7 Batch 600 Loss 2.7385 Accuracy 0.2448\n",
            "Epoch 7 Batch 650 Loss 2.7339 Accuracy 0.2451\n",
            "Epoch 7 Batch 700 Loss 2.7298 Accuracy 0.2453\n",
            "Epoch 7 Loss 2.7298 Accuracy 0.2453\n",
            "Time taken for 1 epoch: 42.32273983955383 secs\n",
            "\n",
            "Epoch 8 Batch 0 Loss 2.5365 Accuracy 0.2589\n",
            "Epoch 8 Batch 50 Loss 2.3138 Accuracy 0.2704\n",
            "Epoch 8 Batch 100 Loss 2.3494 Accuracy 0.2665\n",
            "Epoch 8 Batch 150 Loss 2.3708 Accuracy 0.2646\n",
            "Epoch 8 Batch 200 Loss 2.3842 Accuracy 0.2636\n",
            "Epoch 8 Batch 250 Loss 2.3893 Accuracy 0.2641\n",
            "Epoch 8 Batch 300 Loss 2.3936 Accuracy 0.2644\n",
            "Epoch 8 Batch 350 Loss 2.3953 Accuracy 0.2640\n",
            "Epoch 8 Batch 400 Loss 2.3972 Accuracy 0.2643\n",
            "Epoch 8 Batch 450 Loss 2.3982 Accuracy 0.2643\n",
            "Epoch 8 Batch 500 Loss 2.4013 Accuracy 0.2640\n",
            "Epoch 8 Batch 550 Loss 2.4017 Accuracy 0.2641\n",
            "Epoch 8 Batch 600 Loss 2.4031 Accuracy 0.2644\n",
            "Epoch 8 Batch 650 Loss 2.4025 Accuracy 0.2646\n",
            "Epoch 8 Batch 700 Loss 2.4015 Accuracy 0.2645\n",
            "Epoch 8 Loss 2.4008 Accuracy 0.2646\n",
            "Time taken for 1 epoch: 41.87624645233154 secs\n",
            "\n",
            "Epoch 9 Batch 0 Loss 2.0980 Accuracy 0.2722\n",
            "Epoch 9 Batch 50 Loss 2.0825 Accuracy 0.2811\n",
            "Epoch 9 Batch 100 Loss 2.0915 Accuracy 0.2793\n",
            "Epoch 9 Batch 150 Loss 2.0950 Accuracy 0.2797\n",
            "Epoch 9 Batch 200 Loss 2.1103 Accuracy 0.2798\n",
            "Epoch 9 Batch 250 Loss 2.1179 Accuracy 0.2797\n",
            "Epoch 9 Batch 300 Loss 2.1291 Accuracy 0.2792\n",
            "Epoch 9 Batch 350 Loss 2.1342 Accuracy 0.2793\n",
            "Epoch 9 Batch 400 Loss 2.1372 Accuracy 0.2791\n",
            "Epoch 9 Batch 450 Loss 2.1423 Accuracy 0.2791\n",
            "Epoch 9 Batch 500 Loss 2.1470 Accuracy 0.2790\n",
            "Epoch 9 Batch 550 Loss 2.1495 Accuracy 0.2787\n",
            "Epoch 9 Batch 600 Loss 2.1531 Accuracy 0.2787\n",
            "Epoch 9 Batch 650 Loss 2.1569 Accuracy 0.2786\n",
            "Epoch 9 Batch 700 Loss 2.1587 Accuracy 0.2787\n",
            "Epoch 9 Loss 2.1592 Accuracy 0.2786\n",
            "Time taken for 1 epoch: 42.527132987976074 secs\n",
            "\n",
            "Epoch 10 Batch 0 Loss 1.8741 Accuracy 0.2952\n",
            "Epoch 10 Batch 50 Loss 1.8888 Accuracy 0.2970\n",
            "Epoch 10 Batch 100 Loss 1.9081 Accuracy 0.2943\n",
            "Epoch 10 Batch 150 Loss 1.9084 Accuracy 0.2932\n",
            "Epoch 10 Batch 200 Loss 1.9232 Accuracy 0.2921\n",
            "Epoch 10 Batch 250 Loss 1.9298 Accuracy 0.2920\n",
            "Epoch 10 Batch 300 Loss 1.9398 Accuracy 0.2909\n",
            "Epoch 10 Batch 350 Loss 1.9507 Accuracy 0.2900\n",
            "Epoch 10 Batch 400 Loss 1.9529 Accuracy 0.2904\n",
            "Epoch 10 Batch 450 Loss 1.9577 Accuracy 0.2906\n",
            "Epoch 10 Batch 500 Loss 1.9620 Accuracy 0.2905\n",
            "Epoch 10 Batch 550 Loss 1.9686 Accuracy 0.2904\n",
            "Epoch 10 Batch 600 Loss 1.9734 Accuracy 0.2901\n",
            "Epoch 10 Batch 650 Loss 1.9770 Accuracy 0.2899\n",
            "Epoch 10 Batch 700 Loss 1.9813 Accuracy 0.2896\n",
            "Saving checkpoint for epoch 10 at ./ckpt-2\n",
            "Epoch 10 Loss 1.9818 Accuracy 0.2896\n",
            "Time taken for 1 epoch: 44.92461013793945 secs\n",
            "\n",
            "Epoch 11 Batch 0 Loss 1.7665 Accuracy 0.2812\n",
            "Epoch 11 Batch 50 Loss 1.7212 Accuracy 0.3068\n",
            "Epoch 11 Batch 100 Loss 1.7324 Accuracy 0.3062\n",
            "Epoch 11 Batch 150 Loss 1.7486 Accuracy 0.3057\n",
            "Epoch 11 Batch 200 Loss 1.7614 Accuracy 0.3041\n",
            "Epoch 11 Batch 250 Loss 1.7762 Accuracy 0.3030\n",
            "Epoch 11 Batch 300 Loss 1.7810 Accuracy 0.3026\n",
            "Epoch 11 Batch 350 Loss 1.7860 Accuracy 0.3027\n",
            "Epoch 11 Batch 400 Loss 1.7914 Accuracy 0.3019\n",
            "Epoch 11 Batch 450 Loss 1.7990 Accuracy 0.3019\n",
            "Epoch 11 Batch 500 Loss 1.8067 Accuracy 0.3012\n",
            "Epoch 11 Batch 550 Loss 1.8152 Accuracy 0.3004\n",
            "Epoch 11 Batch 600 Loss 1.8217 Accuracy 0.2999\n",
            "Epoch 11 Batch 650 Loss 1.8316 Accuracy 0.2989\n",
            "Epoch 11 Batch 700 Loss 1.8385 Accuracy 0.2983\n",
            "Epoch 11 Loss 1.8391 Accuracy 0.2984\n",
            "Time taken for 1 epoch: 53.314483642578125 secs\n",
            "\n",
            "Epoch 12 Batch 0 Loss 1.4591 Accuracy 0.3241\n",
            "Epoch 12 Batch 50 Loss 1.5839 Accuracy 0.3166\n",
            "Epoch 12 Batch 100 Loss 1.6052 Accuracy 0.3127\n",
            "Epoch 12 Batch 150 Loss 1.6266 Accuracy 0.3107\n",
            "Epoch 12 Batch 200 Loss 1.6457 Accuracy 0.3102\n",
            "Epoch 12 Batch 250 Loss 1.6556 Accuracy 0.3101\n",
            "Epoch 12 Batch 300 Loss 1.6631 Accuracy 0.3093\n",
            "Epoch 12 Batch 350 Loss 1.6728 Accuracy 0.3092\n",
            "Epoch 12 Batch 400 Loss 1.6840 Accuracy 0.3085\n",
            "Epoch 12 Batch 450 Loss 1.6899 Accuracy 0.3080\n",
            "Epoch 12 Batch 500 Loss 1.6973 Accuracy 0.3079\n",
            "Epoch 12 Batch 550 Loss 1.7043 Accuracy 0.3080\n",
            "Epoch 12 Batch 600 Loss 1.7097 Accuracy 0.3073\n",
            "Epoch 12 Batch 650 Loss 1.7154 Accuracy 0.3066\n",
            "Epoch 12 Batch 700 Loss 1.7196 Accuracy 0.3061\n",
            "Epoch 12 Loss 1.7196 Accuracy 0.3062\n",
            "Time taken for 1 epoch: 49.537269592285156 secs\n",
            "\n",
            "Epoch 13 Batch 0 Loss 1.4562 Accuracy 0.3215\n",
            "Epoch 13 Batch 50 Loss 1.4869 Accuracy 0.3234\n",
            "Epoch 13 Batch 100 Loss 1.5086 Accuracy 0.3193\n",
            "Epoch 13 Batch 150 Loss 1.5231 Accuracy 0.3186\n",
            "Epoch 13 Batch 200 Loss 1.5396 Accuracy 0.3181\n",
            "Epoch 13 Batch 250 Loss 1.5469 Accuracy 0.3177\n",
            "Epoch 13 Batch 300 Loss 1.5554 Accuracy 0.3167\n",
            "Epoch 13 Batch 350 Loss 1.5626 Accuracy 0.3158\n",
            "Epoch 13 Batch 400 Loss 1.5693 Accuracy 0.3157\n",
            "Epoch 13 Batch 450 Loss 1.5793 Accuracy 0.3149\n",
            "Epoch 13 Batch 500 Loss 1.5888 Accuracy 0.3145\n",
            "Epoch 13 Batch 550 Loss 1.5986 Accuracy 0.3140\n",
            "Epoch 13 Batch 600 Loss 1.6055 Accuracy 0.3135\n",
            "Epoch 13 Batch 650 Loss 1.6117 Accuracy 0.3127\n",
            "Epoch 13 Batch 700 Loss 1.6183 Accuracy 0.3123\n",
            "Epoch 13 Loss 1.6184 Accuracy 0.3123\n",
            "Time taken for 1 epoch: 43.17153596878052 secs\n",
            "\n",
            "Epoch 14 Batch 0 Loss 1.4082 Accuracy 0.3328\n",
            "Epoch 14 Batch 50 Loss 1.3902 Accuracy 0.3265\n",
            "Epoch 14 Batch 100 Loss 1.4155 Accuracy 0.3253\n",
            "Epoch 14 Batch 150 Loss 1.4279 Accuracy 0.3258\n",
            "Epoch 14 Batch 200 Loss 1.4403 Accuracy 0.3244\n",
            "Epoch 14 Batch 250 Loss 1.4490 Accuracy 0.3241\n",
            "Epoch 14 Batch 300 Loss 1.4623 Accuracy 0.3236\n",
            "Epoch 14 Batch 350 Loss 1.4766 Accuracy 0.3222\n",
            "Epoch 14 Batch 400 Loss 1.4861 Accuracy 0.3223\n",
            "Epoch 14 Batch 450 Loss 1.4949 Accuracy 0.3208\n",
            "Epoch 14 Batch 500 Loss 1.5031 Accuracy 0.3205\n",
            "Epoch 14 Batch 550 Loss 1.5118 Accuracy 0.3198\n",
            "Epoch 14 Batch 600 Loss 1.5198 Accuracy 0.3196\n",
            "Epoch 14 Batch 650 Loss 1.5260 Accuracy 0.3190\n",
            "Epoch 14 Batch 700 Loss 1.5315 Accuracy 0.3190\n",
            "Epoch 14 Loss 1.5316 Accuracy 0.3191\n",
            "Time taken for 1 epoch: 42.87478685379028 secs\n",
            "\n",
            "Epoch 15 Batch 0 Loss 1.3635 Accuracy 0.3097\n",
            "Epoch 15 Batch 50 Loss 1.3339 Accuracy 0.3319\n",
            "Epoch 15 Batch 100 Loss 1.3418 Accuracy 0.3339\n",
            "Epoch 15 Batch 150 Loss 1.3560 Accuracy 0.3316\n",
            "Epoch 15 Batch 200 Loss 1.3652 Accuracy 0.3304\n",
            "Epoch 15 Batch 250 Loss 1.3794 Accuracy 0.3296\n",
            "Epoch 15 Batch 300 Loss 1.3926 Accuracy 0.3291\n",
            "Epoch 15 Batch 350 Loss 1.3997 Accuracy 0.3287\n",
            "Epoch 15 Batch 400 Loss 1.4113 Accuracy 0.3278\n",
            "Epoch 15 Batch 450 Loss 1.4188 Accuracy 0.3272\n",
            "Epoch 15 Batch 500 Loss 1.4258 Accuracy 0.3264\n",
            "Epoch 15 Batch 550 Loss 1.4333 Accuracy 0.3256\n",
            "Epoch 15 Batch 600 Loss 1.4403 Accuracy 0.3250\n",
            "Epoch 15 Batch 650 Loss 1.4465 Accuracy 0.3248\n",
            "Epoch 15 Batch 700 Loss 1.4545 Accuracy 0.3243\n",
            "Saving checkpoint for epoch 15 at ./ckpt-3\n",
            "Epoch 15 Loss 1.4549 Accuracy 0.3243\n",
            "Time taken for 1 epoch: 43.526620864868164 secs\n",
            "\n",
            "Epoch 16 Batch 0 Loss 1.3103 Accuracy 0.3442\n",
            "Epoch 16 Batch 50 Loss 1.2817 Accuracy 0.3351\n",
            "Epoch 16 Batch 100 Loss 1.2916 Accuracy 0.3342\n",
            "Epoch 16 Batch 150 Loss 1.3025 Accuracy 0.3343\n",
            "Epoch 16 Batch 200 Loss 1.3083 Accuracy 0.3342\n",
            "Epoch 16 Batch 250 Loss 1.3188 Accuracy 0.3330\n",
            "Epoch 16 Batch 300 Loss 1.3283 Accuracy 0.3317\n",
            "Epoch 16 Batch 350 Loss 1.3395 Accuracy 0.3310\n",
            "Epoch 16 Batch 400 Loss 1.3497 Accuracy 0.3301\n",
            "Epoch 16 Batch 450 Loss 1.3560 Accuracy 0.3298\n",
            "Epoch 16 Batch 500 Loss 1.3627 Accuracy 0.3299\n",
            "Epoch 16 Batch 550 Loss 1.3696 Accuracy 0.3296\n",
            "Epoch 16 Batch 600 Loss 1.3761 Accuracy 0.3288\n",
            "Epoch 16 Batch 650 Loss 1.3815 Accuracy 0.3289\n",
            "Epoch 16 Batch 700 Loss 1.3886 Accuracy 0.3285\n",
            "Epoch 16 Loss 1.3884 Accuracy 0.3285\n",
            "Time taken for 1 epoch: 42.37609314918518 secs\n",
            "\n",
            "Epoch 17 Batch 0 Loss 1.2597 Accuracy 0.3225\n",
            "Epoch 17 Batch 50 Loss 1.2125 Accuracy 0.3422\n",
            "Epoch 17 Batch 100 Loss 1.2216 Accuracy 0.3407\n",
            "Epoch 17 Batch 150 Loss 1.2330 Accuracy 0.3385\n",
            "Epoch 17 Batch 200 Loss 1.2442 Accuracy 0.3384\n",
            "Epoch 17 Batch 250 Loss 1.2559 Accuracy 0.3371\n",
            "Epoch 17 Batch 300 Loss 1.2668 Accuracy 0.3363\n",
            "Epoch 17 Batch 350 Loss 1.2753 Accuracy 0.3352\n",
            "Epoch 17 Batch 400 Loss 1.2849 Accuracy 0.3350\n",
            "Epoch 17 Batch 450 Loss 1.2935 Accuracy 0.3343\n",
            "Epoch 17 Batch 500 Loss 1.3000 Accuracy 0.3337\n",
            "Epoch 17 Batch 550 Loss 1.3066 Accuracy 0.3331\n",
            "Epoch 17 Batch 600 Loss 1.3142 Accuracy 0.3327\n",
            "Epoch 17 Batch 650 Loss 1.3215 Accuracy 0.3323\n",
            "Epoch 17 Batch 700 Loss 1.3285 Accuracy 0.3319\n",
            "Epoch 17 Loss 1.3290 Accuracy 0.3318\n",
            "Time taken for 1 epoch: 41.917532444000244 secs\n",
            "\n",
            "Epoch 18 Batch 0 Loss 1.2048 Accuracy 0.3478\n",
            "Epoch 18 Batch 50 Loss 1.1368 Accuracy 0.3434\n",
            "Epoch 18 Batch 100 Loss 1.1686 Accuracy 0.3430\n",
            "Epoch 18 Batch 150 Loss 1.1818 Accuracy 0.3429\n",
            "Epoch 18 Batch 200 Loss 1.1875 Accuracy 0.3417\n",
            "Epoch 18 Batch 250 Loss 1.1968 Accuracy 0.3417\n",
            "Epoch 18 Batch 300 Loss 1.2075 Accuracy 0.3406\n",
            "Epoch 18 Batch 350 Loss 1.2181 Accuracy 0.3399\n",
            "Epoch 18 Batch 400 Loss 1.2308 Accuracy 0.3390\n",
            "Epoch 18 Batch 450 Loss 1.2394 Accuracy 0.3388\n",
            "Epoch 18 Batch 500 Loss 1.2506 Accuracy 0.3381\n",
            "Epoch 18 Batch 550 Loss 1.2570 Accuracy 0.3377\n",
            "Epoch 18 Batch 600 Loss 1.2637 Accuracy 0.3373\n",
            "Epoch 18 Batch 650 Loss 1.2713 Accuracy 0.3366\n",
            "Epoch 18 Batch 700 Loss 1.2776 Accuracy 0.3355\n",
            "Epoch 18 Loss 1.2775 Accuracy 0.3355\n",
            "Time taken for 1 epoch: 42.82500982284546 secs\n",
            "\n",
            "Epoch 19 Batch 0 Loss 1.0430 Accuracy 0.3719\n",
            "Epoch 19 Batch 50 Loss 1.0895 Accuracy 0.3490\n",
            "Epoch 19 Batch 100 Loss 1.0978 Accuracy 0.3483\n",
            "Epoch 19 Batch 150 Loss 1.1144 Accuracy 0.3468\n",
            "Epoch 19 Batch 200 Loss 1.1263 Accuracy 0.3462\n",
            "Epoch 19 Batch 250 Loss 1.1417 Accuracy 0.3450\n",
            "Epoch 19 Batch 300 Loss 1.1571 Accuracy 0.3442\n",
            "Epoch 19 Batch 350 Loss 1.1679 Accuracy 0.3434\n",
            "Epoch 19 Batch 400 Loss 1.1781 Accuracy 0.3431\n",
            "Epoch 19 Batch 450 Loss 1.1888 Accuracy 0.3424\n",
            "Epoch 19 Batch 500 Loss 1.2005 Accuracy 0.3418\n",
            "Epoch 19 Batch 550 Loss 1.2069 Accuracy 0.3413\n",
            "Epoch 19 Batch 600 Loss 1.2147 Accuracy 0.3408\n",
            "Epoch 19 Batch 650 Loss 1.2209 Accuracy 0.3404\n",
            "Epoch 19 Batch 700 Loss 1.2265 Accuracy 0.3398\n",
            "Epoch 19 Loss 1.2268 Accuracy 0.3398\n",
            "Time taken for 1 epoch: 41.604063749313354 secs\n",
            "\n",
            "Epoch 20 Batch 0 Loss 1.0208 Accuracy 0.3734\n",
            "Epoch 20 Batch 50 Loss 1.0515 Accuracy 0.3605\n",
            "Epoch 20 Batch 100 Loss 1.0696 Accuracy 0.3562\n",
            "Epoch 20 Batch 150 Loss 1.0837 Accuracy 0.3527\n",
            "Epoch 20 Batch 200 Loss 1.0919 Accuracy 0.3522\n",
            "Epoch 20 Batch 250 Loss 1.1053 Accuracy 0.3514\n",
            "Epoch 20 Batch 300 Loss 1.1185 Accuracy 0.3497\n",
            "Epoch 20 Batch 350 Loss 1.1304 Accuracy 0.3487\n",
            "Epoch 20 Batch 400 Loss 1.1387 Accuracy 0.3478\n",
            "Epoch 20 Batch 450 Loss 1.1465 Accuracy 0.3469\n",
            "Epoch 20 Batch 500 Loss 1.1543 Accuracy 0.3462\n",
            "Epoch 20 Batch 550 Loss 1.1604 Accuracy 0.3454\n",
            "Epoch 20 Batch 600 Loss 1.1679 Accuracy 0.3447\n",
            "Epoch 20 Batch 650 Loss 1.1752 Accuracy 0.3443\n",
            "Epoch 20 Batch 700 Loss 1.1818 Accuracy 0.3434\n",
            "Saving checkpoint for epoch 20 at ./ckpt-4\n",
            "Epoch 20 Loss 1.1819 Accuracy 0.3434\n",
            "Time taken for 1 epoch: 42.49810218811035 secs\n",
            "\n"
          ]
        }
      ]
    },
    {
      "cell_type": "markdown",
      "metadata": {
        "id": "45sJJKmdL8u-"
      },
      "source": [
        "# 평가  \n",
        "![Imgur](https://i.imgur.com/cUjg18g.png)\n",
        "평가는 훈련과는 다르게 진행됩니다.  \n",
        "번역할 포르투갈어는 인코더 레이어를 거쳐 인코딩이 되고,  \n",
        "디코더에는 영어 문장을 넣지 않고, 영어 문장의 시작 토큰만 디코더의 인풋으로 들어가게 됩니다.  \n",
        "그러면 인코딩 된 것과 + 시작 토큰을 활용해서 다음 단어를 예측하고,  \n",
        "인코딩 된 것 + 시작 토큰 + 전에 예측된 단어를 활용해서 다음 단어를 예측하는 방식입니다. \n",
        "  \n",
        "그림에서는 bos가 시작 토큰입니다.\n",
        "![Imgur](https://i.imgur.com/F6QseH6.png)"
      ]
    },
    {
      "cell_type": "code",
      "metadata": {
        "id": "fdaL7LLfGzaQ"
      },
      "source": [
        "def evaluate(inp_sentence):\n",
        "  # inp_sentence : 문자 (string)\n",
        "  start_token = [tokenizer_pt.vocab_size] # 포르투갈어의 시작 토큰\n",
        "  end_token = [tokenizer_pt.vocab_size + 1] # 포르투갈어의 끝 토큰\n",
        "  \n",
        "  # 시작 토큰 + 포르투갈 어 + 끝 토큰\n",
        "  inp_sentence = start_token + tokenizer_pt.encode(inp_sentence) + end_token\n",
        "  encoder_input = tf.expand_dims(inp_sentence, 0)\n",
        "  \n",
        "  # 디코더의 인풋은 영어 문장의 시작 토큰만 들어감\n",
        "  decoder_input = [tokenizer_en.vocab_size]\n",
        "  output = tf.expand_dims(decoder_input, 0)\n",
        "  \n",
        "  for i in range(MAX_LENGTH):\n",
        "    # predictions.shape == (batch_size, seq_len, vocab_size)\n",
        "    predictions = transformer(encoder_input, output, False)\n",
        "    \n",
        "    # 예측 결과에서 마지막 부분만 추출\n",
        "    predictions = predictions[: ,-1:, :]  # (batch_size, 1, vocab_size)\n",
        "\n",
        "    predicted_id = tf.cast(tf.argmax(predictions, axis=-1), tf.int32)\n",
        "\n",
        "    # 만약에 예측된 영어 단어가 영어의 끝 토큰에 해당한다면 예측을 끝냄\n",
        "    if predicted_id == tokenizer_en.vocab_size+1:\n",
        "      return tf.squeeze(output, axis=0)\n",
        "    \n",
        "    # 예측된 단어를 전 단어와 결합하여 다음 예측에 써먹음\n",
        "    output = tf.concat([output, predicted_id], axis=-1)\n",
        "\n",
        "  return tf.squeeze(output, axis=0)"
      ],
      "execution_count": 52,
      "outputs": []
    },
    {
      "cell_type": "code",
      "metadata": {
        "id": "ECK0XFzCHBxv"
      },
      "source": [
        "def translate(sentence):\n",
        "  result= evaluate(sentence)\n",
        "  \n",
        "  predicted_sentence = tokenizer_en.decode([i for i in result \n",
        "                                            if i < tokenizer_en.vocab_size])  \n",
        "\n",
        "  print('Input: {}'.format(sentence))\n",
        "  print('Predicted translation: {}'.format(predicted_sentence))"
      ],
      "execution_count": 53,
      "outputs": []
    },
    {
      "cell_type": "markdown",
      "metadata": {
        "id": "Fe6y5oDePZOI"
      },
      "source": [
        "실제로 번역해보기  \n",
        "제법 포르투갈 어를 영어 문법에 맞게 번역하는 것을 알 수 있습니다."
      ]
    },
    {
      "cell_type": "code",
      "metadata": {
        "id": "czjSk64HHCq5",
        "colab": {
          "base_uri": "https://localhost:8080/"
        },
        "outputId": "cae3e0f8-e6ec-4090-ff7f-41569d57f479"
      },
      "source": [
        "translate(\"este é um problema que temos que resolver.\")\n",
        "print (\"Real translation: this is a problem we have to solve .\")"
      ],
      "execution_count": 54,
      "outputs": [
        {
          "output_type": "stream",
          "name": "stdout",
          "text": [
            "Input: este é um problema que temos que resolver.\n",
            "Predicted translation: this is a problem that we have to solve .\n",
            "Real translation: this is a problem we have to solve .\n"
          ]
        }
      ]
    },
    {
      "cell_type": "code",
      "metadata": {
        "id": "WkQuQyvjHcbJ",
        "colab": {
          "base_uri": "https://localhost:8080/"
        },
        "outputId": "2a93755d-c6a0-4977-bb15-0f89a629fdc1"
      },
      "source": [
        "translate(\"os meus vizinhos ouviram sobre esta ideia.\")\n",
        "print (\"Real translation: and my neighboring homes heard about this idea .\")"
      ],
      "execution_count": 55,
      "outputs": [
        {
          "output_type": "stream",
          "name": "stdout",
          "text": [
            "Input: os meus vizinhos ouviram sobre esta ideia.\n",
            "Predicted translation: my neighbors heard about this idea .\n",
            "Real translation: and my neighboring homes heard about this idea .\n"
          ]
        }
      ]
    },
    {
      "cell_type": "code",
      "metadata": {
        "id": "76ZizBuyPbd8",
        "colab": {
          "base_uri": "https://localhost:8080/"
        },
        "outputId": "69ee5f5b-c3cb-4a9b-9639-26e8e7bb6bb4"
      },
      "source": [
        "translate(\"vou então muito rapidamente partilhar convosco algumas histórias de algumas coisas mágicas que aconteceram.\")\n",
        "print (\"Real translation: so i 'll just share with you some stories very quickly of some magical things that have happened .\")"
      ],
      "execution_count": 56,
      "outputs": [
        {
          "output_type": "stream",
          "name": "stdout",
          "text": [
            "Input: vou então muito rapidamente partilhar convosco algumas histórias de algumas coisas mágicas que aconteceram.\n",
            "Predicted translation: so i 'm very quickly going to share with you a few lovely stories that happened .\n",
            "Real translation: so i 'll just share with you some stories very quickly of some magical things that have happened .\n"
          ]
        }
      ]
    },
    {
      "cell_type": "code",
      "metadata": {
        "id": "29vxXk81PlbE",
        "colab": {
          "base_uri": "https://localhost:8080/"
        },
        "outputId": "ba8f32eb-2af5-41f5-af51-5ed7fab1c38d"
      },
      "source": [
        "translate(\"este é o primeiro livro que eu fiz.\")\n",
        "print (\"Real translation: this is the first book i've ever done.\")"
      ],
      "execution_count": 57,
      "outputs": [
        {
          "output_type": "stream",
          "name": "stdout",
          "text": [
            "Input: este é o primeiro livro que eu fiz.\n",
            "Predicted translation: this is the first book i did .\n",
            "Real translation: this is the first book i've ever done.\n"
          ]
        }
      ]
    },
    {
      "cell_type": "markdown",
      "metadata": {
        "id": "xn44IonrZhnV"
      },
      "source": [
        "출처  \n",
        "http://jalammar.github.io/illustrated-gpt2/  \n",
        "https://d2l.ai/chapter_recurrent-modern/seq2seq.html  \n",
        "https://www.tensorflow.org/tutorials/text/transformer\n"
      ]
    }
  ]
}